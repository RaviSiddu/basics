{
  "nbformat": 4,
  "nbformat_minor": 0,
  "metadata": {
    "colab": {
      "name": "TensorFlow and Keras Build various MLP architectures for MNIST dataset.ipynb",
      "provenance": [],
      "collapsed_sections": [],
      "toc_visible": true,
      "include_colab_link": true
    },
    "kernelspec": {
      "name": "python3",
      "display_name": "Python 3"
    },
    "accelerator": "GPU"
  },
  "cells": [
    {
      "cell_type": "markdown",
      "metadata": {
        "id": "view-in-github",
        "colab_type": "text"
      },
      "source": [
        "<a href=\"https://colab.research.google.com/github/RaviSiddu/basics/blob/master/TensorFlow_and_Keras_Build_various_MLP_architectures_for_MNIST_dataset.ipynb\" target=\"_parent\"><img src=\"https://colab.research.google.com/assets/colab-badge.svg\" alt=\"Open In Colab\"/></a>"
      ]
    },
    {
      "cell_type": "code",
      "metadata": {
        "id": "K9ew53ut-rUU",
        "colab_type": "code",
        "colab": {}
      },
      "source": [
        ""
      ],
      "execution_count": 0,
      "outputs": []
    },
    {
      "cell_type": "markdown",
      "metadata": {
        "id": "5S_Zk-22_S1r",
        "colab_type": "text"
      },
      "source": [
        "# TensorFlow and Keras: Build various MLP architectures for MNIST dataset [M]\n",
        "\n",
        "\n",
        "### Objective:\n",
        "#### Model with three dirrent architecture\n",
        "####  1) 2-Hidden layer architecture (784-472-168-10 architecture)\n",
        "\n",
        "#### 2) 3-Hidden layer architecture (784-352-164-124-10 architecture)\n",
        "\n",
        "#### 3) 5-Hidden layer architecture (784-216-170-136-80-38-10 architecture)\n",
        "\n",
        "#### Train-Test error plot\n",
        "\n",
        "#### Activation='relu'+ Adam Optimizer+Batch_Normalization +Drop_out"
      ]
    },
    {
      "cell_type": "code",
      "metadata": {
        "id": "fzKbNYdCLnkM",
        "colab_type": "code",
        "outputId": "5dd0dc3c-4b9a-4ff9-faeb-c71a9c5f0565",
        "colab": {
          "base_uri": "https://localhost:8080/",
          "height": 77
        }
      },
      "source": [
        "from keras.utils import np_utils\n",
        "from keras.datasets import mnist\n",
        "import seaborn as sns\n",
        "from keras.initializers import RandomNormal"
      ],
      "execution_count": 1,
      "outputs": [
        {
          "output_type": "stream",
          "text": [
            "Using TensorFlow backend.\n"
          ],
          "name": "stderr"
        },
        {
          "output_type": "display_data",
          "data": {
            "text/html": [
              "<p style=\"color: red;\">\n",
              "The default version of TensorFlow in Colab will soon switch to TensorFlow 2.x.<br>\n",
              "We recommend you <a href=\"https://www.tensorflow.org/guide/migrate\" target=\"_blank\">upgrade</a> now \n",
              "or ensure your notebook will continue to use TensorFlow 1.x via the <code>%tensorflow_version 1.x</code> magic:\n",
              "<a href=\"https://colab.research.google.com/notebooks/tensorflow_version.ipynb\" target=\"_blank\">more info</a>.</p>\n"
            ],
            "text/plain": [
              "<IPython.core.display.HTML object>"
            ]
          },
          "metadata": {
            "tags": []
          }
        }
      ]
    },
    {
      "cell_type": "code",
      "metadata": {
        "id": "f78lnvU8Mak7",
        "colab_type": "code",
        "outputId": "7430b865-ec69-4d01-8d26-5f16d7185a4a",
        "colab": {
          "base_uri": "https://localhost:8080/",
          "height": 33
        }
      },
      "source": [
        "%matplotlib\n",
        "import matplotlib.pyplot as plt\n",
        "import numpy as np\n",
        "import time\n",
        "\n",
        "def plt_dynamic(x,vy,ty,ax,colors=['b']):\n",
        "  ax.plot(x,vy,'b',label='Validation Loss')\n",
        "  ax.plot(x,ty,'r',label='Train Loss')\n",
        "  plt.legend()\n",
        "  plt.grid()\n",
        "  fig.canvas.draw()\n",
        "  "
      ],
      "execution_count": 2,
      "outputs": [
        {
          "output_type": "stream",
          "text": [
            "Using matplotlib backend: agg\n"
          ],
          "name": "stdout"
        }
      ]
    },
    {
      "cell_type": "code",
      "metadata": {
        "id": "p51d-RledK_V",
        "colab_type": "code",
        "outputId": "5b859b6f-7cdd-4e78-fd67-cf5783347a44",
        "colab": {
          "base_uri": "https://localhost:8080/",
          "height": 50
        }
      },
      "source": [
        "#the data\n",
        "(x_train,y_train),(x_test,y_test)=mnist.load_data()"
      ],
      "execution_count": 3,
      "outputs": [
        {
          "output_type": "stream",
          "text": [
            "Downloading data from https://s3.amazonaws.com/img-datasets/mnist.npz\n",
            "11493376/11490434 [==============================] - 2s 0us/step\n"
          ],
          "name": "stdout"
        }
      ]
    },
    {
      "cell_type": "code",
      "metadata": {
        "id": "z-0w6v5HdyHm",
        "colab_type": "code",
        "outputId": "19619e86-b1e9-4659-c496-a8e0c5f97dbd",
        "colab": {
          "base_uri": "https://localhost:8080/",
          "height": 50
        }
      },
      "source": [
        "print(\"Number of training examples:\",x_train.shape[0],\"and each image is of shape(%d,%d)\"%(x_train.shape[1],x_train.shape[2]))\n",
        "print(\"Number of training examples :\", x_test.shape[0], \"and each image is of shape (%d, %d)\"%(x_test.shape[1], x_test.shape[2]))"
      ],
      "execution_count": 4,
      "outputs": [
        {
          "output_type": "stream",
          "text": [
            "Number of training examples: 60000 and each image is of shape(28,28)\n",
            "Number of training examples : 10000 and each image is of shape (28, 28)\n"
          ],
          "name": "stdout"
        }
      ]
    },
    {
      "cell_type": "code",
      "metadata": {
        "id": "PIIitQMLep3E",
        "colab_type": "code",
        "colab": {}
      },
      "source": [
        "# if you observe the input shape its 3 dimensional vector\n",
        "# for each image we have a (28*28) vector\n",
        "# we will convert the (28*28) vector into single dimensional vector of 1 * 784 \n",
        "\n",
        "x_train = x_train.reshape(x_train.shape[0], x_train.shape[1]*x_train.shape[2]) \n",
        "x_test = x_test.reshape(x_test.shape[0], x_test.shape[1]*x_test.shape[2])"
      ],
      "execution_count": 0,
      "outputs": []
    },
    {
      "cell_type": "code",
      "metadata": {
        "id": "tPepE9KHe4jl",
        "colab_type": "code",
        "outputId": "8c32ffc2-538a-411b-91c6-05580200c9b4",
        "colab": {
          "base_uri": "https://localhost:8080/",
          "height": 50
        }
      },
      "source": [
        "# after converting the input images from 3d to 2d vectors\n",
        "\n",
        "print(\"Number of training examples :\", x_train.shape[0], \"and each image is of shape (%d)\"%(x_train.shape[1]))\n",
        "print(\"Number of training examples :\", x_test.shape[0], \"and each image is of shape (%d)\"%(x_test.shape[1]))"
      ],
      "execution_count": 6,
      "outputs": [
        {
          "output_type": "stream",
          "text": [
            "Number of training examples : 60000 and each image is of shape (784)\n",
            "Number of training examples : 10000 and each image is of shape (784)\n"
          ],
          "name": "stdout"
        }
      ]
    },
    {
      "cell_type": "code",
      "metadata": {
        "id": "Ac8QTiOTe70x",
        "colab_type": "code",
        "outputId": "4a9f5cc1-8d66-4e60-9335-03965ab1b772",
        "colab": {
          "base_uri": "https://localhost:8080/",
          "height": 732
        }
      },
      "source": [
        "#Example data point\n",
        "print(x_train[0])"
      ],
      "execution_count": 7,
      "outputs": [
        {
          "output_type": "stream",
          "text": [
            "[  0   0   0   0   0   0   0   0   0   0   0   0   0   0   0   0   0   0\n",
            "   0   0   0   0   0   0   0   0   0   0   0   0   0   0   0   0   0   0\n",
            "   0   0   0   0   0   0   0   0   0   0   0   0   0   0   0   0   0   0\n",
            "   0   0   0   0   0   0   0   0   0   0   0   0   0   0   0   0   0   0\n",
            "   0   0   0   0   0   0   0   0   0   0   0   0   0   0   0   0   0   0\n",
            "   0   0   0   0   0   0   0   0   0   0   0   0   0   0   0   0   0   0\n",
            "   0   0   0   0   0   0   0   0   0   0   0   0   0   0   0   0   0   0\n",
            "   0   0   0   0   0   0   0   0   0   0   0   0   0   0   0   0   0   0\n",
            "   0   0   0   0   0   0   0   0   3  18  18  18 126 136 175  26 166 255\n",
            " 247 127   0   0   0   0   0   0   0   0   0   0   0   0  30  36  94 154\n",
            " 170 253 253 253 253 253 225 172 253 242 195  64   0   0   0   0   0   0\n",
            "   0   0   0   0   0  49 238 253 253 253 253 253 253 253 253 251  93  82\n",
            "  82  56  39   0   0   0   0   0   0   0   0   0   0   0   0  18 219 253\n",
            " 253 253 253 253 198 182 247 241   0   0   0   0   0   0   0   0   0   0\n",
            "   0   0   0   0   0   0   0   0  80 156 107 253 253 205  11   0  43 154\n",
            "   0   0   0   0   0   0   0   0   0   0   0   0   0   0   0   0   0   0\n",
            "   0  14   1 154 253  90   0   0   0   0   0   0   0   0   0   0   0   0\n",
            "   0   0   0   0   0   0   0   0   0   0   0   0   0 139 253 190   2   0\n",
            "   0   0   0   0   0   0   0   0   0   0   0   0   0   0   0   0   0   0\n",
            "   0   0   0   0   0  11 190 253  70   0   0   0   0   0   0   0   0   0\n",
            "   0   0   0   0   0   0   0   0   0   0   0   0   0   0   0   0  35 241\n",
            " 225 160 108   1   0   0   0   0   0   0   0   0   0   0   0   0   0   0\n",
            "   0   0   0   0   0   0   0   0   0  81 240 253 253 119  25   0   0   0\n",
            "   0   0   0   0   0   0   0   0   0   0   0   0   0   0   0   0   0   0\n",
            "   0   0  45 186 253 253 150  27   0   0   0   0   0   0   0   0   0   0\n",
            "   0   0   0   0   0   0   0   0   0   0   0   0   0  16  93 252 253 187\n",
            "   0   0   0   0   0   0   0   0   0   0   0   0   0   0   0   0   0   0\n",
            "   0   0   0   0   0   0   0 249 253 249  64   0   0   0   0   0   0   0\n",
            "   0   0   0   0   0   0   0   0   0   0   0   0   0   0  46 130 183 253\n",
            " 253 207   2   0   0   0   0   0   0   0   0   0   0   0   0   0   0   0\n",
            "   0   0   0   0  39 148 229 253 253 253 250 182   0   0   0   0   0   0\n",
            "   0   0   0   0   0   0   0   0   0   0   0   0  24 114 221 253 253 253\n",
            " 253 201  78   0   0   0   0   0   0   0   0   0   0   0   0   0   0   0\n",
            "   0   0  23  66 213 253 253 253 253 198  81   2   0   0   0   0   0   0\n",
            "   0   0   0   0   0   0   0   0   0   0  18 171 219 253 253 253 253 195\n",
            "  80   9   0   0   0   0   0   0   0   0   0   0   0   0   0   0   0   0\n",
            "  55 172 226 253 253 253 253 244 133  11   0   0   0   0   0   0   0   0\n",
            "   0   0   0   0   0   0   0   0   0   0 136 253 253 253 212 135 132  16\n",
            "   0   0   0   0   0   0   0   0   0   0   0   0   0   0   0   0   0   0\n",
            "   0   0   0   0   0   0   0   0   0   0   0   0   0   0   0   0   0   0\n",
            "   0   0   0   0   0   0   0   0   0   0   0   0   0   0   0   0   0   0\n",
            "   0   0   0   0   0   0   0   0   0   0   0   0   0   0   0   0   0   0\n",
            "   0   0   0   0   0   0   0   0   0   0   0   0   0   0   0   0   0   0\n",
            "   0   0   0   0   0   0   0   0   0   0]\n"
          ],
          "name": "stdout"
        }
      ]
    },
    {
      "cell_type": "code",
      "metadata": {
        "id": "_7vLHyRyfC1F",
        "colab_type": "code",
        "colab": {}
      },
      "source": [
        "# if we observe the above matrix each cell is having a value between 0-255\n",
        "# before we move to apply machine learning algorithms lets try to normalize the data\n",
        "# X => (X - Xmin)/(Xmax-Xmin) = X/255\n",
        "\n",
        "x_train = x_train/255\n",
        "x_test = x_test/255"
      ],
      "execution_count": 0,
      "outputs": []
    },
    {
      "cell_type": "code",
      "metadata": {
        "id": "wCxYeRiwfMUO",
        "colab_type": "code",
        "outputId": "59c01b1f-c401-4072-ad3f-a7c78c1e3791",
        "colab": {
          "base_uri": "https://localhost:8080/",
          "height": 1000
        }
      },
      "source": [
        "# example data point after normlizing\n",
        "print(x_train[0])"
      ],
      "execution_count": 9,
      "outputs": [
        {
          "output_type": "stream",
          "text": [
            "[0.         0.         0.         0.         0.         0.\n",
            " 0.         0.         0.         0.         0.         0.\n",
            " 0.         0.         0.         0.         0.         0.\n",
            " 0.         0.         0.         0.         0.         0.\n",
            " 0.         0.         0.         0.         0.         0.\n",
            " 0.         0.         0.         0.         0.         0.\n",
            " 0.         0.         0.         0.         0.         0.\n",
            " 0.         0.         0.         0.         0.         0.\n",
            " 0.         0.         0.         0.         0.         0.\n",
            " 0.         0.         0.         0.         0.         0.\n",
            " 0.         0.         0.         0.         0.         0.\n",
            " 0.         0.         0.         0.         0.         0.\n",
            " 0.         0.         0.         0.         0.         0.\n",
            " 0.         0.         0.         0.         0.         0.\n",
            " 0.         0.         0.         0.         0.         0.\n",
            " 0.         0.         0.         0.         0.         0.\n",
            " 0.         0.         0.         0.         0.         0.\n",
            " 0.         0.         0.         0.         0.         0.\n",
            " 0.         0.         0.         0.         0.         0.\n",
            " 0.         0.         0.         0.         0.         0.\n",
            " 0.         0.         0.         0.         0.         0.\n",
            " 0.         0.         0.         0.         0.         0.\n",
            " 0.         0.         0.         0.         0.         0.\n",
            " 0.         0.         0.         0.         0.         0.\n",
            " 0.         0.         0.         0.         0.         0.\n",
            " 0.         0.         0.01176471 0.07058824 0.07058824 0.07058824\n",
            " 0.49411765 0.53333333 0.68627451 0.10196078 0.65098039 1.\n",
            " 0.96862745 0.49803922 0.         0.         0.         0.\n",
            " 0.         0.         0.         0.         0.         0.\n",
            " 0.         0.         0.11764706 0.14117647 0.36862745 0.60392157\n",
            " 0.66666667 0.99215686 0.99215686 0.99215686 0.99215686 0.99215686\n",
            " 0.88235294 0.6745098  0.99215686 0.94901961 0.76470588 0.25098039\n",
            " 0.         0.         0.         0.         0.         0.\n",
            " 0.         0.         0.         0.         0.         0.19215686\n",
            " 0.93333333 0.99215686 0.99215686 0.99215686 0.99215686 0.99215686\n",
            " 0.99215686 0.99215686 0.99215686 0.98431373 0.36470588 0.32156863\n",
            " 0.32156863 0.21960784 0.15294118 0.         0.         0.\n",
            " 0.         0.         0.         0.         0.         0.\n",
            " 0.         0.         0.         0.07058824 0.85882353 0.99215686\n",
            " 0.99215686 0.99215686 0.99215686 0.99215686 0.77647059 0.71372549\n",
            " 0.96862745 0.94509804 0.         0.         0.         0.\n",
            " 0.         0.         0.         0.         0.         0.\n",
            " 0.         0.         0.         0.         0.         0.\n",
            " 0.         0.         0.31372549 0.61176471 0.41960784 0.99215686\n",
            " 0.99215686 0.80392157 0.04313725 0.         0.16862745 0.60392157\n",
            " 0.         0.         0.         0.         0.         0.\n",
            " 0.         0.         0.         0.         0.         0.\n",
            " 0.         0.         0.         0.         0.         0.\n",
            " 0.         0.05490196 0.00392157 0.60392157 0.99215686 0.35294118\n",
            " 0.         0.         0.         0.         0.         0.\n",
            " 0.         0.         0.         0.         0.         0.\n",
            " 0.         0.         0.         0.         0.         0.\n",
            " 0.         0.         0.         0.         0.         0.\n",
            " 0.         0.54509804 0.99215686 0.74509804 0.00784314 0.\n",
            " 0.         0.         0.         0.         0.         0.\n",
            " 0.         0.         0.         0.         0.         0.\n",
            " 0.         0.         0.         0.         0.         0.\n",
            " 0.         0.         0.         0.         0.         0.04313725\n",
            " 0.74509804 0.99215686 0.2745098  0.         0.         0.\n",
            " 0.         0.         0.         0.         0.         0.\n",
            " 0.         0.         0.         0.         0.         0.\n",
            " 0.         0.         0.         0.         0.         0.\n",
            " 0.         0.         0.         0.         0.1372549  0.94509804\n",
            " 0.88235294 0.62745098 0.42352941 0.00392157 0.         0.\n",
            " 0.         0.         0.         0.         0.         0.\n",
            " 0.         0.         0.         0.         0.         0.\n",
            " 0.         0.         0.         0.         0.         0.\n",
            " 0.         0.         0.         0.31764706 0.94117647 0.99215686\n",
            " 0.99215686 0.46666667 0.09803922 0.         0.         0.\n",
            " 0.         0.         0.         0.         0.         0.\n",
            " 0.         0.         0.         0.         0.         0.\n",
            " 0.         0.         0.         0.         0.         0.\n",
            " 0.         0.         0.17647059 0.72941176 0.99215686 0.99215686\n",
            " 0.58823529 0.10588235 0.         0.         0.         0.\n",
            " 0.         0.         0.         0.         0.         0.\n",
            " 0.         0.         0.         0.         0.         0.\n",
            " 0.         0.         0.         0.         0.         0.\n",
            " 0.         0.0627451  0.36470588 0.98823529 0.99215686 0.73333333\n",
            " 0.         0.         0.         0.         0.         0.\n",
            " 0.         0.         0.         0.         0.         0.\n",
            " 0.         0.         0.         0.         0.         0.\n",
            " 0.         0.         0.         0.         0.         0.\n",
            " 0.         0.97647059 0.99215686 0.97647059 0.25098039 0.\n",
            " 0.         0.         0.         0.         0.         0.\n",
            " 0.         0.         0.         0.         0.         0.\n",
            " 0.         0.         0.         0.         0.         0.\n",
            " 0.         0.         0.18039216 0.50980392 0.71764706 0.99215686\n",
            " 0.99215686 0.81176471 0.00784314 0.         0.         0.\n",
            " 0.         0.         0.         0.         0.         0.\n",
            " 0.         0.         0.         0.         0.         0.\n",
            " 0.         0.         0.         0.         0.15294118 0.58039216\n",
            " 0.89803922 0.99215686 0.99215686 0.99215686 0.98039216 0.71372549\n",
            " 0.         0.         0.         0.         0.         0.\n",
            " 0.         0.         0.         0.         0.         0.\n",
            " 0.         0.         0.         0.         0.         0.\n",
            " 0.09411765 0.44705882 0.86666667 0.99215686 0.99215686 0.99215686\n",
            " 0.99215686 0.78823529 0.30588235 0.         0.         0.\n",
            " 0.         0.         0.         0.         0.         0.\n",
            " 0.         0.         0.         0.         0.         0.\n",
            " 0.         0.         0.09019608 0.25882353 0.83529412 0.99215686\n",
            " 0.99215686 0.99215686 0.99215686 0.77647059 0.31764706 0.00784314\n",
            " 0.         0.         0.         0.         0.         0.\n",
            " 0.         0.         0.         0.         0.         0.\n",
            " 0.         0.         0.         0.         0.07058824 0.67058824\n",
            " 0.85882353 0.99215686 0.99215686 0.99215686 0.99215686 0.76470588\n",
            " 0.31372549 0.03529412 0.         0.         0.         0.\n",
            " 0.         0.         0.         0.         0.         0.\n",
            " 0.         0.         0.         0.         0.         0.\n",
            " 0.21568627 0.6745098  0.88627451 0.99215686 0.99215686 0.99215686\n",
            " 0.99215686 0.95686275 0.52156863 0.04313725 0.         0.\n",
            " 0.         0.         0.         0.         0.         0.\n",
            " 0.         0.         0.         0.         0.         0.\n",
            " 0.         0.         0.         0.         0.53333333 0.99215686\n",
            " 0.99215686 0.99215686 0.83137255 0.52941176 0.51764706 0.0627451\n",
            " 0.         0.         0.         0.         0.         0.\n",
            " 0.         0.         0.         0.         0.         0.\n",
            " 0.         0.         0.         0.         0.         0.\n",
            " 0.         0.         0.         0.         0.         0.\n",
            " 0.         0.         0.         0.         0.         0.\n",
            " 0.         0.         0.         0.         0.         0.\n",
            " 0.         0.         0.         0.         0.         0.\n",
            " 0.         0.         0.         0.         0.         0.\n",
            " 0.         0.         0.         0.         0.         0.\n",
            " 0.         0.         0.         0.         0.         0.\n",
            " 0.         0.         0.         0.         0.         0.\n",
            " 0.         0.         0.         0.         0.         0.\n",
            " 0.         0.         0.         0.         0.         0.\n",
            " 0.         0.         0.         0.         0.         0.\n",
            " 0.         0.         0.         0.         0.         0.\n",
            " 0.         0.         0.         0.         0.         0.\n",
            " 0.         0.         0.         0.        ]\n"
          ],
          "name": "stdout"
        }
      ]
    },
    {
      "cell_type": "code",
      "metadata": {
        "id": "rmDIydISfU-A",
        "colab_type": "code",
        "outputId": "f0313745-720a-4f1c-e817-31caa88e948c",
        "colab": {
          "base_uri": "https://localhost:8080/",
          "height": 50
        }
      },
      "source": [
        "# here we are having a class number for each image\n",
        "print(\"Class label of first image :\", y_train[0])\n",
        "\n",
        "# lets convert this into a 10 dimensional vector\n",
        "# ex: consider an image is 5 convert it into 5 => [0, 0, 0, 0, 0, 1, 0, 0, 0, 0]\n",
        "# this conversion needed for MLPs \n",
        "\n",
        "y_train=np_utils.to_categorical(y_train,10)\n",
        "y_test=np_utils.to_categorical(y_test,10)\n",
        "\n",
        "print(\"After converting the output into a vector : \",y_train[0])\n",
        "\n"
      ],
      "execution_count": 10,
      "outputs": [
        {
          "output_type": "stream",
          "text": [
            "Class label of first image : 5\n",
            "After converting the output into a vector :  [0. 0. 0. 0. 0. 1. 0. 0. 0. 0.]\n"
          ],
          "name": "stdout"
        }
      ]
    },
    {
      "cell_type": "markdown",
      "metadata": {
        "id": "GZoMFmGAfz5k",
        "colab_type": "text"
      },
      "source": [
        "## Softax Classifier\n"
      ]
    },
    {
      "cell_type": "code",
      "metadata": {
        "id": "0x5Ca7evgEXt",
        "colab_type": "code",
        "colab": {}
      },
      "source": [
        "# https://keras.io/getting-started/sequential-model-guide/\n",
        "\n",
        "# The Sequential model is a linear stack of layers.\n",
        "# you can create a Sequential model by passing a list of layer instances to the constructor:\n",
        "\n",
        "# model = Sequential([\n",
        "#     Dense(32, input_shape=(784,)),\n",
        "#     Activation('relu'),\n",
        "#     Dense(10),\n",
        "#     Activation('softmax'),\n",
        "# ])\n",
        "\n",
        "# You can also simply add layers via the .add() method:\n",
        "\n",
        "# model = Sequential()\n",
        "# model.add(Dense(32, input_dim=784))\n",
        "# model.add(Activation('relu'))\n",
        "\n",
        "###\n",
        "\n",
        "# https://keras.io/layers/core/\n",
        "\n",
        "# keras.layers.Dense(units, activation=None, use_bias=True, kernel_initializer='glorot_uniform', \n",
        "# bias_initializer='zeros', kernel_regularizer=None, bias_regularizer=None, activity_regularizer=None, \n",
        "# kernel_constraint=None, bias_constraint=None)\n",
        "\n",
        "# Dense implements the operation: output = activation(dot(input, kernel) + bias) where\n",
        "# activation is the element-wise activation function passed as the activation argument, \n",
        "# kernel is a weights matrix created by the layer, and \n",
        "# bias is a bias vector created by the layer (only applicable if use_bias is True).\n",
        "\n",
        "# output = activation(dot(input, kernel) + bias)  => y = activation(WT. X + b)\n",
        "\n",
        "####\n",
        "\n",
        "# https://keras.io/activations/\n",
        "\n",
        "# Activations can either be used through an Activation layer, or through the activation argument supported by all forward layers:\n",
        "\n",
        "# from keras.layers import Activation, Dense\n",
        "\n",
        "# model.add(Dense(64))\n",
        "# model.add(Activation('tanh'))\n",
        "\n",
        "# This is equivalent to:\n",
        "# model.add(Dense(64, activation='tanh'))\n",
        "\n",
        "# there are many activation functions ar available ex: tanh, relu, softmax\n",
        "\n",
        "from keras.models import Sequential\n",
        "from keras.layers import Dense, Activation\n",
        "from keras.initializers import he_normal\n"
      ],
      "execution_count": 0,
      "outputs": []
    },
    {
      "cell_type": "code",
      "metadata": {
        "id": "tuUezLYzgh5U",
        "colab_type": "code",
        "colab": {}
      },
      "source": [
        "# some model parameters\n",
        "\n",
        "output_dim=10\n",
        "input_dim=x_train.shape[1]\n",
        "\n",
        "batch_size=128\n",
        "nb_epoch=20"
      ],
      "execution_count": 0,
      "outputs": []
    },
    {
      "cell_type": "markdown",
      "metadata": {
        "id": "g2D-34xwguxG",
        "colab_type": "text"
      },
      "source": [
        "# 1) 2-Hidden layer architecture (784-472-168-10 architecture)\n",
        "\n",
        "\n",
        "\n",
        "\n",
        "## 1.1 MLP + ReLU + ADAM"
      ]
    },
    {
      "cell_type": "code",
      "metadata": {
        "id": "ILF3fPl8hKGa",
        "colab_type": "code",
        "outputId": "37d77f3c-5ccf-4be5-d14a-996160c35a97",
        "colab": {
          "base_uri": "https://localhost:8080/",
          "height": 1000
        }
      },
      "source": [
        "import warnings\n",
        "warnings.filterwarnings(\"ignore\")\n",
        "\n",
        "model_relu=Sequential()\n",
        "model_relu.add(Dense(472,activation='relu',input_shape=(input_dim,),kernel_initializer=he_normal(seed=None)))\n",
        "model_relu.add(Dense(168,activation='relu',kernel_initializer=he_normal(seed=None)))\n",
        "model_relu.add(Dense(output_dim,activation='softmax'))\n",
        "\n",
        "print(model_relu.summary())\n",
        "\n",
        "model_relu.compile(optimizer='adam',loss='categorical_crossentropy',metrics=['accuracy'])\n",
        "\n",
        "history1=model_relu.fit(x_train,y_train,batch_size=batch_size,epochs=20,verbose=1,validation_data=(x_test,y_test))\n"
      ],
      "execution_count": 13,
      "outputs": [
        {
          "output_type": "stream",
          "text": [
            "WARNING:tensorflow:From /usr/local/lib/python3.6/dist-packages/keras/backend/tensorflow_backend.py:66: The name tf.get_default_graph is deprecated. Please use tf.compat.v1.get_default_graph instead.\n",
            "\n",
            "WARNING:tensorflow:From /usr/local/lib/python3.6/dist-packages/keras/backend/tensorflow_backend.py:541: The name tf.placeholder is deprecated. Please use tf.compat.v1.placeholder instead.\n",
            "\n",
            "WARNING:tensorflow:From /usr/local/lib/python3.6/dist-packages/keras/backend/tensorflow_backend.py:4479: The name tf.truncated_normal is deprecated. Please use tf.random.truncated_normal instead.\n",
            "\n",
            "WARNING:tensorflow:From /usr/local/lib/python3.6/dist-packages/keras/backend/tensorflow_backend.py:4432: The name tf.random_uniform is deprecated. Please use tf.random.uniform instead.\n",
            "\n",
            "Model: \"sequential_1\"\n",
            "_________________________________________________________________\n",
            "Layer (type)                 Output Shape              Param #   \n",
            "=================================================================\n",
            "dense_1 (Dense)              (None, 472)               370520    \n",
            "_________________________________________________________________\n",
            "dense_2 (Dense)              (None, 168)               79464     \n",
            "_________________________________________________________________\n",
            "dense_3 (Dense)              (None, 10)                1690      \n",
            "=================================================================\n",
            "Total params: 451,674\n",
            "Trainable params: 451,674\n",
            "Non-trainable params: 0\n",
            "_________________________________________________________________\n",
            "None\n",
            "WARNING:tensorflow:From /usr/local/lib/python3.6/dist-packages/keras/optimizers.py:793: The name tf.train.Optimizer is deprecated. Please use tf.compat.v1.train.Optimizer instead.\n",
            "\n",
            "WARNING:tensorflow:From /usr/local/lib/python3.6/dist-packages/keras/backend/tensorflow_backend.py:3576: The name tf.log is deprecated. Please use tf.math.log instead.\n",
            "\n",
            "WARNING:tensorflow:From /usr/local/lib/python3.6/dist-packages/tensorflow_core/python/ops/math_grad.py:1424: where (from tensorflow.python.ops.array_ops) is deprecated and will be removed in a future version.\n",
            "Instructions for updating:\n",
            "Use tf.where in 2.0, which has the same broadcast rule as np.where\n",
            "WARNING:tensorflow:From /usr/local/lib/python3.6/dist-packages/keras/backend/tensorflow_backend.py:1033: The name tf.assign_add is deprecated. Please use tf.compat.v1.assign_add instead.\n",
            "\n",
            "WARNING:tensorflow:From /usr/local/lib/python3.6/dist-packages/keras/backend/tensorflow_backend.py:1020: The name tf.assign is deprecated. Please use tf.compat.v1.assign instead.\n",
            "\n",
            "WARNING:tensorflow:From /usr/local/lib/python3.6/dist-packages/keras/backend/tensorflow_backend.py:3005: The name tf.Session is deprecated. Please use tf.compat.v1.Session instead.\n",
            "\n",
            "Train on 60000 samples, validate on 10000 samples\n",
            "Epoch 1/20\n",
            "WARNING:tensorflow:From /usr/local/lib/python3.6/dist-packages/keras/backend/tensorflow_backend.py:190: The name tf.get_default_session is deprecated. Please use tf.compat.v1.get_default_session instead.\n",
            "\n",
            "WARNING:tensorflow:From /usr/local/lib/python3.6/dist-packages/keras/backend/tensorflow_backend.py:197: The name tf.ConfigProto is deprecated. Please use tf.compat.v1.ConfigProto instead.\n",
            "\n",
            "WARNING:tensorflow:From /usr/local/lib/python3.6/dist-packages/keras/backend/tensorflow_backend.py:207: The name tf.global_variables is deprecated. Please use tf.compat.v1.global_variables instead.\n",
            "\n",
            "WARNING:tensorflow:From /usr/local/lib/python3.6/dist-packages/keras/backend/tensorflow_backend.py:216: The name tf.is_variable_initialized is deprecated. Please use tf.compat.v1.is_variable_initialized instead.\n",
            "\n",
            "WARNING:tensorflow:From /usr/local/lib/python3.6/dist-packages/keras/backend/tensorflow_backend.py:223: The name tf.variables_initializer is deprecated. Please use tf.compat.v1.variables_initializer instead.\n",
            "\n",
            "60000/60000 [==============================] - 8s 125us/step - loss: 0.2308 - acc: 0.9319 - val_loss: 0.1191 - val_acc: 0.9625\n",
            "Epoch 2/20\n",
            "60000/60000 [==============================] - 3s 51us/step - loss: 0.0862 - acc: 0.9741 - val_loss: 0.0765 - val_acc: 0.9772\n",
            "Epoch 3/20\n",
            "60000/60000 [==============================] - 3s 50us/step - loss: 0.0546 - acc: 0.9824 - val_loss: 0.0697 - val_acc: 0.9776\n",
            "Epoch 4/20\n",
            "60000/60000 [==============================] - 3s 51us/step - loss: 0.0374 - acc: 0.9883 - val_loss: 0.0739 - val_acc: 0.9763\n",
            "Epoch 5/20\n",
            "60000/60000 [==============================] - 3s 51us/step - loss: 0.0286 - acc: 0.9910 - val_loss: 0.0726 - val_acc: 0.9791\n",
            "Epoch 6/20\n",
            "60000/60000 [==============================] - 3s 50us/step - loss: 0.0194 - acc: 0.9940 - val_loss: 0.0682 - val_acc: 0.9818\n",
            "Epoch 7/20\n",
            "60000/60000 [==============================] - 3s 51us/step - loss: 0.0185 - acc: 0.9938 - val_loss: 0.0793 - val_acc: 0.9780\n",
            "Epoch 8/20\n",
            "60000/60000 [==============================] - 3s 50us/step - loss: 0.0138 - acc: 0.9956 - val_loss: 0.0808 - val_acc: 0.9785\n",
            "Epoch 9/20\n",
            "60000/60000 [==============================] - 3s 50us/step - loss: 0.0138 - acc: 0.9955 - val_loss: 0.0725 - val_acc: 0.9811\n",
            "Epoch 10/20\n",
            "60000/60000 [==============================] - 3s 50us/step - loss: 0.0129 - acc: 0.9955 - val_loss: 0.0823 - val_acc: 0.9800\n",
            "Epoch 11/20\n",
            "60000/60000 [==============================] - 3s 50us/step - loss: 0.0112 - acc: 0.9962 - val_loss: 0.0899 - val_acc: 0.9804\n",
            "Epoch 12/20\n",
            "60000/60000 [==============================] - 3s 49us/step - loss: 0.0111 - acc: 0.9960 - val_loss: 0.1147 - val_acc: 0.9746\n",
            "Epoch 13/20\n",
            "60000/60000 [==============================] - 3s 50us/step - loss: 0.0084 - acc: 0.9971 - val_loss: 0.0881 - val_acc: 0.9809\n",
            "Epoch 14/20\n",
            "60000/60000 [==============================] - 3s 50us/step - loss: 0.0066 - acc: 0.9978 - val_loss: 0.0942 - val_acc: 0.9775\n",
            "Epoch 15/20\n",
            "60000/60000 [==============================] - 3s 50us/step - loss: 0.0099 - acc: 0.9969 - val_loss: 0.0988 - val_acc: 0.9789\n",
            "Epoch 16/20\n",
            "60000/60000 [==============================] - 3s 50us/step - loss: 0.0110 - acc: 0.9963 - val_loss: 0.0833 - val_acc: 0.9811\n",
            "Epoch 17/20\n",
            "60000/60000 [==============================] - 3s 50us/step - loss: 0.0043 - acc: 0.9988 - val_loss: 0.0908 - val_acc: 0.9817\n",
            "Epoch 18/20\n",
            "60000/60000 [==============================] - 3s 52us/step - loss: 0.0075 - acc: 0.9974 - val_loss: 0.1071 - val_acc: 0.9795\n",
            "Epoch 19/20\n",
            "60000/60000 [==============================] - 3s 51us/step - loss: 0.0085 - acc: 0.9973 - val_loss: 0.0998 - val_acc: 0.9804\n",
            "Epoch 20/20\n",
            "60000/60000 [==============================] - 3s 50us/step - loss: 0.0069 - acc: 0.9977 - val_loss: 0.1139 - val_acc: 0.9792\n"
          ],
          "name": "stdout"
        }
      ]
    },
    {
      "cell_type": "code",
      "metadata": {
        "id": "bfcsbPacpQ6A",
        "colab_type": "code",
        "colab": {}
      },
      "source": [
        "%matplotlib inline"
      ],
      "execution_count": 0,
      "outputs": []
    },
    {
      "cell_type": "code",
      "metadata": {
        "id": "emPImsiSK5Ir",
        "colab_type": "code",
        "outputId": "bbe237da-ee20-476d-c932-300748658124",
        "colab": {
          "base_uri": "https://localhost:8080/",
          "height": 311
        }
      },
      "source": [
        "score=model_relu.evaluate(x_test,y_test,verbose=0)\n",
        "score1=score[0]\n",
        "score2=score[1]\n",
        "train_acc1=history1.history['acc']\n",
        "print(\"Test score:%.3f\"%score[0])\n",
        "print(\"Test accuracy\",score[1])\n",
        "\n",
        "fig,ax=plt.subplots(1,1)\n",
        "ax.set_xlabel('epoch');ax.set_ylabel('Categorical Crossentropy Loss')\n",
        "\n",
        "x=list(range(1,nb_epoch+1))\n",
        "\n",
        "vy1=history1.history['val_loss']\n",
        "ty1=history1.history['loss']\n",
        "\n",
        "plt_dynamic(x,vy1,ty1,ax)"
      ],
      "execution_count": 15,
      "outputs": [
        {
          "output_type": "stream",
          "text": [
            "Test score:0.114\n",
            "Test accuracy 0.9792\n"
          ],
          "name": "stdout"
        },
        {
          "output_type": "display_data",
          "data": {
            "image/png": "[encoded data removed]",
            "text/plain": [
              "<Figure size 432x288 with 1 Axes>"
            ]
          },
          "metadata": {
            "tags": []
          }
        }
      ]
    },
    {
      "cell_type": "markdown",
      "metadata": {
        "id": "k0evv0SX2AZp",
        "colab_type": "text"
      },
      "source": [
        "## 1.2MLP + Sigmoid activation + SGDOptimizer"
      ]
    },
    {
      "cell_type": "code",
      "metadata": {
        "id": "eT181t3D2JHD",
        "colab_type": "code",
        "colab": {
          "base_uri": "https://localhost:8080/",
          "height": 261
        },
        "outputId": "8453d20c-b71d-48b5-e182-2f0da66ce89a"
      },
      "source": [
        "\n",
        "# Multilayer perceptron\n",
        "\n",
        "model_sigmoid=Sequential()\n",
        "model_sigmoid.add(Dense(472,activation='sigmoid',input_shape=(input_dim,),kernel_initializer=he_normal(seed=None)))\n",
        "model_sigmoid.add(Dense(168,activation='sigmoid',kernel_initializer=he_normal(seed=None)))\n",
        "model_sigmoid.add(Dense(output_dim,activation='softmax'))\n",
        "\n",
        "print(model_relu.summary())"
      ],
      "execution_count": 16,
      "outputs": [
        {
          "output_type": "stream",
          "text": [
            "Model: \"sequential_1\"\n",
            "_________________________________________________________________\n",
            "Layer (type)                 Output Shape              Param #   \n",
            "=================================================================\n",
            "dense_1 (Dense)              (None, 472)               370520    \n",
            "_________________________________________________________________\n",
            "dense_2 (Dense)              (None, 168)               79464     \n",
            "_________________________________________________________________\n",
            "dense_3 (Dense)              (None, 10)                1690      \n",
            "=================================================================\n",
            "Total params: 451,674\n",
            "Trainable params: 451,674\n",
            "Non-trainable params: 0\n",
            "_________________________________________________________________\n",
            "None\n"
          ],
          "name": "stdout"
        }
      ]
    },
    {
      "cell_type": "code",
      "metadata": {
        "id": "IlQzZvYZ3C4u",
        "colab_type": "code",
        "colab": {
          "base_uri": "https://localhost:8080/",
          "height": 683
        },
        "outputId": "12129f3f-b9cf-40eb-a573-0985199fcf99"
      },
      "source": [
        "model_sigmoid.compile(optimizer='sgd',loss='categorical_crossentropy',metrics=['accuracy'])\n",
        "\n",
        "history12=model_sigmoid.fit(x_train,y_train,batch_size=batch_size,epochs=20,verbose=1,validation_data=(x_test,y_test))"
      ],
      "execution_count": 17,
      "outputs": [
        {
          "output_type": "stream",
          "text": [
            "Train on 60000 samples, validate on 10000 samples\n",
            "Epoch 1/20\n",
            "60000/60000 [==============================] - 3s 46us/step - loss: 2.2568 - acc: 0.2573 - val_loss: 2.1935 - val_acc: 0.5355\n",
            "Epoch 2/20\n",
            "60000/60000 [==============================] - 3s 43us/step - loss: 2.1344 - acc: 0.4961 - val_loss: 2.0595 - val_acc: 0.6280\n",
            "Epoch 3/20\n",
            "60000/60000 [==============================] - 3s 42us/step - loss: 1.9780 - acc: 0.6092 - val_loss: 1.8710 - val_acc: 0.6719\n",
            "Epoch 4/20\n",
            "60000/60000 [==============================] - 2s 42us/step - loss: 1.7660 - acc: 0.6705 - val_loss: 1.6311 - val_acc: 0.7284\n",
            "Epoch 5/20\n",
            "60000/60000 [==============================] - 3s 42us/step - loss: 1.5202 - acc: 0.7175 - val_loss: 1.3811 - val_acc: 0.7495\n",
            "Epoch 6/20\n",
            "60000/60000 [==============================] - 3s 42us/step - loss: 1.2873 - acc: 0.7546 - val_loss: 1.1643 - val_acc: 0.7742\n",
            "Epoch 7/20\n",
            "60000/60000 [==============================] - 2s 41us/step - loss: 1.0964 - acc: 0.7811 - val_loss: 0.9974 - val_acc: 0.8129\n",
            "Epoch 8/20\n",
            "60000/60000 [==============================] - 2s 41us/step - loss: 0.9502 - acc: 0.8017 - val_loss: 0.8699 - val_acc: 0.8125\n",
            "Epoch 9/20\n",
            "60000/60000 [==============================] - 2s 41us/step - loss: 0.8401 - acc: 0.8169 - val_loss: 0.7761 - val_acc: 0.8275\n",
            "Epoch 10/20\n",
            "60000/60000 [==============================] - 2s 41us/step - loss: 0.7570 - acc: 0.8292 - val_loss: 0.7034 - val_acc: 0.8339\n",
            "Epoch 11/20\n",
            "60000/60000 [==============================] - 2s 42us/step - loss: 0.6932 - acc: 0.8379 - val_loss: 0.6470 - val_acc: 0.8446\n",
            "Epoch 12/20\n",
            "60000/60000 [==============================] - 2s 41us/step - loss: 0.6429 - acc: 0.8464 - val_loss: 0.6022 - val_acc: 0.8543\n",
            "Epoch 13/20\n",
            "60000/60000 [==============================] - 3s 43us/step - loss: 0.6027 - acc: 0.8532 - val_loss: 0.5663 - val_acc: 0.8602\n",
            "Epoch 14/20\n",
            "60000/60000 [==============================] - 3s 44us/step - loss: 0.5699 - acc: 0.8585 - val_loss: 0.5373 - val_acc: 0.8645\n",
            "Epoch 15/20\n",
            "60000/60000 [==============================] - 3s 43us/step - loss: 0.5427 - acc: 0.8636 - val_loss: 0.5123 - val_acc: 0.8688\n",
            "Epoch 16/20\n",
            "60000/60000 [==============================] - 3s 43us/step - loss: 0.5193 - acc: 0.8682 - val_loss: 0.4912 - val_acc: 0.8730\n",
            "Epoch 17/20\n",
            "60000/60000 [==============================] - 3s 42us/step - loss: 0.4997 - acc: 0.8715 - val_loss: 0.4724 - val_acc: 0.8771\n",
            "Epoch 18/20\n",
            "60000/60000 [==============================] - 2s 40us/step - loss: 0.4826 - acc: 0.8741 - val_loss: 0.4569 - val_acc: 0.8812\n",
            "Epoch 19/20\n",
            "60000/60000 [==============================] - 3s 42us/step - loss: 0.4676 - acc: 0.8771 - val_loss: 0.4433 - val_acc: 0.8824\n",
            "Epoch 20/20\n",
            "60000/60000 [==============================] - 3s 42us/step - loss: 0.4545 - acc: 0.8796 - val_loss: 0.4307 - val_acc: 0.8853\n"
          ],
          "name": "stdout"
        }
      ]
    },
    {
      "cell_type": "code",
      "metadata": {
        "id": "zr8a9xUG3qYl",
        "colab_type": "code",
        "colab": {
          "base_uri": "https://localhost:8080/",
          "height": 311
        },
        "outputId": "26c2bccf-cb1a-49ef-86db-6181587e72f7"
      },
      "source": [
        "score=model_sigmoid.evaluate(x_test,y_test,verbose=0)\n",
        "score1=score[0]\n",
        "score2=score[1]\n",
        "train_acc1=history12.history['acc']\n",
        "print(\"Test score:%.3f\"%score[0])\n",
        "print(\"Test accuracy\",score[1])\n",
        "\n",
        "fig,ax=plt.subplots(1,1)\n",
        "ax.set_xlabel('epoch');ax.set_ylabel('Categorical Crossentropy Loss')\n",
        "\n",
        "x=list(range(1,nb_epoch+1))\n",
        "\n",
        "vy1=history12.history['val_loss']\n",
        "ty1=history12.history['loss']\n",
        "\n",
        "plt_dynamic(x,vy1,ty1,ax)"
      ],
      "execution_count": 18,
      "outputs": [
        {
          "output_type": "stream",
          "text": [
            "Test score:0.431\n",
            "Test accuracy 0.8853\n"
          ],
          "name": "stdout"
        },
        {
          "output_type": "display_data",
          "data": {
            "image/png": "[encoded data removed]",
            "text/plain": [
              "<Figure size 432x288 with 1 Axes>"
            ]
          },
          "metadata": {
            "tags": []
          }
        }
      ]
    },
    {
      "cell_type": "markdown",
      "metadata": {
        "id": "zsd7vblYpoZ-",
        "colab_type": "text"
      },
      "source": [
        "## 1.3 MLP + Batch-Norm on hidden Layers + AdamOptimizer"
      ]
    },
    {
      "cell_type": "code",
      "metadata": {
        "id": "cfCumASOpsTr",
        "colab_type": "code",
        "outputId": "3dee7ff0-0bba-4a26-e52e-8a63906b0643",
        "colab": {
          "base_uri": "https://localhost:8080/",
          "height": 362
        }
      },
      "source": [
        "from keras.layers.normalization import BatchNormalization\n",
        "\n",
        "model_batch = Sequential()\n",
        "\n",
        "model_batch.add(Dense(472, activation='relu', \n",
        "                      input_shape=(input_dim,),\n",
        "                      kernel_initializer=he_normal(seed=None)))\n",
        "model_batch.add(BatchNormalization())\n",
        "\n",
        "model_batch.add(Dense(168, activation='relu', \n",
        "                      kernel_initializer=he_normal(seed=None)) )\n",
        "model_batch.add(BatchNormalization())\n",
        "\n",
        "model_batch.add(Dense(output_dim, activation='softmax'))\n",
        "\n",
        "\n",
        "model_batch.summary()"
      ],
      "execution_count": 19,
      "outputs": [
        {
          "output_type": "stream",
          "text": [
            "WARNING:tensorflow:From /usr/local/lib/python3.6/dist-packages/keras/backend/tensorflow_backend.py:148: The name tf.placeholder_with_default is deprecated. Please use tf.compat.v1.placeholder_with_default instead.\n",
            "\n",
            "Model: \"sequential_3\"\n",
            "_________________________________________________________________\n",
            "Layer (type)                 Output Shape              Param #   \n",
            "=================================================================\n",
            "dense_7 (Dense)              (None, 472)               370520    \n",
            "_________________________________________________________________\n",
            "batch_normalization_1 (Batch (None, 472)               1888      \n",
            "_________________________________________________________________\n",
            "dense_8 (Dense)              (None, 168)               79464     \n",
            "_________________________________________________________________\n",
            "batch_normalization_2 (Batch (None, 168)               672       \n",
            "_________________________________________________________________\n",
            "dense_9 (Dense)              (None, 10)                1690      \n",
            "=================================================================\n",
            "Total params: 454,234\n",
            "Trainable params: 452,954\n",
            "Non-trainable params: 1,280\n",
            "_________________________________________________________________\n"
          ],
          "name": "stdout"
        }
      ]
    },
    {
      "cell_type": "code",
      "metadata": {
        "id": "jTDjjyB3p0CP",
        "colab_type": "code",
        "outputId": "d342d71e-0b6c-4dd9-e567-1e56ae825461",
        "colab": {
          "base_uri": "https://localhost:8080/",
          "height": 683
        }
      },
      "source": [
        "model_batch.compile(optimizer='adam', loss='categorical_crossentropy', \n",
        "                    metrics=['accuracy'])\n",
        "\n",
        "history13 = model_batch.fit(x_train, y_train, \n",
        "                           batch_size=batch_size,\n",
        "                           epochs=nb_epoch, verbose=1, \n",
        "                           validation_data=(x_test, y_test))"
      ],
      "execution_count": 20,
      "outputs": [
        {
          "output_type": "stream",
          "text": [
            "Train on 60000 samples, validate on 10000 samples\n",
            "Epoch 1/20\n",
            "60000/60000 [==============================] - 6s 93us/step - loss: 0.1838 - acc: 0.9453 - val_loss: 0.0999 - val_acc: 0.9682\n",
            "Epoch 2/20\n",
            "60000/60000 [==============================] - 5s 82us/step - loss: 0.0701 - acc: 0.9784 - val_loss: 0.0856 - val_acc: 0.9739\n",
            "Epoch 3/20\n",
            "60000/60000 [==============================] - 5s 83us/step - loss: 0.0438 - acc: 0.9864 - val_loss: 0.0674 - val_acc: 0.9782\n",
            "Epoch 4/20\n",
            "60000/60000 [==============================] - 5s 82us/step - loss: 0.0304 - acc: 0.9904 - val_loss: 0.0734 - val_acc: 0.9770\n",
            "Epoch 5/20\n",
            "60000/60000 [==============================] - 5s 82us/step - loss: 0.0226 - acc: 0.9931 - val_loss: 0.0759 - val_acc: 0.9752\n",
            "Epoch 6/20\n",
            "60000/60000 [==============================] - 5s 82us/step - loss: 0.0212 - acc: 0.9934 - val_loss: 0.0703 - val_acc: 0.9794\n",
            "Epoch 7/20\n",
            "60000/60000 [==============================] - 5s 84us/step - loss: 0.0214 - acc: 0.9927 - val_loss: 0.0707 - val_acc: 0.9792\n",
            "Epoch 8/20\n",
            "60000/60000 [==============================] - 5s 84us/step - loss: 0.0159 - acc: 0.9948 - val_loss: 0.0799 - val_acc: 0.9770\n",
            "Epoch 9/20\n",
            "60000/60000 [==============================] - 5s 82us/step - loss: 0.0147 - acc: 0.9952 - val_loss: 0.0733 - val_acc: 0.9791\n",
            "Epoch 10/20\n",
            "60000/60000 [==============================] - 5s 81us/step - loss: 0.0149 - acc: 0.9953 - val_loss: 0.0733 - val_acc: 0.9810\n",
            "Epoch 11/20\n",
            "60000/60000 [==============================] - 5s 81us/step - loss: 0.0122 - acc: 0.9958 - val_loss: 0.0727 - val_acc: 0.9822\n",
            "Epoch 12/20\n",
            "60000/60000 [==============================] - 5s 83us/step - loss: 0.0105 - acc: 0.9967 - val_loss: 0.0761 - val_acc: 0.9792\n",
            "Epoch 13/20\n",
            "60000/60000 [==============================] - 5s 83us/step - loss: 0.0103 - acc: 0.9967 - val_loss: 0.0717 - val_acc: 0.9823\n",
            "Epoch 14/20\n",
            "60000/60000 [==============================] - 5s 83us/step - loss: 0.0091 - acc: 0.9970 - val_loss: 0.0735 - val_acc: 0.9818\n",
            "Epoch 15/20\n",
            "60000/60000 [==============================] - 5s 82us/step - loss: 0.0104 - acc: 0.9965 - val_loss: 0.0858 - val_acc: 0.9785\n",
            "Epoch 16/20\n",
            "60000/60000 [==============================] - 5s 82us/step - loss: 0.0108 - acc: 0.9962 - val_loss: 0.0885 - val_acc: 0.9814\n",
            "Epoch 17/20\n",
            "60000/60000 [==============================] - 5s 82us/step - loss: 0.0065 - acc: 0.9978 - val_loss: 0.0698 - val_acc: 0.9840\n",
            "Epoch 18/20\n",
            "60000/60000 [==============================] - 5s 84us/step - loss: 0.0060 - acc: 0.9980 - val_loss: 0.0786 - val_acc: 0.9805\n",
            "Epoch 19/20\n",
            "60000/60000 [==============================] - 5s 84us/step - loss: 0.0081 - acc: 0.9971 - val_loss: 0.0736 - val_acc: 0.9831\n",
            "Epoch 20/20\n",
            "60000/60000 [==============================] - 5s 82us/step - loss: 0.0103 - acc: 0.9963 - val_loss: 0.0779 - val_acc: 0.9814\n"
          ],
          "name": "stdout"
        }
      ]
    },
    {
      "cell_type": "code",
      "metadata": {
        "id": "LJlO0SKkqOWE",
        "colab_type": "code",
        "outputId": "3c3d950f-8d03-444a-94c5-f636d4f2ec37",
        "colab": {
          "base_uri": "https://localhost:8080/",
          "height": 311
        }
      },
      "source": [
        "\n",
        "score = model_batch.evaluate(x_test, y_test, verbose=0) \n",
        "print('Test score:%.3f'%score[0]) \n",
        "print('Test accuracy:', score[1])\n",
        "score3=score[0]\n",
        "score4=score[1]\n",
        "train_acc2=history13.history['acc']\n",
        "\n",
        "fig,ax12 = plt.subplots(1,1)\n",
        "ax12.set_xlabel('epoch') ; ax12.set_ylabel('Categorical Crossentropy Loss')\n",
        "\n",
        "# list of epoch numbers\n",
        "x = list(range(1,nb_epoch+1))\n",
        "\n",
        "\n",
        "vy12 = history13.history['val_loss']\n",
        "ty12 = history13.history['loss']\n",
        "plt_dynamic(x, vy12, ty12, ax12)"
      ],
      "execution_count": 26,
      "outputs": [
        {
          "output_type": "stream",
          "text": [
            "Test score:0.078\n",
            "Test accuracy: 0.9814\n"
          ],
          "name": "stdout"
        },
        {
          "output_type": "display_data",
          "data": {
            "image/png": "[encoded data removed]",
            "text/plain": [
              "<Figure size 432x288 with 1 Axes>"
            ]
          },
          "metadata": {
            "tags": []
          }
        }
      ]
    },
    {
      "cell_type": "markdown",
      "metadata": {
        "id": "ESDmsIALqgxy",
        "colab_type": "text"
      },
      "source": [
        "## 1.4 MLP + Dropout + AdamOptimizer"
      ]
    },
    {
      "cell_type": "code",
      "metadata": {
        "id": "eje4KSi-qp4q",
        "colab_type": "code",
        "outputId": "d4575db0-25ec-4546-8b4c-a899023e1cfb",
        "colab": {
          "base_uri": "https://localhost:8080/",
          "height": 443
        }
      },
      "source": [
        "\n",
        "# https://stackoverflow.com/questions/34716454/where-do-i-call-the-batchnormalization-function-in-keras\n",
        "\n",
        "from keras.layers import Dropout\n",
        "\n",
        "model_drop = Sequential()\n",
        "\n",
        "model_drop.add(Dense(472, activation='relu',\n",
        "                     input_shape=(input_dim,),\n",
        "                     kernel_initializer=he_normal(seed=None)))\n",
        "model_drop.add(BatchNormalization())\n",
        "model_drop.add(Dropout(0.5))\n",
        "\n",
        "model_drop.add(Dense(168, activation='relu',\n",
        "                     kernel_initializer=he_normal(seed=None)) )\n",
        "model_drop.add(BatchNormalization())\n",
        "model_drop.add(Dropout(0.5))\n",
        "\n",
        "model_drop.add(Dense(output_dim, activation='softmax'))\n",
        "\n",
        "\n",
        "model_drop.summary()"
      ],
      "execution_count": 22,
      "outputs": [
        {
          "output_type": "stream",
          "text": [
            "WARNING:tensorflow:From /usr/local/lib/python3.6/dist-packages/keras/backend/tensorflow_backend.py:3733: calling dropout (from tensorflow.python.ops.nn_ops) with keep_prob is deprecated and will be removed in a future version.\n",
            "Instructions for updating:\n",
            "Please use `rate` instead of `keep_prob`. Rate should be set to `rate = 1 - keep_prob`.\n",
            "Model: \"sequential_4\"\n",
            "_________________________________________________________________\n",
            "Layer (type)                 Output Shape              Param #   \n",
            "=================================================================\n",
            "dense_10 (Dense)             (None, 472)               370520    \n",
            "_________________________________________________________________\n",
            "batch_normalization_3 (Batch (None, 472)               1888      \n",
            "_________________________________________________________________\n",
            "dropout_1 (Dropout)          (None, 472)               0         \n",
            "_________________________________________________________________\n",
            "dense_11 (Dense)             (None, 168)               79464     \n",
            "_________________________________________________________________\n",
            "batch_normalization_4 (Batch (None, 168)               672       \n",
            "_________________________________________________________________\n",
            "dropout_2 (Dropout)          (None, 168)               0         \n",
            "_________________________________________________________________\n",
            "dense_12 (Dense)             (None, 10)                1690      \n",
            "=================================================================\n",
            "Total params: 454,234\n",
            "Trainable params: 452,954\n",
            "Non-trainable params: 1,280\n",
            "_________________________________________________________________\n"
          ],
          "name": "stdout"
        }
      ]
    },
    {
      "cell_type": "code",
      "metadata": {
        "id": "CZ46t-zcquaG",
        "colab_type": "code",
        "outputId": "6125be80-b587-4130-8001-a35330aab722",
        "colab": {
          "base_uri": "https://localhost:8080/",
          "height": 683
        }
      },
      "source": [
        "\n",
        "model_drop.compile(optimizer='adam',\n",
        "                   loss='categorical_crossentropy',\n",
        "                   metrics=['accuracy'])\n",
        "\n",
        "history14 = model_drop.fit(x_train, y_train,\n",
        "                         batch_size=batch_size,\n",
        "                         \n",
        "                         epochs=nb_epoch, verbose=1,\n",
        "                         validation_data=(x_test, y_test))"
      ],
      "execution_count": 24,
      "outputs": [
        {
          "output_type": "stream",
          "text": [
            "Train on 60000 samples, validate on 10000 samples\n",
            "Epoch 1/20\n",
            "60000/60000 [==============================] - 6s 102us/step - loss: 0.1232 - acc: 0.9631 - val_loss: 0.0739 - val_acc: 0.9769\n",
            "Epoch 2/20\n",
            "60000/60000 [==============================] - 5s 87us/step - loss: 0.1129 - acc: 0.9657 - val_loss: 0.0709 - val_acc: 0.9781\n",
            "Epoch 3/20\n",
            "60000/60000 [==============================] - 5s 86us/step - loss: 0.0979 - acc: 0.9694 - val_loss: 0.0635 - val_acc: 0.9796\n",
            "Epoch 4/20\n",
            "60000/60000 [==============================] - 5s 87us/step - loss: 0.0916 - acc: 0.9717 - val_loss: 0.0592 - val_acc: 0.9814\n",
            "Epoch 5/20\n",
            "60000/60000 [==============================] - 5s 87us/step - loss: 0.0826 - acc: 0.9743 - val_loss: 0.0697 - val_acc: 0.9795\n",
            "Epoch 6/20\n",
            "60000/60000 [==============================] - 5s 88us/step - loss: 0.0801 - acc: 0.9749 - val_loss: 0.0642 - val_acc: 0.9807\n",
            "Epoch 7/20\n",
            "60000/60000 [==============================] - 5s 88us/step - loss: 0.0720 - acc: 0.9777 - val_loss: 0.0580 - val_acc: 0.9822\n",
            "Epoch 8/20\n",
            "60000/60000 [==============================] - 5s 87us/step - loss: 0.0716 - acc: 0.9778 - val_loss: 0.0573 - val_acc: 0.9822\n",
            "Epoch 9/20\n",
            "60000/60000 [==============================] - 5s 87us/step - loss: 0.0689 - acc: 0.9788 - val_loss: 0.0589 - val_acc: 0.9814\n",
            "Epoch 10/20\n",
            "60000/60000 [==============================] - 5s 90us/step - loss: 0.0659 - acc: 0.9790 - val_loss: 0.0554 - val_acc: 0.9830\n",
            "Epoch 11/20\n",
            "60000/60000 [==============================] - 5s 86us/step - loss: 0.0613 - acc: 0.9807 - val_loss: 0.0538 - val_acc: 0.9840\n",
            "Epoch 12/20\n",
            "60000/60000 [==============================] - 5s 87us/step - loss: 0.0601 - acc: 0.9807 - val_loss: 0.0565 - val_acc: 0.9830\n",
            "Epoch 13/20\n",
            "60000/60000 [==============================] - 5s 87us/step - loss: 0.0577 - acc: 0.9811 - val_loss: 0.0555 - val_acc: 0.9832\n",
            "Epoch 14/20\n",
            "60000/60000 [==============================] - 5s 89us/step - loss: 0.0559 - acc: 0.9823 - val_loss: 0.0549 - val_acc: 0.9840\n",
            "Epoch 15/20\n",
            "60000/60000 [==============================] - 5s 91us/step - loss: 0.0542 - acc: 0.9819 - val_loss: 0.0541 - val_acc: 0.9845\n",
            "Epoch 16/20\n",
            "60000/60000 [==============================] - 5s 87us/step - loss: 0.0531 - acc: 0.9829 - val_loss: 0.0574 - val_acc: 0.9830\n",
            "Epoch 17/20\n",
            "60000/60000 [==============================] - 5s 88us/step - loss: 0.0517 - acc: 0.9830 - val_loss: 0.0573 - val_acc: 0.9837\n",
            "Epoch 18/20\n",
            "60000/60000 [==============================] - 5s 86us/step - loss: 0.0467 - acc: 0.9843 - val_loss: 0.0545 - val_acc: 0.9847\n",
            "Epoch 19/20\n",
            "60000/60000 [==============================] - 5s 88us/step - loss: 0.0459 - acc: 0.9853 - val_loss: 0.0541 - val_acc: 0.9839\n",
            "Epoch 20/20\n",
            "60000/60000 [==============================] - 5s 87us/step - loss: 0.0467 - acc: 0.9852 - val_loss: 0.0535 - val_acc: 0.9850\n"
          ],
          "name": "stdout"
        }
      ]
    },
    {
      "cell_type": "code",
      "metadata": {
        "id": "F_QgnalWq1kc",
        "colab_type": "code",
        "outputId": "29347cf2-70ff-4842-d26b-b21936fee065",
        "colab": {
          "base_uri": "https://localhost:8080/",
          "height": 311
        }
      },
      "source": [
        "\n",
        "score = model_drop.evaluate(x_test, y_test, verbose=0) \n",
        "score5=score[0]\n",
        "score6=score[1]\n",
        "train_acc3=history14.history['acc']\n",
        "print('Test score:%.3f'% score[0]) \n",
        "print('Test accuracy:', score[1])\n",
        "\n",
        "fig,ax13 = plt.subplots(1,1)\n",
        "ax13.set_xlabel('epoch') ; ax13.set_ylabel('Categorical Crossentropy Loss')\n",
        "\n",
        "vy13 = history14.history['val_loss']\n",
        "ty13 = history14.history['loss']\n",
        "plt_dynamic(x, vy13, ty13, ax13)"
      ],
      "execution_count": 25,
      "outputs": [
        {
          "output_type": "stream",
          "text": [
            "Test score:0.054\n",
            "Test accuracy: 0.985\n"
          ],
          "name": "stdout"
        },
        {
          "output_type": "display_data",
          "data": {
            "image/png": "[encoded data removed]",
            "text/plain": [
              "<Figure size 432x288 with 1 Axes>"
            ]
          },
          "metadata": {
            "tags": []
          }
        }
      ]
    },
    {
      "cell_type": "markdown",
      "metadata": {
        "id": "N0t3J2bcRYqQ",
        "colab_type": "text"
      },
      "source": [
        "## 1.5 MLP + Dropout + AdamOptimizer\n"
      ]
    },
    {
      "cell_type": "code",
      "metadata": {
        "id": "dq0-GDo3Ri8m",
        "colab_type": "code",
        "colab": {
          "base_uri": "https://localhost:8080/",
          "height": 375
        },
        "outputId": "52f209e2-6bc6-4811-d4f4-0ebc2360841f"
      },
      "source": [
        "# https://stackoverflow.com/questions/34716454/where-do-i-call-the-batchnormalization-function-in-keras\n",
        "\n",
        "from keras.layers import Dropout\n",
        "\n",
        "model_drop = Sequential()\n",
        "\n",
        "model_drop.add(Dense(472, activation='sigmoid',\n",
        "                     input_shape=(input_dim,),\n",
        "                     kernel_initializer=he_normal(seed=None)))\n",
        "model_drop.add(BatchNormalization())\n",
        "model_drop.add(Dropout(0.2))\n",
        "\n",
        "model_drop.add(Dense(168, activation='sigmoid',\n",
        "                     kernel_initializer=he_normal(seed=None)) )\n",
        "model_drop.add(BatchNormalization())\n",
        "model_drop.add(Dropout(0.2))\n",
        "\n",
        "model_drop.add(Dense(output_dim, activation='softmax'))\n",
        "\n",
        "\n",
        "model_drop.summary()"
      ],
      "execution_count": 27,
      "outputs": [
        {
          "output_type": "stream",
          "text": [
            "Model: \"sequential_5\"\n",
            "_________________________________________________________________\n",
            "Layer (type)                 Output Shape              Param #   \n",
            "=================================================================\n",
            "dense_13 (Dense)             (None, 472)               370520    \n",
            "_________________________________________________________________\n",
            "batch_normalization_5 (Batch (None, 472)               1888      \n",
            "_________________________________________________________________\n",
            "dropout_3 (Dropout)          (None, 472)               0         \n",
            "_________________________________________________________________\n",
            "dense_14 (Dense)             (None, 168)               79464     \n",
            "_________________________________________________________________\n",
            "batch_normalization_6 (Batch (None, 168)               672       \n",
            "_________________________________________________________________\n",
            "dropout_4 (Dropout)          (None, 168)               0         \n",
            "_________________________________________________________________\n",
            "dense_15 (Dense)             (None, 10)                1690      \n",
            "=================================================================\n",
            "Total params: 454,234\n",
            "Trainable params: 452,954\n",
            "Non-trainable params: 1,280\n",
            "_________________________________________________________________\n"
          ],
          "name": "stdout"
        }
      ]
    },
    {
      "cell_type": "code",
      "metadata": {
        "id": "zs5U93lNR9BC",
        "colab_type": "code",
        "colab": {
          "base_uri": "https://localhost:8080/",
          "height": 683
        },
        "outputId": "6b053388-2903-428b-c41d-2465dcaaf295"
      },
      "source": [
        "model_drop.compile(optimizer='adam',\n",
        "                   loss='categorical_crossentropy',\n",
        "                   metrics=['accuracy'])\n",
        "\n",
        "history15 = model_drop.fit(x_train, y_train,\n",
        "                         batch_size=batch_size,\n",
        "                         \n",
        "                         epochs=nb_epoch, verbose=1,\n",
        "                         validation_data=(x_test, y_test))"
      ],
      "execution_count": 28,
      "outputs": [
        {
          "output_type": "stream",
          "text": [
            "Train on 60000 samples, validate on 10000 samples\n",
            "Epoch 1/20\n",
            "60000/60000 [==============================] - 6s 104us/step - loss: 0.3344 - acc: 0.9001 - val_loss: 0.1856 - val_acc: 0.9452\n",
            "Epoch 2/20\n",
            "60000/60000 [==============================] - 5s 87us/step - loss: 0.1962 - acc: 0.9412 - val_loss: 0.1385 - val_acc: 0.9588\n",
            "Epoch 3/20\n",
            "60000/60000 [==============================] - 5s 87us/step - loss: 0.1542 - acc: 0.9534 - val_loss: 0.1243 - val_acc: 0.9608\n",
            "Epoch 4/20\n",
            "60000/60000 [==============================] - 5s 88us/step - loss: 0.1288 - acc: 0.9612 - val_loss: 0.1008 - val_acc: 0.9680\n",
            "Epoch 5/20\n",
            "60000/60000 [==============================] - 5s 85us/step - loss: 0.1076 - acc: 0.9669 - val_loss: 0.0913 - val_acc: 0.9704\n",
            "Epoch 6/20\n",
            "60000/60000 [==============================] - 5s 88us/step - loss: 0.0937 - acc: 0.9699 - val_loss: 0.0784 - val_acc: 0.9742\n",
            "Epoch 7/20\n",
            "60000/60000 [==============================] - 5s 87us/step - loss: 0.0811 - acc: 0.9742 - val_loss: 0.0758 - val_acc: 0.9760\n",
            "Epoch 8/20\n",
            "60000/60000 [==============================] - 5s 87us/step - loss: 0.0736 - acc: 0.9765 - val_loss: 0.0716 - val_acc: 0.9784\n",
            "Epoch 9/20\n",
            "60000/60000 [==============================] - 5s 87us/step - loss: 0.0647 - acc: 0.9784 - val_loss: 0.0683 - val_acc: 0.9785\n",
            "Epoch 10/20\n",
            "60000/60000 [==============================] - 5s 88us/step - loss: 0.0575 - acc: 0.9808 - val_loss: 0.0708 - val_acc: 0.9773\n",
            "Epoch 11/20\n",
            "60000/60000 [==============================] - 5s 88us/step - loss: 0.0519 - acc: 0.9827 - val_loss: 0.0699 - val_acc: 0.9794\n",
            "Epoch 12/20\n",
            "60000/60000 [==============================] - 5s 89us/step - loss: 0.0478 - acc: 0.9841 - val_loss: 0.0661 - val_acc: 0.9802\n",
            "Epoch 13/20\n",
            "60000/60000 [==============================] - 5s 87us/step - loss: 0.0429 - acc: 0.9857 - val_loss: 0.0604 - val_acc: 0.9813\n",
            "Epoch 14/20\n",
            "60000/60000 [==============================] - 5s 88us/step - loss: 0.0414 - acc: 0.9864 - val_loss: 0.0654 - val_acc: 0.9813\n",
            "Epoch 15/20\n",
            "60000/60000 [==============================] - 5s 89us/step - loss: 0.0379 - acc: 0.9872 - val_loss: 0.0582 - val_acc: 0.9822\n",
            "Epoch 16/20\n",
            "60000/60000 [==============================] - 5s 87us/step - loss: 0.0343 - acc: 0.9887 - val_loss: 0.0650 - val_acc: 0.9822\n",
            "Epoch 17/20\n",
            "60000/60000 [==============================] - 5s 89us/step - loss: 0.0339 - acc: 0.9884 - val_loss: 0.0717 - val_acc: 0.9803\n",
            "Epoch 18/20\n",
            "60000/60000 [==============================] - 5s 88us/step - loss: 0.0284 - acc: 0.9902 - val_loss: 0.0681 - val_acc: 0.9805\n",
            "Epoch 19/20\n",
            "60000/60000 [==============================] - 5s 88us/step - loss: 0.0269 - acc: 0.9909 - val_loss: 0.0690 - val_acc: 0.9798\n",
            "Epoch 20/20\n",
            "60000/60000 [==============================] - 5s 85us/step - loss: 0.0273 - acc: 0.9906 - val_loss: 0.0688 - val_acc: 0.9811\n"
          ],
          "name": "stdout"
        }
      ]
    },
    {
      "cell_type": "code",
      "metadata": {
        "id": "Nu0PlS_zSapB",
        "colab_type": "code",
        "colab": {
          "base_uri": "https://localhost:8080/",
          "height": 311
        },
        "outputId": "2a45f970-d8df-46eb-e76b-419fbe80821f"
      },
      "source": [
        "score = model_drop.evaluate(x_test, y_test, verbose=0) \n",
        "score5=score[0]\n",
        "score6=score[1]\n",
        "train_acc3=history15.history['acc']\n",
        "print('Test score:%.3f'% score[0]) \n",
        "print('Test accuracy:', score[1])\n",
        "\n",
        "fig,ax13 = plt.subplots(1,1)\n",
        "ax13.set_xlabel('epoch') ; ax13.set_ylabel('Categorical Crossentropy Loss')\n",
        "\n",
        "vy13 = history15.history['val_loss']\n",
        "ty13 = history15.history['loss']\n",
        "plt_dynamic(x, vy13, ty13, ax13)"
      ],
      "execution_count": 29,
      "outputs": [
        {
          "output_type": "stream",
          "text": [
            "Test score:0.069\n",
            "Test accuracy: 0.9811\n"
          ],
          "name": "stdout"
        },
        {
          "output_type": "display_data",
          "data": {
            "image/png": "[encoded data removed]",
            "text/plain": [
              "<Figure size 432x288 with 1 Axes>"
            ]
          },
          "metadata": {
            "tags": []
          }
        }
      ]
    },
    {
      "cell_type": "markdown",
      "metadata": {
        "id": "rGlbpqknrXBf",
        "colab_type": "text"
      },
      "source": [
        "# 2) 3-Hidden layer architecture (784-352-164-124 architecture)\n",
        "\n",
        "\n",
        "## 2.1 MLP + ReLU + ADAM"
      ]
    },
    {
      "cell_type": "code",
      "metadata": {
        "id": "q7iuBasGrhuO",
        "colab_type": "code",
        "outputId": "ba0fe982-f017-4a1a-f6d1-9fbb2d251c20",
        "colab": {
          "base_uri": "https://localhost:8080/",
          "height": 960
        }
      },
      "source": [
        "model_relu = Sequential()\n",
        "model_relu.add(Dense(352, activation='relu', input_shape=(input_dim,),\n",
        "                     kernel_initializer=he_normal(seed=None)))\n",
        "model_relu.add(Dense(164, activation='relu', \n",
        "                     kernel_initializer=he_normal(seed=None)) )\n",
        "                                                    \n",
        "model_relu.add(Dense(124, activation='relu', \n",
        "                     kernel_initializer=he_normal(seed=None)) )\n",
        "model_relu.add(Dense(output_dim, activation='softmax'))\n",
        "\n",
        "print(model_relu.summary())\n",
        "\n",
        "model_relu.compile(optimizer='adam',\n",
        "                   loss='categorical_crossentropy',\n",
        "                   metrics=['accuracy'])\n",
        "\n",
        "history21 = model_relu.fit(x_train, y_train, \n",
        "                         batch_size=batch_size, \n",
        "                         epochs=nb_epoch, verbose=1, \n",
        "                         validation_data=(x_test, y_test))"
      ],
      "execution_count": 33,
      "outputs": [
        {
          "output_type": "stream",
          "text": [
            "Model: \"sequential_8\"\n",
            "_________________________________________________________________\n",
            "Layer (type)                 Output Shape              Param #   \n",
            "=================================================================\n",
            "dense_24 (Dense)             (None, 352)               276320    \n",
            "_________________________________________________________________\n",
            "dense_25 (Dense)             (None, 164)               57892     \n",
            "_________________________________________________________________\n",
            "dense_26 (Dense)             (None, 124)               20460     \n",
            "_________________________________________________________________\n",
            "dense_27 (Dense)             (None, 10)                1250      \n",
            "=================================================================\n",
            "Total params: 355,922\n",
            "Trainable params: 355,922\n",
            "Non-trainable params: 0\n",
            "_________________________________________________________________\n",
            "None\n",
            "Train on 60000 samples, validate on 10000 samples\n",
            "Epoch 1/20\n",
            "60000/60000 [==============================] - 4s 70us/step - loss: 0.2402 - acc: 0.9288 - val_loss: 0.1309 - val_acc: 0.9580\n",
            "Epoch 2/20\n",
            "60000/60000 [==============================] - 3s 54us/step - loss: 0.0912 - acc: 0.9720 - val_loss: 0.0887 - val_acc: 0.9715\n",
            "Epoch 3/20\n",
            "60000/60000 [==============================] - 3s 53us/step - loss: 0.0583 - acc: 0.9821 - val_loss: 0.0840 - val_acc: 0.9757\n",
            "Epoch 4/20\n",
            "60000/60000 [==============================] - 3s 54us/step - loss: 0.0435 - acc: 0.9864 - val_loss: 0.0698 - val_acc: 0.9778\n",
            "Epoch 5/20\n",
            "60000/60000 [==============================] - 3s 54us/step - loss: 0.0319 - acc: 0.9893 - val_loss: 0.0726 - val_acc: 0.9794\n",
            "Epoch 6/20\n",
            "60000/60000 [==============================] - 3s 54us/step - loss: 0.0255 - acc: 0.9915 - val_loss: 0.0732 - val_acc: 0.9783\n",
            "Epoch 7/20\n",
            "60000/60000 [==============================] - 3s 54us/step - loss: 0.0221 - acc: 0.9929 - val_loss: 0.0912 - val_acc: 0.9750\n",
            "Epoch 8/20\n",
            "60000/60000 [==============================] - 3s 54us/step - loss: 0.0195 - acc: 0.9936 - val_loss: 0.0949 - val_acc: 0.9764\n",
            "Epoch 9/20\n",
            "60000/60000 [==============================] - 3s 54us/step - loss: 0.0187 - acc: 0.9936 - val_loss: 0.0771 - val_acc: 0.9810\n",
            "Epoch 10/20\n",
            "60000/60000 [==============================] - 3s 54us/step - loss: 0.0168 - acc: 0.9942 - val_loss: 0.0872 - val_acc: 0.9791\n",
            "Epoch 11/20\n",
            "60000/60000 [==============================] - 3s 54us/step - loss: 0.0141 - acc: 0.9952 - val_loss: 0.0899 - val_acc: 0.9791\n",
            "Epoch 12/20\n",
            "60000/60000 [==============================] - 3s 55us/step - loss: 0.0123 - acc: 0.9959 - val_loss: 0.0843 - val_acc: 0.9811\n",
            "Epoch 13/20\n",
            "60000/60000 [==============================] - 3s 54us/step - loss: 0.0132 - acc: 0.9955 - val_loss: 0.0827 - val_acc: 0.9808\n",
            "Epoch 14/20\n",
            "60000/60000 [==============================] - 3s 53us/step - loss: 0.0087 - acc: 0.9972 - val_loss: 0.0952 - val_acc: 0.9800\n",
            "Epoch 15/20\n",
            "60000/60000 [==============================] - 3s 54us/step - loss: 0.0119 - acc: 0.9961 - val_loss: 0.1160 - val_acc: 0.9751\n",
            "Epoch 16/20\n",
            "60000/60000 [==============================] - 3s 55us/step - loss: 0.0105 - acc: 0.9965 - val_loss: 0.0825 - val_acc: 0.9820\n",
            "Epoch 17/20\n",
            "60000/60000 [==============================] - 3s 53us/step - loss: 0.0099 - acc: 0.9969 - val_loss: 0.0956 - val_acc: 0.9802\n",
            "Epoch 18/20\n",
            "60000/60000 [==============================] - 3s 54us/step - loss: 0.0094 - acc: 0.9967 - val_loss: 0.0992 - val_acc: 0.9817\n",
            "Epoch 19/20\n",
            "60000/60000 [==============================] - 3s 54us/step - loss: 0.0113 - acc: 0.9962 - val_loss: 0.0913 - val_acc: 0.9816\n",
            "Epoch 20/20\n",
            "60000/60000 [==============================] - 3s 54us/step - loss: 0.0062 - acc: 0.9979 - val_loss: 0.0953 - val_acc: 0.9822\n"
          ],
          "name": "stdout"
        }
      ]
    },
    {
      "cell_type": "code",
      "metadata": {
        "id": "r1xR963Qr6j8",
        "colab_type": "code",
        "outputId": "ad414057-955b-4949-a601-e417aea254dd",
        "colab": {
          "base_uri": "https://localhost:8080/",
          "height": 315
        }
      },
      "source": [
        "\n",
        "score = model_relu.evaluate(x_test, y_test, verbose=0) \n",
        "score7=score[0]\n",
        "score8=score[1]\n",
        "train_acc4=history21.history['acc']\n",
        "print('Test score:%.3f'%score[0]) \n",
        "print('Test accuracy:', score[1])\n",
        "\n",
        "fig,ax21 = plt.subplots(1,1)\n",
        "ax21.set_xlabel('epoch') ; ax21.set_ylabel('Categorical Crossentropy Loss')\n",
        "\n",
        "# list of epoch numbers\n",
        "x = list(range(1,nb_epoch+1))\n",
        "\n",
        "\n",
        "vy21 = history21.history['val_loss']\n",
        "ty21 = history21.history['loss']\n",
        "plt_dynamic(x, vy21, ty21, ax21)"
      ],
      "execution_count": 35,
      "outputs": [
        {
          "output_type": "stream",
          "text": [
            "Test score:0.095\n",
            "Test accuracy: 0.9822\n"
          ],
          "name": "stdout"
        },
        {
          "output_type": "display_data",
          "data": {
            "image/png": "[encoded data removed]",
            "text/plain": [
              "<Figure size 432x288 with 1 Axes>"
            ]
          },
          "metadata": {
            "tags": []
          }
        }
      ]
    },
    {
      "cell_type": "markdown",
      "metadata": {
        "id": "WlHwhRzFsBoE",
        "colab_type": "text"
      },
      "source": [
        "## 2.2 MLP + Batch-Norm on hidden Layers + AdamOptimizer"
      ]
    },
    {
      "cell_type": "code",
      "metadata": {
        "id": "3AEx3UOrsG9E",
        "colab_type": "code",
        "colab": {}
      },
      "source": [
        "\n",
        "from keras.layers.normalization import BatchNormalization\n",
        "\n",
        "model_batch = Sequential()\n",
        "\n",
        "model_batch.add(Dense(352, activation='relu', input_shape=(input_dim,),\n",
        "                     kernel_initializer=he_normal(seed=None)))\n",
        "model_batch.add(BatchNormalization())\n",
        "model_batch.add(Dense(164, activation='relu', \n",
        "                     kernel_initializer=he_normal(seed=None)) )\n",
        "model_batch.add(BatchNormalization())\n",
        "                                                    \n",
        "model_batch.add(Dense(124, activation='relu', \n",
        "                     kernel_initializer=he_normal(seed=None)) )\n",
        "model_batch.add(BatchNormalization())\n",
        "\n",
        "model_batch.add(Dense(output_dim, activation='softmax'))"
      ],
      "execution_count": 0,
      "outputs": []
    },
    {
      "cell_type": "code",
      "metadata": {
        "id": "aIY6NVqIs0Ws",
        "colab_type": "code",
        "outputId": "e57b765c-ca78-4568-8217-cdc97c7b6638",
        "colab": {
          "base_uri": "https://localhost:8080/",
          "height": 683
        }
      },
      "source": [
        "model_batch.compile(optimizer='adam', loss='categorical_crossentropy', \n",
        "                    metrics=['accuracy'])\n",
        "\n",
        "history22 = model_batch.fit(x_train, y_train, \n",
        "                           batch_size=batch_size,\n",
        "                           epochs=nb_epoch, verbose=1, \n",
        "                           validation_data=(x_test, y_test))"
      ],
      "execution_count": 37,
      "outputs": [
        {
          "output_type": "stream",
          "text": [
            "Train on 60000 samples, validate on 10000 samples\n",
            "Epoch 1/20\n",
            "60000/60000 [==============================] - 7s 123us/step - loss: 0.2032 - acc: 0.9386 - val_loss: 0.1095 - val_acc: 0.9653\n",
            "Epoch 2/20\n",
            "60000/60000 [==============================] - 6s 97us/step - loss: 0.0768 - acc: 0.9765 - val_loss: 0.0857 - val_acc: 0.9725\n",
            "Epoch 3/20\n",
            "60000/60000 [==============================] - 6s 98us/step - loss: 0.0511 - acc: 0.9840 - val_loss: 0.0805 - val_acc: 0.9729\n",
            "Epoch 4/20\n",
            "60000/60000 [==============================] - 6s 97us/step - loss: 0.0393 - acc: 0.9870 - val_loss: 0.0764 - val_acc: 0.9765\n",
            "Epoch 5/20\n",
            "60000/60000 [==============================] - 6s 100us/step - loss: 0.0329 - acc: 0.9893 - val_loss: 0.0807 - val_acc: 0.9738\n",
            "Epoch 6/20\n",
            "60000/60000 [==============================] - 6s 97us/step - loss: 0.0255 - acc: 0.9918 - val_loss: 0.0836 - val_acc: 0.9751\n",
            "Epoch 7/20\n",
            "60000/60000 [==============================] - 6s 97us/step - loss: 0.0232 - acc: 0.9919 - val_loss: 0.0827 - val_acc: 0.9754\n",
            "Epoch 8/20\n",
            "60000/60000 [==============================] - 6s 98us/step - loss: 0.0205 - acc: 0.9933 - val_loss: 0.0761 - val_acc: 0.9787\n",
            "Epoch 9/20\n",
            "60000/60000 [==============================] - 6s 98us/step - loss: 0.0200 - acc: 0.9931 - val_loss: 0.0769 - val_acc: 0.9779\n",
            "Epoch 10/20\n",
            "60000/60000 [==============================] - 6s 95us/step - loss: 0.0167 - acc: 0.9946 - val_loss: 0.0691 - val_acc: 0.9803\n",
            "Epoch 11/20\n",
            "60000/60000 [==============================] - 6s 97us/step - loss: 0.0151 - acc: 0.9948 - val_loss: 0.0756 - val_acc: 0.9783\n",
            "Epoch 12/20\n",
            "60000/60000 [==============================] - 6s 98us/step - loss: 0.0139 - acc: 0.9953 - val_loss: 0.0722 - val_acc: 0.9806\n",
            "Epoch 13/20\n",
            "60000/60000 [==============================] - 6s 96us/step - loss: 0.0118 - acc: 0.9962 - val_loss: 0.0889 - val_acc: 0.9765\n",
            "Epoch 14/20\n",
            "60000/60000 [==============================] - 6s 96us/step - loss: 0.0133 - acc: 0.9955 - val_loss: 0.0883 - val_acc: 0.9797\n",
            "Epoch 15/20\n",
            "60000/60000 [==============================] - 6s 97us/step - loss: 0.0136 - acc: 0.9953 - val_loss: 0.0743 - val_acc: 0.9818\n",
            "Epoch 16/20\n",
            "60000/60000 [==============================] - 6s 95us/step - loss: 0.0095 - acc: 0.9970 - val_loss: 0.0808 - val_acc: 0.9778\n",
            "Epoch 17/20\n",
            "60000/60000 [==============================] - 6s 99us/step - loss: 0.0096 - acc: 0.9968 - val_loss: 0.0861 - val_acc: 0.9790\n",
            "Epoch 18/20\n",
            "60000/60000 [==============================] - 6s 101us/step - loss: 0.0089 - acc: 0.9970 - val_loss: 0.0845 - val_acc: 0.9795\n",
            "Epoch 19/20\n",
            "60000/60000 [==============================] - 6s 98us/step - loss: 0.0101 - acc: 0.9966 - val_loss: 0.0871 - val_acc: 0.9785\n",
            "Epoch 20/20\n",
            "60000/60000 [==============================] - 6s 101us/step - loss: 0.0080 - acc: 0.9974 - val_loss: 0.0698 - val_acc: 0.9828\n"
          ],
          "name": "stdout"
        }
      ]
    },
    {
      "cell_type": "code",
      "metadata": {
        "id": "x6F3bcqgs-ob",
        "colab_type": "code",
        "outputId": "b5d0bc55-610f-46f0-e27d-38f5fe823356",
        "colab": {
          "base_uri": "https://localhost:8080/",
          "height": 311
        }
      },
      "source": [
        "score = model_batch.evaluate(x_test, y_test, verbose=0) \n",
        "score9=score[0]\n",
        "score10=score[1]\n",
        "train_acc5=history22.history['acc']\n",
        "print('Test score:%.3f'%score[0]) \n",
        "print('Test accuracy:', score[1])\n",
        "\n",
        "fig,ax22 = plt.subplots(1,1)\n",
        "ax22.set_xlabel('epoch') ; ax22.set_ylabel('Categorical Crossentropy Loss')\n",
        "\n",
        "# list of epoch numbers\n",
        "x = list(range(1,nb_epoch+1))\n",
        "\n",
        "vy22 = history22.history['val_loss']\n",
        "ty22 = history22.history['loss']\n",
        "plt_dynamic(x, vy22, ty22, ax22)"
      ],
      "execution_count": 38,
      "outputs": [
        {
          "output_type": "stream",
          "text": [
            "Test score:0.070\n",
            "Test accuracy: 0.9828\n"
          ],
          "name": "stdout"
        },
        {
          "output_type": "display_data",
          "data": {
            "image/png": "[encoded data removed]",
            "text/plain": [
              "<Figure size 432x288 with 1 Axes>"
            ]
          },
          "metadata": {
            "tags": []
          }
        }
      ]
    },
    {
      "cell_type": "markdown",
      "metadata": {
        "id": "YymYGkDZtQ4Y",
        "colab_type": "text"
      },
      "source": [
        "## 2.3 MLP + Dropout + AdamOptimizer"
      ]
    },
    {
      "cell_type": "code",
      "metadata": {
        "id": "Y3gYFarTtdHM",
        "colab_type": "code",
        "colab": {}
      },
      "source": [
        "from keras.layers import Dropout\n",
        "\n",
        "model_drop = Sequential()\n",
        "model_drop.add(Dense(352, activation='relu', input_shape=(input_dim,),\n",
        "                     kernel_initializer=he_normal(seed=None)))\n",
        "\n",
        "model_drop.add(BatchNormalization())\n",
        "model_drop.add(Dropout(0.5))\n",
        "model_drop.add(Dense(164, activation='relu', \n",
        "                     kernel_initializer=he_normal(seed=None)) )\n",
        "model_drop.add(BatchNormalization())\n",
        "model_drop.add(Dropout(0.5))\n",
        "\n",
        "                                                    \n",
        "model_drop.add(Dense(124, activation='relu', \n",
        "                     kernel_initializer=he_normal(seed=None)) )\n",
        "model_drop.add(BatchNormalization())\n",
        "model_drop.add(Dropout(0.5))\n",
        "\n",
        "model_drop.add(Dense(output_dim, activation='softmax'))"
      ],
      "execution_count": 0,
      "outputs": []
    },
    {
      "cell_type": "code",
      "metadata": {
        "id": "_jXmpPg7uAL6",
        "colab_type": "code",
        "outputId": "573b5a15-3c81-4844-f16c-51ab1b89aca8",
        "colab": {
          "base_uri": "https://localhost:8080/",
          "height": 683
        }
      },
      "source": [
        "model_drop.compile(optimizer='adam',\n",
        "                   loss='categorical_crossentropy',\n",
        "                   metrics=['accuracy'])\n",
        "\n",
        "history23 = model_drop.fit(x_train, y_train,\n",
        "                         batch_size=batch_size,\n",
        "                         \n",
        "                         epochs=nb_epoch, verbose=1,\n",
        "                         validation_data=(x_test, y_test))"
      ],
      "execution_count": 40,
      "outputs": [
        {
          "output_type": "stream",
          "text": [
            "Train on 60000 samples, validate on 10000 samples\n",
            "Epoch 1/20\n",
            "60000/60000 [==============================] - 8s 135us/step - loss: 0.6761 - acc: 0.7909 - val_loss: 0.1836 - val_acc: 0.9448\n",
            "Epoch 2/20\n",
            "60000/60000 [==============================] - 6s 105us/step - loss: 0.2960 - acc: 0.9121 - val_loss: 0.1352 - val_acc: 0.9582\n",
            "Epoch 3/20\n",
            "60000/60000 [==============================] - 6s 103us/step - loss: 0.2275 - acc: 0.9340 - val_loss: 0.1139 - val_acc: 0.9668\n",
            "Epoch 4/20\n",
            "60000/60000 [==============================] - 6s 103us/step - loss: 0.1890 - acc: 0.9446 - val_loss: 0.0975 - val_acc: 0.9705\n",
            "Epoch 5/20\n",
            "60000/60000 [==============================] - 6s 104us/step - loss: 0.1707 - acc: 0.9506 - val_loss: 0.0945 - val_acc: 0.9715\n",
            "Epoch 6/20\n",
            "60000/60000 [==============================] - 6s 102us/step - loss: 0.1545 - acc: 0.9552 - val_loss: 0.0931 - val_acc: 0.9721\n",
            "Epoch 7/20\n",
            "60000/60000 [==============================] - 6s 104us/step - loss: 0.1404 - acc: 0.9583 - val_loss: 0.0868 - val_acc: 0.9751\n",
            "Epoch 8/20\n",
            "60000/60000 [==============================] - 6s 104us/step - loss: 0.1279 - acc: 0.9626 - val_loss: 0.0782 - val_acc: 0.9762\n",
            "Epoch 9/20\n",
            "60000/60000 [==============================] - 6s 104us/step - loss: 0.1253 - acc: 0.9629 - val_loss: 0.0760 - val_acc: 0.9769\n",
            "Epoch 10/20\n",
            "60000/60000 [==============================] - 6s 103us/step - loss: 0.1192 - acc: 0.9649 - val_loss: 0.0677 - val_acc: 0.9794\n",
            "Epoch 11/20\n",
            "60000/60000 [==============================] - 6s 102us/step - loss: 0.1105 - acc: 0.9678 - val_loss: 0.0751 - val_acc: 0.9780\n",
            "Epoch 12/20\n",
            "60000/60000 [==============================] - 6s 104us/step - loss: 0.1042 - acc: 0.9693 - val_loss: 0.0698 - val_acc: 0.9792\n",
            "Epoch 13/20\n",
            "60000/60000 [==============================] - 6s 105us/step - loss: 0.1009 - acc: 0.9708 - val_loss: 0.0663 - val_acc: 0.9801\n",
            "Epoch 14/20\n",
            "60000/60000 [==============================] - 6s 106us/step - loss: 0.0998 - acc: 0.9707 - val_loss: 0.0755 - val_acc: 0.9766\n",
            "Epoch 15/20\n",
            "60000/60000 [==============================] - 6s 103us/step - loss: 0.0946 - acc: 0.9717 - val_loss: 0.0644 - val_acc: 0.9816\n",
            "Epoch 16/20\n",
            "60000/60000 [==============================] - 6s 104us/step - loss: 0.0907 - acc: 0.9728 - val_loss: 0.0669 - val_acc: 0.9802\n",
            "Epoch 17/20\n",
            "60000/60000 [==============================] - 6s 104us/step - loss: 0.0842 - acc: 0.9742 - val_loss: 0.0666 - val_acc: 0.9804\n",
            "Epoch 18/20\n",
            "60000/60000 [==============================] - 6s 102us/step - loss: 0.0842 - acc: 0.9756 - val_loss: 0.0669 - val_acc: 0.9804\n",
            "Epoch 19/20\n",
            "60000/60000 [==============================] - 6s 105us/step - loss: 0.0798 - acc: 0.9760 - val_loss: 0.0677 - val_acc: 0.9808\n",
            "Epoch 20/20\n",
            "60000/60000 [==============================] - 6s 104us/step - loss: 0.0790 - acc: 0.9765 - val_loss: 0.0637 - val_acc: 0.9812\n"
          ],
          "name": "stdout"
        }
      ]
    },
    {
      "cell_type": "code",
      "metadata": {
        "id": "rhqZvAzguba2",
        "colab_type": "code",
        "outputId": "4799818a-4a4a-4516-d44f-02fa53baa914",
        "colab": {
          "base_uri": "https://localhost:8080/",
          "height": 313
        }
      },
      "source": [
        "score = model_drop.evaluate(x_test, y_test, verbose=0)\n",
        "score11=score[0]\n",
        "score12=score[1]\n",
        "train_acc6=history23.history['acc']\n",
        "print('Test score:%.3f'%score[0]) \n",
        "print('Test accuracy:', score[1])\n",
        "\n",
        "fig,ax23 = plt.subplots(1,1)\n",
        "ax23.set_xlabel('epoch') ; ax23.set_ylabel('Categorical Crossentropy Loss')\n",
        "\n",
        "# list of epoch numbers\n",
        "x = list(range(1,nb_epoch+1))\n",
        "\n",
        "\n",
        "vy23 = history23.history['val_loss']\n",
        "ty23 = history23.history['loss']\n",
        "plt_dynamic(x, vy23, ty23, ax23)"
      ],
      "execution_count": 41,
      "outputs": [
        {
          "output_type": "stream",
          "text": [
            "Test score:0.064\n",
            "Test accuracy: 0.9812\n"
          ],
          "name": "stdout"
        },
        {
          "output_type": "display_data",
          "data": {
            "image/png": "[encoded data removed]",
            "text/plain": [
              "<Figure size 432x288 with 1 Axes>"
            ]
          },
          "metadata": {
            "tags": []
          }
        }
      ]
    },
    {
      "cell_type": "markdown",
      "metadata": {
        "id": "wnn0nRUKU7Pw",
        "colab_type": "text"
      },
      "source": [
        "## 2.4 MLP + Sigmoid activation + SGDOptimizer"
      ]
    },
    {
      "cell_type": "code",
      "metadata": {
        "id": "RGBOJbxaVHQ0",
        "colab_type": "code",
        "colab": {
          "base_uri": "https://localhost:8080/",
          "height": 293
        },
        "outputId": "35ad9601-d0b8-49c0-9117-aeac7c85bd0c"
      },
      "source": [
        "# Multilayer perceptron\n",
        "\n",
        "model_sigmoid=Sequential()\n",
        "model_sigmoid.add(Dense(352,activation='sigmoid',input_shape=(input_dim,),kernel_initializer=he_normal(seed=None)))\n",
        "model_sigmoid.add(Dense(164,activation='sigmoid',kernel_initializer=he_normal(seed=None)))\n",
        "model_sigmoid.add(Dense(128,activation='sigmoid',kernel_initializer=he_normal(seed=None)))\n",
        "model_sigmoid.add(Dense(output_dim,activation='softmax'))\n",
        "\n",
        "print(model_relu.summary())"
      ],
      "execution_count": 42,
      "outputs": [
        {
          "output_type": "stream",
          "text": [
            "Model: \"sequential_8\"\n",
            "_________________________________________________________________\n",
            "Layer (type)                 Output Shape              Param #   \n",
            "=================================================================\n",
            "dense_24 (Dense)             (None, 352)               276320    \n",
            "_________________________________________________________________\n",
            "dense_25 (Dense)             (None, 164)               57892     \n",
            "_________________________________________________________________\n",
            "dense_26 (Dense)             (None, 124)               20460     \n",
            "_________________________________________________________________\n",
            "dense_27 (Dense)             (None, 10)                1250      \n",
            "=================================================================\n",
            "Total params: 355,922\n",
            "Trainable params: 355,922\n",
            "Non-trainable params: 0\n",
            "_________________________________________________________________\n",
            "None\n"
          ],
          "name": "stdout"
        }
      ]
    },
    {
      "cell_type": "code",
      "metadata": {
        "id": "LJGIWtEPVjlP",
        "colab_type": "code",
        "colab": {
          "base_uri": "https://localhost:8080/",
          "height": 683
        },
        "outputId": "0a2b5ed7-bb14-4709-9497-c5a845311377"
      },
      "source": [
        "model_sigmoid.compile(optimizer='sgd',loss='categorical_crossentropy',metrics=['accuracy'])\n",
        "\n",
        "history24=model_sigmoid.fit(x_train,y_train,batch_size=batch_size,epochs=20,verbose=1,validation_data=(x_test,y_test))"
      ],
      "execution_count": 43,
      "outputs": [
        {
          "output_type": "stream",
          "text": [
            "Train on 60000 samples, validate on 10000 samples\n",
            "Epoch 1/20\n",
            "60000/60000 [==============================] - 4s 68us/step - loss: 2.2983 - acc: 0.1223 - val_loss: 2.2880 - val_acc: 0.1931\n",
            "Epoch 2/20\n",
            "60000/60000 [==============================] - 3s 46us/step - loss: 2.2820 - acc: 0.1428 - val_loss: 2.2748 - val_acc: 0.1171\n",
            "Epoch 3/20\n",
            "60000/60000 [==============================] - 3s 45us/step - loss: 2.2679 - acc: 0.1947 - val_loss: 2.2598 - val_acc: 0.2909\n",
            "Epoch 4/20\n",
            "60000/60000 [==============================] - 3s 45us/step - loss: 2.2509 - acc: 0.2538 - val_loss: 2.2394 - val_acc: 0.4310\n",
            "Epoch 5/20\n",
            "60000/60000 [==============================] - 3s 45us/step - loss: 2.2282 - acc: 0.3320 - val_loss: 2.2122 - val_acc: 0.3502\n",
            "Epoch 6/20\n",
            "60000/60000 [==============================] - 3s 45us/step - loss: 2.1968 - acc: 0.4053 - val_loss: 2.1755 - val_acc: 0.4377\n",
            "Epoch 7/20\n",
            "60000/60000 [==============================] - 3s 46us/step - loss: 2.1509 - acc: 0.4683 - val_loss: 2.1176 - val_acc: 0.5567\n",
            "Epoch 8/20\n",
            "60000/60000 [==============================] - 3s 46us/step - loss: 2.0818 - acc: 0.5261 - val_loss: 2.0322 - val_acc: 0.5088\n",
            "Epoch 9/20\n",
            "60000/60000 [==============================] - 3s 46us/step - loss: 1.9787 - acc: 0.5432 - val_loss: 1.9072 - val_acc: 0.5657\n",
            "Epoch 10/20\n",
            "60000/60000 [==============================] - 3s 45us/step - loss: 1.8350 - acc: 0.5669 - val_loss: 1.7442 - val_acc: 0.5804\n",
            "Epoch 11/20\n",
            "60000/60000 [==============================] - 3s 46us/step - loss: 1.6651 - acc: 0.5938 - val_loss: 1.5681 - val_acc: 0.6049\n",
            "Epoch 12/20\n",
            "60000/60000 [==============================] - 3s 46us/step - loss: 1.4964 - acc: 0.6160 - val_loss: 1.4071 - val_acc: 0.6401\n",
            "Epoch 13/20\n",
            "60000/60000 [==============================] - 3s 46us/step - loss: 1.3468 - acc: 0.6446 - val_loss: 1.2676 - val_acc: 0.6538\n",
            "Epoch 14/20\n",
            "60000/60000 [==============================] - 3s 45us/step - loss: 1.2187 - acc: 0.6683 - val_loss: 1.1494 - val_acc: 0.6768\n",
            "Epoch 15/20\n",
            "60000/60000 [==============================] - 3s 46us/step - loss: 1.1108 - acc: 0.6901 - val_loss: 1.0514 - val_acc: 0.7086\n",
            "Epoch 16/20\n",
            "60000/60000 [==============================] - 3s 46us/step - loss: 1.0214 - acc: 0.7145 - val_loss: 0.9703 - val_acc: 0.7250\n",
            "Epoch 17/20\n",
            "60000/60000 [==============================] - 3s 45us/step - loss: 0.9482 - acc: 0.7345 - val_loss: 0.9040 - val_acc: 0.7424\n",
            "Epoch 18/20\n",
            "60000/60000 [==============================] - 3s 46us/step - loss: 0.8873 - acc: 0.7520 - val_loss: 0.8485 - val_acc: 0.7668\n",
            "Epoch 19/20\n",
            "60000/60000 [==============================] - 3s 46us/step - loss: 0.8359 - acc: 0.7678 - val_loss: 0.8008 - val_acc: 0.7771\n",
            "Epoch 20/20\n",
            "60000/60000 [==============================] - 3s 45us/step - loss: 0.7908 - acc: 0.7803 - val_loss: 0.7592 - val_acc: 0.7912\n"
          ],
          "name": "stdout"
        }
      ]
    },
    {
      "cell_type": "code",
      "metadata": {
        "id": "CdV34W5RVu3v",
        "colab_type": "code",
        "colab": {
          "base_uri": "https://localhost:8080/",
          "height": 311
        },
        "outputId": "f7aae3e7-ebb8-45cf-e383-6a5e6036d670"
      },
      "source": [
        "score = model_drop.evaluate(x_test, y_test, verbose=0)\n",
        "score11=score[0]\n",
        "score12=score[1]\n",
        "train_acc6=history24.history['acc']\n",
        "print('Test score:%.3f'%score[0]) \n",
        "print('Test accuracy:', score[1])\n",
        "\n",
        "fig,ax23 = plt.subplots(1,1)\n",
        "ax23.set_xlabel('epoch') ; ax23.set_ylabel('Categorical Crossentropy Loss')\n",
        "\n",
        "# list of epoch numbers\n",
        "x = list(range(1,nb_epoch+1))\n",
        "\n",
        "\n",
        "vy23 = history24.history['val_loss']\n",
        "ty23 = history24.history['loss']\n",
        "plt_dynamic(x, vy23, ty23, ax23)"
      ],
      "execution_count": 44,
      "outputs": [
        {
          "output_type": "stream",
          "text": [
            "Test score:0.064\n",
            "Test accuracy: 0.9812\n"
          ],
          "name": "stdout"
        },
        {
          "output_type": "display_data",
          "data": {
            "image/png": "[encoded data removed]",
            "text/plain": [
              "<Figure size 432x288 with 1 Axes>"
            ]
          },
          "metadata": {
            "tags": []
          }
        }
      ]
    },
    {
      "cell_type": "markdown",
      "metadata": {
        "id": "J_RkTS6rWB2z",
        "colab_type": "text"
      },
      "source": [
        "## 2.5 MLP + Dropout + AdamOptimizer"
      ]
    },
    {
      "cell_type": "code",
      "metadata": {
        "id": "YkKKo34eWLEC",
        "colab_type": "code",
        "colab": {}
      },
      "source": [
        "# https://stackoverflow.com/questions/34716454/where-do-i-call-the-batchnormalization-function-in-keras\n",
        "\n",
        "from keras.layers import Dropout\n",
        "\n",
        "model_drop = Sequential()\n",
        "model_drop.add(Dense(352, activation='sigmoid', input_shape=(input_dim,),\n",
        "                     kernel_initializer=he_normal(seed=None)))\n",
        "\n",
        "model_drop.add(BatchNormalization())\n",
        "model_drop.add(Dropout(0.2))\n",
        "model_drop.add(Dense(164, activation='sigmoid', \n",
        "                     kernel_initializer=he_normal(seed=None)) )\n",
        "model_drop.add(BatchNormalization())\n",
        "model_drop.add(Dropout(0.2))\n",
        "\n",
        "                                                    \n",
        "model_drop.add(Dense(124, activation='sigmoid', \n",
        "                     kernel_initializer=he_normal(seed=None)) )\n",
        "model_drop.add(BatchNormalization())\n",
        "model_drop.add(Dropout(0.2))\n",
        "\n",
        "model_drop.add(Dense(output_dim, activation='softmax'))"
      ],
      "execution_count": 0,
      "outputs": []
    },
    {
      "cell_type": "code",
      "metadata": {
        "id": "HABu2O_3WrNg",
        "colab_type": "code",
        "colab": {
          "base_uri": "https://localhost:8080/",
          "height": 683
        },
        "outputId": "a1cf5480-d375-4515-ea95-6d18d0f465bd"
      },
      "source": [
        "model_drop.compile(optimizer='adam',\n",
        "                   loss='categorical_crossentropy',\n",
        "                   metrics=['accuracy'])\n",
        "\n",
        "history25 = model_drop.fit(x_train, y_train,\n",
        "                         batch_size=batch_size,\n",
        "                         \n",
        "                         epochs=nb_epoch, verbose=1,\n",
        "                         validation_data=(x_test, y_test))"
      ],
      "execution_count": 46,
      "outputs": [
        {
          "output_type": "stream",
          "text": [
            "Train on 60000 samples, validate on 10000 samples\n",
            "Epoch 1/20\n",
            "60000/60000 [==============================] - 8s 138us/step - loss: 0.3702 - acc: 0.8884 - val_loss: 0.1879 - val_acc: 0.9453\n",
            "Epoch 2/20\n",
            "60000/60000 [==============================] - 6s 102us/step - loss: 0.2242 - acc: 0.9324 - val_loss: 0.1597 - val_acc: 0.9510\n",
            "Epoch 3/20\n",
            "60000/60000 [==============================] - 6s 102us/step - loss: 0.1759 - acc: 0.9468 - val_loss: 0.1276 - val_acc: 0.9616\n",
            "Epoch 4/20\n",
            "60000/60000 [==============================] - 6s 103us/step - loss: 0.1493 - acc: 0.9546 - val_loss: 0.1028 - val_acc: 0.9675\n",
            "Epoch 5/20\n",
            "60000/60000 [==============================] - 6s 102us/step - loss: 0.1277 - acc: 0.9609 - val_loss: 0.0903 - val_acc: 0.9722\n",
            "Epoch 6/20\n",
            "60000/60000 [==============================] - 6s 102us/step - loss: 0.1111 - acc: 0.9655 - val_loss: 0.0761 - val_acc: 0.9771\n",
            "Epoch 7/20\n",
            "60000/60000 [==============================] - 6s 103us/step - loss: 0.0952 - acc: 0.9699 - val_loss: 0.0790 - val_acc: 0.9773\n",
            "Epoch 8/20\n",
            "60000/60000 [==============================] - 6s 101us/step - loss: 0.0886 - acc: 0.9722 - val_loss: 0.0809 - val_acc: 0.9754\n",
            "Epoch 9/20\n",
            "60000/60000 [==============================] - 6s 103us/step - loss: 0.0774 - acc: 0.9756 - val_loss: 0.0709 - val_acc: 0.9785\n",
            "Epoch 10/20\n",
            "60000/60000 [==============================] - 6s 102us/step - loss: 0.0716 - acc: 0.9770 - val_loss: 0.0701 - val_acc: 0.9786\n",
            "Epoch 11/20\n",
            "60000/60000 [==============================] - 6s 102us/step - loss: 0.0659 - acc: 0.9782 - val_loss: 0.0674 - val_acc: 0.9796\n",
            "Epoch 12/20\n",
            "60000/60000 [==============================] - 6s 102us/step - loss: 0.0641 - acc: 0.9797 - val_loss: 0.0642 - val_acc: 0.9804\n",
            "Epoch 13/20\n",
            "60000/60000 [==============================] - 6s 102us/step - loss: 0.0553 - acc: 0.9818 - val_loss: 0.0661 - val_acc: 0.9803\n",
            "Epoch 14/20\n",
            "60000/60000 [==============================] - 6s 103us/step - loss: 0.0531 - acc: 0.9828 - val_loss: 0.0645 - val_acc: 0.9810\n",
            "Epoch 15/20\n",
            "60000/60000 [==============================] - 6s 101us/step - loss: 0.0489 - acc: 0.9840 - val_loss: 0.0636 - val_acc: 0.9814\n",
            "Epoch 16/20\n",
            "60000/60000 [==============================] - 6s 102us/step - loss: 0.0452 - acc: 0.9848 - val_loss: 0.0603 - val_acc: 0.9834\n",
            "Epoch 17/20\n",
            "60000/60000 [==============================] - 6s 102us/step - loss: 0.0445 - acc: 0.9852 - val_loss: 0.0688 - val_acc: 0.9811\n",
            "Epoch 18/20\n",
            "60000/60000 [==============================] - 6s 103us/step - loss: 0.0398 - acc: 0.9869 - val_loss: 0.0594 - val_acc: 0.9824\n",
            "Epoch 19/20\n",
            "60000/60000 [==============================] - 6s 103us/step - loss: 0.0377 - acc: 0.9875 - val_loss: 0.0639 - val_acc: 0.9832\n",
            "Epoch 20/20\n",
            "60000/60000 [==============================] - 6s 102us/step - loss: 0.0363 - acc: 0.9878 - val_loss: 0.0590 - val_acc: 0.9836\n"
          ],
          "name": "stdout"
        }
      ]
    },
    {
      "cell_type": "code",
      "metadata": {
        "id": "T80bdCBTWtrs",
        "colab_type": "code",
        "colab": {
          "base_uri": "https://localhost:8080/",
          "height": 311
        },
        "outputId": "49c6ac79-04bc-4afb-82a4-ca769a342e67"
      },
      "source": [
        "score = model_drop.evaluate(x_test, y_test, verbose=0)\n",
        "score11=score[0]\n",
        "score12=score[1]\n",
        "train_acc6=history24.history['acc']\n",
        "print('Test score:%.3f'%score[0]) \n",
        "print('Test accuracy:', score[1])\n",
        "\n",
        "fig,ax23 = plt.subplots(1,1)\n",
        "ax23.set_xlabel('epoch') ; ax23.set_ylabel('Categorical Crossentropy Loss')\n",
        "\n",
        "# list of epoch numbers\n",
        "x = list(range(1,nb_epoch+1))\n",
        "\n",
        "\n",
        "vy23 = history24.history['val_loss']\n",
        "ty23 = history24.history['loss']\n",
        "plt_dynamic(x, vy23, ty23, ax23)"
      ],
      "execution_count": 47,
      "outputs": [
        {
          "output_type": "stream",
          "text": [
            "Test score:0.059\n",
            "Test accuracy: 0.9836\n"
          ],
          "name": "stdout"
        },
        {
          "output_type": "display_data",
          "data": {
            "image/png": "[encoded data removed]",
            "text/plain": [
              "<Figure size 432x288 with 1 Axes>"
            ]
          },
          "metadata": {
            "tags": []
          }
        }
      ]
    },
    {
      "cell_type": "markdown",
      "metadata": {
        "id": "Ut1q1IkEulOK",
        "colab_type": "text"
      },
      "source": [
        "# 3) 5-Hidden layer architecture (784-216-170-136-80-38-10 architecture)\n",
        "\n",
        "\n",
        "## 3.1 MLP + ReLU + ADAM"
      ]
    },
    {
      "cell_type": "code",
      "metadata": {
        "id": "ZqV052KouwAB",
        "colab_type": "code",
        "outputId": "0cd3463f-8abb-48b2-f0a6-2f11ac1d41ed",
        "colab": {
          "base_uri": "https://localhost:8080/",
          "height": 1000
        }
      },
      "source": [
        "\n",
        "model_relu = Sequential()\n",
        "model_relu.add(Dense(216, activation='relu', input_shape=(input_dim,),\n",
        "                     kernel_initializer=he_normal(seed=None)))\n",
        "model_relu.add(Dense(170, activation='relu', \n",
        "                     kernel_initializer=he_normal(seed=None)) )\n",
        "                                                    \n",
        "model_relu.add(Dense(136, activation='relu', \n",
        "                     kernel_initializer=he_normal(seed=None)) )\n",
        "model_relu.add(Dense(80, activation='relu', \n",
        "                     kernel_initializer=he_normal(seed=None)) )\n",
        "                                                    \n",
        "model_relu.add(Dense(38, activation='relu', \n",
        "                     kernel_initializer=he_normal(seed=None)) )\n",
        "model_relu.add(Dense(output_dim, activation='softmax'))\n",
        "\n",
        "print(model_relu.summary())\n",
        "\n",
        "model_relu.compile(optimizer='adam',\n",
        "                   loss='categorical_crossentropy',\n",
        "                   metrics=['accuracy'])\n",
        "\n",
        "history31 = model_relu.fit(x_train, y_train, \n",
        "                         batch_size=batch_size, \n",
        "                         epochs=nb_epoch, verbose=1, \n",
        "                         validation_data=(x_test, y_test))"
      ],
      "execution_count": 48,
      "outputs": [
        {
          "output_type": "stream",
          "text": [
            "Model: \"sequential_13\"\n",
            "_________________________________________________________________\n",
            "Layer (type)                 Output Shape              Param #   \n",
            "=================================================================\n",
            "dense_44 (Dense)             (None, 216)               169560    \n",
            "_________________________________________________________________\n",
            "dense_45 (Dense)             (None, 170)               36890     \n",
            "_________________________________________________________________\n",
            "dense_46 (Dense)             (None, 136)               23256     \n",
            "_________________________________________________________________\n",
            "dense_47 (Dense)             (None, 80)                10960     \n",
            "_________________________________________________________________\n",
            "dense_48 (Dense)             (None, 38)                3078      \n",
            "_________________________________________________________________\n",
            "dense_49 (Dense)             (None, 10)                390       \n",
            "=================================================================\n",
            "Total params: 244,134\n",
            "Trainable params: 244,134\n",
            "Non-trainable params: 0\n",
            "_________________________________________________________________\n",
            "None\n",
            "Train on 60000 samples, validate on 10000 samples\n",
            "Epoch 1/20\n",
            "60000/60000 [==============================] - 6s 92us/step - loss: 0.2791 - acc: 0.9173 - val_loss: 0.1240 - val_acc: 0.9631\n",
            "Epoch 2/20\n",
            "60000/60000 [==============================] - 4s 62us/step - loss: 0.1028 - acc: 0.9688 - val_loss: 0.0994 - val_acc: 0.9682\n",
            "Epoch 3/20\n",
            "60000/60000 [==============================] - 4s 62us/step - loss: 0.0705 - acc: 0.9786 - val_loss: 0.1025 - val_acc: 0.9683\n",
            "Epoch 4/20\n",
            "60000/60000 [==============================] - 4s 62us/step - loss: 0.0512 - acc: 0.9836 - val_loss: 0.0906 - val_acc: 0.9732\n",
            "Epoch 5/20\n",
            "60000/60000 [==============================] - 4s 61us/step - loss: 0.0407 - acc: 0.9866 - val_loss: 0.0776 - val_acc: 0.9767\n",
            "Epoch 6/20\n",
            "60000/60000 [==============================] - 4s 62us/step - loss: 0.0367 - acc: 0.9883 - val_loss: 0.0887 - val_acc: 0.9748\n",
            "Epoch 7/20\n",
            "60000/60000 [==============================] - 4s 62us/step - loss: 0.0309 - acc: 0.9896 - val_loss: 0.0815 - val_acc: 0.9767\n",
            "Epoch 8/20\n",
            "60000/60000 [==============================] - 4s 61us/step - loss: 0.0256 - acc: 0.9914 - val_loss: 0.0819 - val_acc: 0.9790\n",
            "Epoch 9/20\n",
            "60000/60000 [==============================] - 4s 62us/step - loss: 0.0214 - acc: 0.9931 - val_loss: 0.0797 - val_acc: 0.9787\n",
            "Epoch 10/20\n",
            "60000/60000 [==============================] - 4s 61us/step - loss: 0.0240 - acc: 0.9922 - val_loss: 0.0822 - val_acc: 0.9794\n",
            "Epoch 11/20\n",
            "60000/60000 [==============================] - 4s 61us/step - loss: 0.0206 - acc: 0.9933 - val_loss: 0.0861 - val_acc: 0.9775\n",
            "Epoch 12/20\n",
            "60000/60000 [==============================] - 4s 61us/step - loss: 0.0203 - acc: 0.9936 - val_loss: 0.1007 - val_acc: 0.9755\n",
            "Epoch 13/20\n",
            "60000/60000 [==============================] - 4s 63us/step - loss: 0.0137 - acc: 0.9954 - val_loss: 0.0928 - val_acc: 0.9766\n",
            "Epoch 14/20\n",
            "60000/60000 [==============================] - 4s 61us/step - loss: 0.0159 - acc: 0.9950 - val_loss: 0.0953 - val_acc: 0.9785\n",
            "Epoch 15/20\n",
            "60000/60000 [==============================] - 4s 62us/step - loss: 0.0148 - acc: 0.9954 - val_loss: 0.0922 - val_acc: 0.9797\n",
            "Epoch 16/20\n",
            "60000/60000 [==============================] - 4s 62us/step - loss: 0.0156 - acc: 0.9949 - val_loss: 0.0894 - val_acc: 0.9789\n",
            "Epoch 17/20\n",
            "60000/60000 [==============================] - 4s 60us/step - loss: 0.0126 - acc: 0.9958 - val_loss: 0.0994 - val_acc: 0.9774\n",
            "Epoch 18/20\n",
            "60000/60000 [==============================] - 4s 61us/step - loss: 0.0119 - acc: 0.9960 - val_loss: 0.1186 - val_acc: 0.9764\n",
            "Epoch 19/20\n",
            "60000/60000 [==============================] - 4s 61us/step - loss: 0.0123 - acc: 0.9959 - val_loss: 0.0968 - val_acc: 0.9804\n",
            "Epoch 20/20\n",
            "60000/60000 [==============================] - 4s 62us/step - loss: 0.0143 - acc: 0.9954 - val_loss: 0.0924 - val_acc: 0.9795\n"
          ],
          "name": "stdout"
        }
      ]
    },
    {
      "cell_type": "code",
      "metadata": {
        "id": "qhR72ZUuu2SG",
        "colab_type": "code",
        "outputId": "96ec2d5d-3f9e-459a-b38f-5d377b400536",
        "colab": {
          "base_uri": "https://localhost:8080/",
          "height": 311
        }
      },
      "source": [
        "score = model_relu.evaluate(x_test, y_test, verbose=0) \n",
        "score13=score[0]\n",
        "score14=score[1]\n",
        "train_acc7=history31.history['acc']\n",
        "print('Test score:%.3f'% score[0]) \n",
        "print('Test accuracy:', score[1])\n",
        "\n",
        "fig,ax31 = plt.subplots(1,1)\n",
        "ax31.set_xlabel('epoch') ; ax31.set_ylabel('Categorical Crossentropy Loss')\n",
        "\n",
        "# list of epoch numbers\n",
        "x = list(range(1,nb_epoch+1))\n",
        "\n",
        "\n",
        "vy31 = history31.history['val_loss']\n",
        "ty31 = history31.history['loss']\n",
        "plt_dynamic(x, vy31, ty31, ax31)"
      ],
      "execution_count": 50,
      "outputs": [
        {
          "output_type": "stream",
          "text": [
            "Test score:0.092\n",
            "Test accuracy: 0.9795\n"
          ],
          "name": "stdout"
        },
        {
          "output_type": "display_data",
          "data": {
            "image/png": "[encoded data removed]",
            "text/plain": [
              "<Figure size 432x288 with 1 Axes>"
            ]
          },
          "metadata": {
            "tags": []
          }
        }
      ]
    },
    {
      "cell_type": "markdown",
      "metadata": {
        "id": "JeDm-dE_vRYs",
        "colab_type": "text"
      },
      "source": [
        "\n",
        "## 3.2 MLP + Batch-Norm on hidden Layers + AdamOptimizer"
      ]
    },
    {
      "cell_type": "code",
      "metadata": {
        "id": "RC0eBcUkvURc",
        "colab_type": "code",
        "colab": {}
      },
      "source": [
        "from keras.layers.normalization import BatchNormalization\n",
        "\n",
        "model_batch = Sequential()\n",
        "\n",
        "model_batch.add(Dense(216, activation='relu', input_shape=(input_dim,),\n",
        "                     kernel_initializer=he_normal(seed=None)))\n",
        "model_batch.add(BatchNormalization())\n",
        "model_batch.add(Dense(170, activation='relu', \n",
        "                     kernel_initializer=he_normal(seed=None)) )\n",
        "model_batch.add(BatchNormalization())\n",
        "                                                    \n",
        "model_batch.add(Dense(136, activation='relu', \n",
        "                     kernel_initializer=he_normal(seed=None)) )\n",
        "model_batch.add(BatchNormalization())\n",
        "model_batch.add(Dense(80, activation='relu', \n",
        "                     kernel_initializer=he_normal(seed=None)) )\n",
        "model_batch.add(BatchNormalization())\n",
        "                                                    \n",
        "model_batch.add(Dense(38, activation='relu', \n",
        "                     kernel_initializer=he_normal(seed=None)) )\n",
        "model_batch.add(BatchNormalization())\n",
        "\n",
        "model_batch.add(Dense(output_dim, activation='softmax'))"
      ],
      "execution_count": 0,
      "outputs": []
    },
    {
      "cell_type": "code",
      "metadata": {
        "id": "xG8ntreKvoQP",
        "colab_type": "code",
        "outputId": "94e7ec78-6f4f-4db7-8e88-3580b175b203",
        "colab": {
          "base_uri": "https://localhost:8080/",
          "height": 683
        }
      },
      "source": [
        "\n",
        "model_batch.compile(optimizer='adam', loss='categorical_crossentropy', \n",
        "                    metrics=['accuracy'])\n",
        "\n",
        "history32 = model_batch.fit(x_train, y_train, \n",
        "                           batch_size=batch_size,\n",
        "                           epochs=nb_epoch, verbose=1, \n",
        "                           validation_data=(x_test, y_test))"
      ],
      "execution_count": 52,
      "outputs": [
        {
          "output_type": "stream",
          "text": [
            "Train on 60000 samples, validate on 10000 samples\n",
            "Epoch 1/20\n",
            "60000/60000 [==============================] - 11s 184us/step - loss: 0.2937 - acc: 0.9144 - val_loss: 0.1178 - val_acc: 0.9652\n",
            "Epoch 2/20\n",
            "60000/60000 [==============================] - 8s 139us/step - loss: 0.1025 - acc: 0.9685 - val_loss: 0.1001 - val_acc: 0.9690\n",
            "Epoch 3/20\n",
            "60000/60000 [==============================] - 8s 138us/step - loss: 0.0707 - acc: 0.9777 - val_loss: 0.0920 - val_acc: 0.9715\n",
            "Epoch 4/20\n",
            "60000/60000 [==============================] - 8s 132us/step - loss: 0.0532 - acc: 0.9835 - val_loss: 0.0835 - val_acc: 0.9751\n",
            "Epoch 5/20\n",
            "60000/60000 [==============================] - 8s 133us/step - loss: 0.0425 - acc: 0.9866 - val_loss: 0.0827 - val_acc: 0.9747\n",
            "Epoch 6/20\n",
            "60000/60000 [==============================] - 8s 134us/step - loss: 0.0367 - acc: 0.9879 - val_loss: 0.0917 - val_acc: 0.9737\n",
            "Epoch 7/20\n",
            "60000/60000 [==============================] - 8s 135us/step - loss: 0.0328 - acc: 0.9898 - val_loss: 0.0923 - val_acc: 0.9751\n",
            "Epoch 8/20\n",
            "60000/60000 [==============================] - 8s 135us/step - loss: 0.0306 - acc: 0.9902 - val_loss: 0.1035 - val_acc: 0.9706\n",
            "Epoch 9/20\n",
            "60000/60000 [==============================] - 8s 136us/step - loss: 0.0288 - acc: 0.9905 - val_loss: 0.0745 - val_acc: 0.9773\n",
            "Epoch 10/20\n",
            "60000/60000 [==============================] - 8s 135us/step - loss: 0.0224 - acc: 0.9925 - val_loss: 0.0849 - val_acc: 0.9764\n",
            "Epoch 11/20\n",
            "60000/60000 [==============================] - 8s 137us/step - loss: 0.0208 - acc: 0.9932 - val_loss: 0.0864 - val_acc: 0.9752\n",
            "Epoch 12/20\n",
            "60000/60000 [==============================] - 8s 135us/step - loss: 0.0215 - acc: 0.9930 - val_loss: 0.0884 - val_acc: 0.9766\n",
            "Epoch 13/20\n",
            "60000/60000 [==============================] - 8s 137us/step - loss: 0.0204 - acc: 0.9930 - val_loss: 0.0818 - val_acc: 0.9785\n",
            "Epoch 14/20\n",
            "60000/60000 [==============================] - 8s 134us/step - loss: 0.0177 - acc: 0.9941 - val_loss: 0.0747 - val_acc: 0.9799\n",
            "Epoch 15/20\n",
            "60000/60000 [==============================] - 8s 134us/step - loss: 0.0147 - acc: 0.9949 - val_loss: 0.0858 - val_acc: 0.9786\n",
            "Epoch 16/20\n",
            "60000/60000 [==============================] - 8s 136us/step - loss: 0.0188 - acc: 0.9939 - val_loss: 0.0742 - val_acc: 0.9798\n",
            "Epoch 17/20\n",
            "60000/60000 [==============================] - 8s 135us/step - loss: 0.0123 - acc: 0.9960 - val_loss: 0.0773 - val_acc: 0.9801\n",
            "Epoch 18/20\n",
            "60000/60000 [==============================] - 8s 135us/step - loss: 0.0138 - acc: 0.9956 - val_loss: 0.0888 - val_acc: 0.9774\n",
            "Epoch 19/20\n",
            "60000/60000 [==============================] - 8s 134us/step - loss: 0.0139 - acc: 0.9950 - val_loss: 0.0798 - val_acc: 0.9806\n",
            "Epoch 20/20\n",
            "60000/60000 [==============================] - 8s 135us/step - loss: 0.0115 - acc: 0.9960 - val_loss: 0.0690 - val_acc: 0.9823\n"
          ],
          "name": "stdout"
        }
      ]
    },
    {
      "cell_type": "code",
      "metadata": {
        "id": "yOFVQzTzvtY-",
        "colab_type": "code",
        "outputId": "3372858b-4813-40e2-cb9d-775739d1e2f2",
        "colab": {
          "base_uri": "https://localhost:8080/",
          "height": 311
        }
      },
      "source": [
        "score = model_batch.evaluate(x_test, y_test, verbose=0) \n",
        "score15=score[0]\n",
        "score16=score[1]\n",
        "train_acc8=history32.history['acc']\n",
        "print('Test score:%.3f'% score[0]) \n",
        "print('Test accuracy:', score[1])\n",
        "\n",
        "fig,ax32 = plt.subplots(1,1)\n",
        "ax32.set_xlabel('epoch') ; ax32.set_ylabel('Categorical Crossentropy Loss')\n",
        "\n",
        "# list of epoch numbers\n",
        "x = list(range(1,nb_epoch+1))\n",
        "\n",
        "vy32 = history32.history['val_loss']\n",
        "ty32 = history32.history['loss']\n",
        "plt_dynamic(x, vy32, ty32, ax32)"
      ],
      "execution_count": 53,
      "outputs": [
        {
          "output_type": "stream",
          "text": [
            "Test score:0.069\n",
            "Test accuracy: 0.9823\n"
          ],
          "name": "stdout"
        },
        {
          "output_type": "display_data",
          "data": {
            "image/png": "[encoded data removed]",
            "text/plain": [
              "<Figure size 432x288 with 1 Axes>"
            ]
          },
          "metadata": {
            "tags": []
          }
        }
      ]
    },
    {
      "cell_type": "markdown",
      "metadata": {
        "id": "2DhgF6NmwkeC",
        "colab_type": "text"
      },
      "source": [
        "## 3.3 MLP + Dropout + AdamOptimizer"
      ]
    },
    {
      "cell_type": "code",
      "metadata": {
        "id": "11Lfz6zWwooz",
        "colab_type": "code",
        "colab": {}
      },
      "source": [
        "\n",
        "# https://stackoverflow.com/questions/34716454/where-do-i-call-the-batchnormalization-function-in-keras\n",
        "\n",
        "from keras.layers import Dropout\n",
        "\n",
        "model_drop = Sequential()\n",
        "model_relu.add(Dense(216, activation='relu', input_shape=(input_dim,),\n",
        "                     kernel_initializer=he_normal(seed=None)))\n",
        "model_drop.add(BatchNormalization())\n",
        "model_drop.add(Dropout(0.5))\n",
        "model_relu.add(Dense(170, activation='relu', \n",
        "                     kernel_initializer=he_normal(seed=None)) )\n",
        "model_drop.add(BatchNormalization())\n",
        "model_drop.add(Dropout(0.5))\n",
        "                                                    \n",
        "model_relu.add(Dense(136, activation='relu', \n",
        "                     kernel_initializer=he_normal(seed=None)) )\n",
        "model_drop.add(BatchNormalization())\n",
        "model_drop.add(Dropout(0.5))\n",
        "model_relu.add(Dense(80, activation='relu', \n",
        "                     kernel_initializer=he_normal(seed=None)) )\n",
        "model_drop.add(BatchNormalization())\n",
        "model_drop.add(Dropout(0.5))\n",
        "                                                    \n",
        "model_relu.add(Dense(38, activation='relu', \n",
        "                     kernel_initializer=he_normal(seed=None)) )\n",
        "model_drop.add(BatchNormalization())\n",
        "model_drop.add(Dropout(0.5))\n",
        "\n",
        "model_drop.add(Dense(output_dim, activation='softmax'))"
      ],
      "execution_count": 0,
      "outputs": []
    },
    {
      "cell_type": "code",
      "metadata": {
        "id": "aWu9RcRKw_xQ",
        "colab_type": "code",
        "outputId": "12f1df9d-ae45-4ab4-e9d4-85926ad33ac7",
        "colab": {
          "base_uri": "https://localhost:8080/",
          "height": 683
        }
      },
      "source": [
        "model_drop.compile(optimizer='adam',\n",
        "                   loss='categorical_crossentropy',\n",
        "                   metrics=['accuracy'])\n",
        "\n",
        "history33 = model_drop.fit(x_train, y_train,\n",
        "                         batch_size=batch_size,\n",
        "                         \n",
        "                         epochs=nb_epoch, verbose=1,\n",
        "                         validation_data=(x_test, y_test))"
      ],
      "execution_count": 55,
      "outputs": [
        {
          "output_type": "stream",
          "text": [
            "Train on 60000 samples, validate on 10000 samples\n",
            "Epoch 1/20\n",
            "60000/60000 [==============================] - 10s 167us/step - loss: 2.1477 - acc: 0.3122 - val_loss: 1.0585 - val_acc: 0.8262\n",
            "Epoch 2/20\n",
            "60000/60000 [==============================] - 7s 117us/step - loss: 1.6022 - acc: 0.4443 - val_loss: 0.9708 - val_acc: 0.8431\n",
            "Epoch 3/20\n",
            "60000/60000 [==============================] - 7s 114us/step - loss: 1.5939 - acc: 0.4488 - val_loss: 0.9560 - val_acc: 0.8457\n",
            "Epoch 4/20\n",
            "60000/60000 [==============================] - 7s 114us/step - loss: 1.5868 - acc: 0.4490 - val_loss: 0.9482 - val_acc: 0.8495\n",
            "Epoch 5/20\n",
            "60000/60000 [==============================] - 7s 116us/step - loss: 1.5843 - acc: 0.4507 - val_loss: 0.9432 - val_acc: 0.8479\n",
            "Epoch 6/20\n",
            "60000/60000 [==============================] - 7s 115us/step - loss: 1.5838 - acc: 0.4498 - val_loss: 0.9405 - val_acc: 0.8433\n",
            "Epoch 7/20\n",
            "60000/60000 [==============================] - 7s 115us/step - loss: 1.5845 - acc: 0.4541 - val_loss: 0.9489 - val_acc: 0.8413\n",
            "Epoch 8/20\n",
            "60000/60000 [==============================] - 7s 117us/step - loss: 1.5815 - acc: 0.4515 - val_loss: 0.9402 - val_acc: 0.8397\n",
            "Epoch 9/20\n",
            "60000/60000 [==============================] - 7s 117us/step - loss: 1.5806 - acc: 0.4524 - val_loss: 0.9408 - val_acc: 0.8530\n",
            "Epoch 10/20\n",
            "60000/60000 [==============================] - 7s 117us/step - loss: 1.5815 - acc: 0.4548 - val_loss: 0.9420 - val_acc: 0.8501\n",
            "Epoch 11/20\n",
            "60000/60000 [==============================] - 7s 119us/step - loss: 1.5759 - acc: 0.4524 - val_loss: 0.9413 - val_acc: 0.8504\n",
            "Epoch 12/20\n",
            "60000/60000 [==============================] - 7s 117us/step - loss: 1.5734 - acc: 0.4552 - val_loss: 0.9347 - val_acc: 0.8498\n",
            "Epoch 13/20\n",
            "60000/60000 [==============================] - 7s 115us/step - loss: 1.5656 - acc: 0.4554 - val_loss: 0.9343 - val_acc: 0.8506\n",
            "Epoch 14/20\n",
            "60000/60000 [==============================] - 7s 115us/step - loss: 1.5702 - acc: 0.4565 - val_loss: 0.9345 - val_acc: 0.8499\n",
            "Epoch 15/20\n",
            "60000/60000 [==============================] - 7s 119us/step - loss: 1.5699 - acc: 0.4559 - val_loss: 0.9368 - val_acc: 0.8522\n",
            "Epoch 16/20\n",
            "60000/60000 [==============================] - 7s 116us/step - loss: 1.5556 - acc: 0.4602 - val_loss: 0.9323 - val_acc: 0.8543\n",
            "Epoch 17/20\n",
            "60000/60000 [==============================] - 7s 116us/step - loss: 1.5668 - acc: 0.4583 - val_loss: 0.9333 - val_acc: 0.8465\n",
            "Epoch 18/20\n",
            "60000/60000 [==============================] - 7s 115us/step - loss: 1.5562 - acc: 0.4607 - val_loss: 0.9255 - val_acc: 0.8412\n",
            "Epoch 19/20\n",
            "60000/60000 [==============================] - 7s 117us/step - loss: 1.5631 - acc: 0.4593 - val_loss: 0.9327 - val_acc: 0.8498\n",
            "Epoch 20/20\n",
            "60000/60000 [==============================] - 7s 120us/step - loss: 1.5638 - acc: 0.4565 - val_loss: 0.9318 - val_acc: 0.8500\n"
          ],
          "name": "stdout"
        }
      ]
    },
    {
      "cell_type": "code",
      "metadata": {
        "id": "IdV3ygWyxPN_",
        "colab_type": "code",
        "outputId": "77e287f5-d305-4387-d3f8-1ff39faee6a9",
        "colab": {
          "base_uri": "https://localhost:8080/",
          "height": 315
        }
      },
      "source": [
        "score = model_drop.evaluate(x_test, y_test, verbose=0) \n",
        "score17=score[0]\n",
        "score18=score[1]\n",
        "train_acc9=history33.history['acc']\n",
        "print('Test score:%.3f'%score[0]) \n",
        "print('Test accuracy:', score[1])\n",
        "\n",
        "fig,ax33 = plt.subplots(1,1)\n",
        "ax33.set_xlabel('epoch') ; ax33.set_ylabel('Categorical Crossentropy Loss')\n",
        "\n",
        "# list of epoch numbers\n",
        "x = list(range(1,nb_epoch+1))\n",
        "\n",
        "\n",
        "vy33 = history33.history['val_loss']\n",
        "ty33 = history33.history['loss']\n",
        "plt_dynamic(x, vy33, ty33, ax33)"
      ],
      "execution_count": 56,
      "outputs": [
        {
          "output_type": "stream",
          "text": [
            "Test score:0.932\n",
            "Test accuracy: 0.85\n"
          ],
          "name": "stdout"
        },
        {
          "output_type": "display_data",
          "data": {
            "image/png": "[encoded data removed]",
            "text/plain": [
              "<Figure size 432x288 with 1 Axes>"
            ]
          },
          "metadata": {
            "tags": []
          }
        }
      ]
    },
    {
      "cell_type": "markdown",
      "metadata": {
        "id": "kJTLd1VoZCr4",
        "colab_type": "text"
      },
      "source": [
        "## 3.4 MLP + Sigmoid activation + SGDOptimizer"
      ]
    },
    {
      "cell_type": "code",
      "metadata": {
        "id": "dtb6wx6JZT-I",
        "colab_type": "code",
        "colab": {
          "base_uri": "https://localhost:8080/",
          "height": 1000
        },
        "outputId": "2b046893-b876-4534-bd27-dbb1ade35b91"
      },
      "source": [
        "model_sigmoid = Sequential()\n",
        "model_sigmoid.add(Dense(216, activation='sigmoid', input_shape=(input_dim,),\n",
        "                     kernel_initializer=he_normal(seed=None)))\n",
        "model_sigmoid.add(Dense(170, activation='sigmoid', \n",
        "                     kernel_initializer=he_normal(seed=None)) )\n",
        "                                                    \n",
        "model_sigmoid.add(Dense(136, activation='sigmoid', \n",
        "                     kernel_initializer=he_normal(seed=None)) )\n",
        "model_sigmoid.add(Dense(80, activation='sigmoid', \n",
        "                     kernel_initializer=he_normal(seed=None)) )\n",
        "                                                    \n",
        "model_sigmoid.add(Dense(38, activation='sigmoid', \n",
        "                     kernel_initializer=he_normal(seed=None)) )\n",
        "model_sigmoid.add(Dense(output_dim, activation='softmax'))\n",
        "\n",
        "print(model_sigmoid.summary())\n",
        "\n",
        "model_sigmoid.compile(optimizer='adam',\n",
        "                   loss='categorical_crossentropy',\n",
        "                   metrics=['accuracy'])\n",
        "\n",
        "history34 = model_sigmoid.fit(x_train, y_train, \n",
        "                         batch_size=batch_size, \n",
        "                         epochs=nb_epoch, verbose=1, \n",
        "                         validation_data=(x_test, y_test))"
      ],
      "execution_count": 59,
      "outputs": [
        {
          "output_type": "stream",
          "text": [
            "Model: \"sequential_18\"\n",
            "_________________________________________________________________\n",
            "Layer (type)                 Output Shape              Param #   \n",
            "=================================================================\n",
            "dense_68 (Dense)             (None, 216)               169560    \n",
            "_________________________________________________________________\n",
            "dense_69 (Dense)             (None, 170)               36890     \n",
            "_________________________________________________________________\n",
            "dense_70 (Dense)             (None, 136)               23256     \n",
            "_________________________________________________________________\n",
            "dense_71 (Dense)             (None, 80)                10960     \n",
            "_________________________________________________________________\n",
            "dense_72 (Dense)             (None, 38)                3078      \n",
            "_________________________________________________________________\n",
            "dense_73 (Dense)             (None, 10)                390       \n",
            "=================================================================\n",
            "Total params: 244,134\n",
            "Trainable params: 244,134\n",
            "Non-trainable params: 0\n",
            "_________________________________________________________________\n",
            "None\n",
            "Train on 60000 samples, validate on 10000 samples\n",
            "Epoch 1/20\n",
            "60000/60000 [==============================] - 7s 110us/step - loss: 1.1419 - acc: 0.6578 - val_loss: 0.4209 - val_acc: 0.9029\n",
            "Epoch 2/20\n",
            "60000/60000 [==============================] - 4s 64us/step - loss: 0.3086 - acc: 0.9245 - val_loss: 0.2436 - val_acc: 0.9352\n",
            "Epoch 3/20\n",
            "60000/60000 [==============================] - 4s 64us/step - loss: 0.1995 - acc: 0.9470 - val_loss: 0.1794 - val_acc: 0.9521\n",
            "Epoch 4/20\n",
            "60000/60000 [==============================] - 4s 65us/step - loss: 0.1485 - acc: 0.9601 - val_loss: 0.1711 - val_acc: 0.9536\n",
            "Epoch 5/20\n",
            "60000/60000 [==============================] - 4s 65us/step - loss: 0.1200 - acc: 0.9674 - val_loss: 0.1486 - val_acc: 0.9593\n",
            "Epoch 6/20\n",
            "60000/60000 [==============================] - 4s 64us/step - loss: 0.1007 - acc: 0.9731 - val_loss: 0.1238 - val_acc: 0.9659\n",
            "Epoch 7/20\n",
            "60000/60000 [==============================] - 4s 64us/step - loss: 0.0841 - acc: 0.9779 - val_loss: 0.1240 - val_acc: 0.9643\n",
            "Epoch 8/20\n",
            "60000/60000 [==============================] - 4s 64us/step - loss: 0.0734 - acc: 0.9802 - val_loss: 0.1202 - val_acc: 0.9656\n",
            "Epoch 9/20\n",
            "60000/60000 [==============================] - 4s 64us/step - loss: 0.0632 - acc: 0.9824 - val_loss: 0.1033 - val_acc: 0.9704\n",
            "Epoch 10/20\n",
            "60000/60000 [==============================] - 4s 64us/step - loss: 0.0555 - acc: 0.9847 - val_loss: 0.0984 - val_acc: 0.9728\n",
            "Epoch 11/20\n",
            "60000/60000 [==============================] - 4s 63us/step - loss: 0.0461 - acc: 0.9878 - val_loss: 0.1105 - val_acc: 0.9689\n",
            "Epoch 12/20\n",
            "60000/60000 [==============================] - 4s 64us/step - loss: 0.0418 - acc: 0.9888 - val_loss: 0.0940 - val_acc: 0.9762\n",
            "Epoch 13/20\n",
            "60000/60000 [==============================] - 4s 65us/step - loss: 0.0356 - acc: 0.9904 - val_loss: 0.1093 - val_acc: 0.9719\n",
            "Epoch 14/20\n",
            "60000/60000 [==============================] - 4s 67us/step - loss: 0.0344 - acc: 0.9904 - val_loss: 0.0995 - val_acc: 0.9744\n",
            "Epoch 15/20\n",
            "60000/60000 [==============================] - 4s 66us/step - loss: 0.0281 - acc: 0.9922 - val_loss: 0.1015 - val_acc: 0.9734\n",
            "Epoch 16/20\n",
            "60000/60000 [==============================] - 4s 65us/step - loss: 0.0234 - acc: 0.9938 - val_loss: 0.1039 - val_acc: 0.9740\n",
            "Epoch 17/20\n",
            "60000/60000 [==============================] - 4s 65us/step - loss: 0.0248 - acc: 0.9928 - val_loss: 0.0933 - val_acc: 0.9775\n",
            "Epoch 18/20\n",
            "60000/60000 [==============================] - 4s 63us/step - loss: 0.0198 - acc: 0.9944 - val_loss: 0.0998 - val_acc: 0.9742\n",
            "Epoch 19/20\n",
            "60000/60000 [==============================] - 4s 64us/step - loss: 0.0189 - acc: 0.9943 - val_loss: 0.1047 - val_acc: 0.9752\n",
            "Epoch 20/20\n",
            "60000/60000 [==============================] - 4s 64us/step - loss: 0.0148 - acc: 0.9958 - val_loss: 0.1126 - val_acc: 0.9738\n"
          ],
          "name": "stdout"
        }
      ]
    },
    {
      "cell_type": "code",
      "metadata": {
        "id": "7coBU3fJZ0Yx",
        "colab_type": "code",
        "colab": {
          "base_uri": "https://localhost:8080/",
          "height": 315
        },
        "outputId": "6f12b39f-ce63-4b3f-ae5d-3a20c2a14357"
      },
      "source": [
        "score = model_drop.evaluate(x_test, y_test, verbose=0) \n",
        "score17=score[0]\n",
        "score18=score[1]\n",
        "train_acc9=history34.history['acc']\n",
        "print('Test score:%.3f'%score[0]) \n",
        "print('Test accuracy:', score[1])\n",
        "\n",
        "fig,ax33 = plt.subplots(1,1)\n",
        "ax33.set_xlabel('epoch') ; ax33.set_ylabel('Categorical Crossentropy Loss')\n",
        "\n",
        "# list of epoch numbers\n",
        "x = list(range(1,nb_epoch+1))\n",
        "\n",
        "\n",
        "vy33 = history33.history['val_loss']\n",
        "ty33 = history33.history['loss']\n",
        "plt_dynamic(x, vy33, ty33, ax33)"
      ],
      "execution_count": 60,
      "outputs": [
        {
          "output_type": "stream",
          "text": [
            "Test score:0.932\n",
            "Test accuracy: 0.85\n"
          ],
          "name": "stdout"
        },
        {
          "output_type": "display_data",
          "data": {
            "image/png": "[encoded data removed]",
            "text/plain": [
              "<Figure size 432x288 with 1 Axes>"
            ]
          },
          "metadata": {
            "tags": []
          }
        }
      ]
    },
    {
      "cell_type": "markdown",
      "metadata": {
        "id": "Vg5V9RfPaam4",
        "colab_type": "text"
      },
      "source": [
        "## MLP + Dropout + AdamOptimizer"
      ]
    },
    {
      "cell_type": "code",
      "metadata": {
        "id": "Rue8gPQQanG5",
        "colab_type": "code",
        "colab": {}
      },
      "source": [
        "from keras.layers import Dropout\n",
        "\n",
        "model_drop = Sequential()\n",
        "model_relu.add(Dense(216, activation='sigmoid', input_shape=(input_dim,),\n",
        "                     kernel_initializer=he_normal(seed=None)))\n",
        "model_drop.add(BatchNormalization())\n",
        "model_drop.add(Dropout(0.2))\n",
        "model_relu.add(Dense(170, activation='sigmoid', \n",
        "                     kernel_initializer=he_normal(seed=None)) )\n",
        "model_drop.add(BatchNormalization())\n",
        "model_drop.add(Dropout(0.2))\n",
        "                                                    \n",
        "model_relu.add(Dense(136, activation='sigmoid', \n",
        "                     kernel_initializer=he_normal(seed=None)) )\n",
        "model_drop.add(BatchNormalization())\n",
        "model_drop.add(Dropout(0.2))\n",
        "model_relu.add(Dense(80, activation='sigmoid', \n",
        "                     kernel_initializer=he_normal(seed=None)) )\n",
        "model_drop.add(BatchNormalization())\n",
        "model_drop.add(Dropout(0.2))\n",
        "                                                    \n",
        "model_relu.add(Dense(38, activation='sigmoid', \n",
        "                     kernel_initializer=he_normal(seed=None)) )\n",
        "model_drop.add(BatchNormalization())\n",
        "model_drop.add(Dropout(0.2))\n",
        "\n",
        "model_drop.add(Dense(output_dim, activation='softmax'))"
      ],
      "execution_count": 0,
      "outputs": []
    },
    {
      "cell_type": "code",
      "metadata": {
        "id": "OAND79MxbVHo",
        "colab_type": "code",
        "colab": {
          "base_uri": "https://localhost:8080/",
          "height": 683
        },
        "outputId": "9ade942f-1f8a-4018-c52f-891f638deaef"
      },
      "source": [
        "model_drop.compile(optimizer='adam',\n",
        "                   loss='categorical_crossentropy',\n",
        "                   metrics=['accuracy'])\n",
        "\n",
        "history35 = model_drop.fit(x_train, y_train,\n",
        "                         batch_size=batch_size,\n",
        "                         \n",
        "                         epochs=nb_epoch, verbose=1,\n",
        "                         validation_data=(x_test, y_test))"
      ],
      "execution_count": 63,
      "outputs": [
        {
          "output_type": "stream",
          "text": [
            "Train on 60000 samples, validate on 10000 samples\n",
            "Epoch 1/20\n",
            "60000/60000 [==============================] - 11s 178us/step - loss: 0.4877 - acc: 0.8504 - val_loss: 0.3222 - val_acc: 0.9134\n",
            "Epoch 2/20\n",
            "60000/60000 [==============================] - 7s 116us/step - loss: 0.4771 - acc: 0.8541 - val_loss: 0.3186 - val_acc: 0.9139\n",
            "Epoch 3/20\n",
            "60000/60000 [==============================] - 7s 114us/step - loss: 0.4790 - acc: 0.8530 - val_loss: 0.3201 - val_acc: 0.9136\n",
            "Epoch 4/20\n",
            "60000/60000 [==============================] - 7s 115us/step - loss: 0.4822 - acc: 0.8521 - val_loss: 0.3137 - val_acc: 0.9135\n",
            "Epoch 5/20\n",
            "60000/60000 [==============================] - 7s 116us/step - loss: 0.4832 - acc: 0.8538 - val_loss: 0.3139 - val_acc: 0.9153\n",
            "Epoch 6/20\n",
            "60000/60000 [==============================] - 7s 115us/step - loss: 0.4808 - acc: 0.8515 - val_loss: 0.3157 - val_acc: 0.9157\n",
            "Epoch 7/20\n",
            "60000/60000 [==============================] - 7s 118us/step - loss: 0.4795 - acc: 0.8535 - val_loss: 0.3169 - val_acc: 0.9149\n",
            "Epoch 8/20\n",
            "60000/60000 [==============================] - 7s 115us/step - loss: 0.4835 - acc: 0.8536 - val_loss: 0.3138 - val_acc: 0.9150\n",
            "Epoch 9/20\n",
            "60000/60000 [==============================] - 7s 115us/step - loss: 0.4788 - acc: 0.8544 - val_loss: 0.3119 - val_acc: 0.9139\n",
            "Epoch 10/20\n",
            "60000/60000 [==============================] - 7s 114us/step - loss: 0.4782 - acc: 0.8541 - val_loss: 0.3110 - val_acc: 0.9150\n",
            "Epoch 11/20\n",
            "60000/60000 [==============================] - 7s 115us/step - loss: 0.4807 - acc: 0.8543 - val_loss: 0.3123 - val_acc: 0.9140\n",
            "Epoch 12/20\n",
            "60000/60000 [==============================] - 7s 116us/step - loss: 0.4784 - acc: 0.8554 - val_loss: 0.3130 - val_acc: 0.9146\n",
            "Epoch 13/20\n",
            "60000/60000 [==============================] - 7s 114us/step - loss: 0.4752 - acc: 0.8546 - val_loss: 0.3115 - val_acc: 0.9160\n",
            "Epoch 14/20\n",
            "60000/60000 [==============================] - 7s 116us/step - loss: 0.4722 - acc: 0.8571 - val_loss: 0.3091 - val_acc: 0.9153\n",
            "Epoch 15/20\n",
            "60000/60000 [==============================] - 7s 115us/step - loss: 0.4826 - acc: 0.8523 - val_loss: 0.3081 - val_acc: 0.9153\n",
            "Epoch 16/20\n",
            "60000/60000 [==============================] - 7s 118us/step - loss: 0.4804 - acc: 0.8526 - val_loss: 0.3081 - val_acc: 0.9154\n",
            "Epoch 17/20\n",
            "60000/60000 [==============================] - 7s 121us/step - loss: 0.4790 - acc: 0.8532 - val_loss: 0.3094 - val_acc: 0.9145\n",
            "Epoch 18/20\n",
            "60000/60000 [==============================] - 7s 117us/step - loss: 0.4744 - acc: 0.8537 - val_loss: 0.3111 - val_acc: 0.9154\n",
            "Epoch 19/20\n",
            "60000/60000 [==============================] - 7s 118us/step - loss: 0.4741 - acc: 0.8579 - val_loss: 0.3113 - val_acc: 0.9134\n",
            "Epoch 20/20\n",
            "60000/60000 [==============================] - 7s 116us/step - loss: 0.4775 - acc: 0.8534 - val_loss: 0.3078 - val_acc: 0.9142\n"
          ],
          "name": "stdout"
        }
      ]
    },
    {
      "cell_type": "code",
      "metadata": {
        "id": "Q_hKGi2gbZwL",
        "colab_type": "code",
        "colab": {
          "base_uri": "https://localhost:8080/",
          "height": 311
        },
        "outputId": "8d4ff01f-acfc-4c99-bd6a-58e69a7ca266"
      },
      "source": [
        "score = model_drop.evaluate(x_test, y_test, verbose=0) \n",
        "score17=score[0]\n",
        "score18=score[1]\n",
        "train_acc9=history35.history['acc']\n",
        "print('Test score:%.3f'%score[0]) \n",
        "print('Test accuracy:', score[1])\n",
        "\n",
        "fig,ax33 = plt.subplots(1,1)\n",
        "ax33.set_xlabel('epoch') ; ax33.set_ylabel('Categorical Crossentropy Loss')\n",
        "\n",
        "# list of epoch numbers\n",
        "x = list(range(1,nb_epoch+1))\n",
        "\n",
        "\n",
        "vy33 = history35.history['val_loss']\n",
        "ty33 = history35.history['loss']\n",
        "plt_dynamic(x, vy33, ty33, ax33)"
      ],
      "execution_count": 64,
      "outputs": [
        {
          "output_type": "stream",
          "text": [
            "Test score:0.308\n",
            "Test accuracy: 0.9142\n"
          ],
          "name": "stdout"
        },
        {
          "output_type": "display_data",
          "data": {
            "image/png": "[encoded data removed]",
            "text/plain": [
              "<Figure size 432x288 with 1 Axes>"
            ]
          },
          "metadata": {
            "tags": []
          }
        }
      ]
    },
    {
      "cell_type": "markdown",
      "metadata": {
        "id": "txfJ3guexmeP",
        "colab_type": "text"
      },
      "source": [
        "# Final observation:"
      ]
    },
    {
      "cell_type": "code",
      "metadata": {
        "id": "1UaT7m5dxqO8",
        "colab_type": "code",
        "colab": {}
      },
      "source": [
        "from prettytable import PrettyTable"
      ],
      "execution_count": 0,
      "outputs": []
    },
    {
      "cell_type": "code",
      "metadata": {
        "id": "JCVJEffTybSQ",
        "colab_type": "code",
        "colab": {}
      },
      "source": [
        "\n",
        "models=['2_hidden_layer MLP+ReLu+Adam',\n",
        "        '2_hidden_layer MLP+Relu+adam+BN',\n",
        "        '2_hidden_layer MLP+reLu+Adam+BN+Drop-out',\n",
        "       '3_hidden_layer MLP+ReLu+Adam',\n",
        "        '3_hidden_layer MLP+Relu+adam+BN',\n",
        "        '3_hidden_layer MLP+reLu+Adam+BN+Drop-out',\n",
        "       '5_hidden_layer MLP+ReLu+Adam',\n",
        "        '5_hidden_layer MLP+Relu+adam+BN',\n",
        "        '5_hidden_layer MLP+reLu+Adam+BN+Drop-out']"
      ],
      "execution_count": 0,
      "outputs": []
    },
    {
      "cell_type": "code",
      "metadata": {
        "id": "nzsymUtcyfAe",
        "colab_type": "code",
        "colab": {}
      },
      "source": [
        "training_accuracy=[train_acc1,train_acc2,train_acc3,train_acc4,\n",
        "                   train_acc5,train_acc6,train_acc7,train_acc8,\n",
        "                   train_acc9\n",
        "                   \n",
        "                  ]"
      ],
      "execution_count": 0,
      "outputs": []
    },
    {
      "cell_type": "code",
      "metadata": {
        "id": "WnpQdvQPyjti",
        "colab_type": "code",
        "colab": {}
      },
      "source": [
        "test_accuracy=[score2,score4,score6,score8,score10,score12,score14,\n",
        "              score16,\n",
        "              score18]\n",
        "INDEX = [1,2,3,4,5,6,7,8,9]"
      ],
      "execution_count": 0,
      "outputs": []
    },
    {
      "cell_type": "code",
      "metadata": {
        "id": "Mu6uxHM0ysMO",
        "colab_type": "code",
        "outputId": "cef5e12b-8a9f-49de-cfed-c767785df9c0",
        "colab": {
          "base_uri": "https://localhost:8080/",
          "height": 248
        }
      },
      "source": [
        "# Initializing prettytable\n",
        "Model_Performance = PrettyTable()\n",
        "# Adding columns\n",
        "Model_Performance.add_column(\"INDEX.\",INDEX)\n",
        "Model_Performance.add_column(\"MODEL_NAME\",models)\n",
        "Model_Performance.add_column(\"TRAINING ACCURACY\",training_accuracy)\n",
        "Model_Performance.add_column(\"TESTING ACCURACY\",test_accuracy)\n",
        "\n",
        "print(Model_Performance)"
      ],
      "execution_count": 69,
      "outputs": [
        {
          "output_type": "stream",
          "text": [
            "+--------+------------------------------------------+------------------------------------------------------------------------------------------------------------------------------------------------------------------------------------------------------------------------------------------------------------------------------------------------------------------------------------------------------------------------------------------------------+------------------+\n",
            "| INDEX. |                MODEL_NAME                |                                                                                                                                                                                          TRAINING ACCURACY                                                                                                                                                                                           | TESTING ACCURACY |\n",
            "+--------+------------------------------------------+------------------------------------------------------------------------------------------------------------------------------------------------------------------------------------------------------------------------------------------------------------------------------------------------------------------------------------------------------------------------------------------------------+------------------+\n",
            "|   1    |       2_hidden_layer MLP+ReLu+Adam       |                 [0.25726666666666664, 0.4961, 0.6092333333651225, 0.6705166666348775, 0.7174666666666667, 0.7545833333015441, 0.7810833333015442, 0.8016666666348775, 0.8168833333333333, 0.8292333333333334, 0.8378666666666666, 0.84635, 0.85325, 0.8585166666348775, 0.8636, 0.8681833333333333, 0.8714666666984558, 0.8740666666348775, 0.8770833333015442, 0.8795500000317892]                  |      0.8853      |\n",
            "|   2    |     2_hidden_layer MLP+Relu+adam+BN      |                         [0.9452999999682109, 0.9784499999682108, 0.9864333333333334, 0.9904499999682108, 0.9930666666984558, 0.9934333333333333, 0.9927166666666667, 0.9948333333333333, 0.9952499999682108, 0.9952833333015442, 0.9958, 0.9967, 0.9966833333015442, 0.997, 0.99645, 0.9962499999682108, 0.9978333333333333, 0.998, 0.9970833333333333, 0.9963499999682108]                          |      0.9814      |\n",
            "|   3    | 2_hidden_layer MLP+reLu+Adam+BN+Drop-out | [0.9000666666348776, 0.9411999999682109, 0.9534333333333334, 0.9611833333333333, 0.9669333333333333, 0.9699333333333333, 0.9742166666348775, 0.9765166666984558, 0.9783833333333334, 0.9807999999682109, 0.9826500000317892, 0.9841, 0.9856833333015442, 0.9864000000317892, 0.9871666666348775, 0.9886666666348776, 0.9884333333015441, 0.9901666666666666, 0.9909333333333333, 0.9906333333015442] |      0.9811      |\n",
            "|   4    |       3_hidden_layer MLP+ReLu+Adam       |                  [0.92875, 0.9719666666666666, 0.9821000000317891, 0.9864, 0.9893166666984559, 0.9914833333333334, 0.9929333333333333, 0.9935666666348775, 0.9936, 0.9941833333333333, 0.9951833333333333, 0.9958666666666667, 0.9955166666984558, 0.9972166666666666, 0.9961166666666667, 0.9964666666348775, 0.9968500000317891, 0.9967499999682109, 0.9962, 0.9978666666348776]                   |      0.9822      |\n",
            "|   5    |     3_hidden_layer MLP+Relu+adam+BN      |                 [0.93865, 0.9764500000317892, 0.9839999999682109, 0.9869666666984558, 0.9893000000317892, 0.9918000000317891, 0.9918666666666667, 0.9932666666348775, 0.9931333333015442, 0.9945999999682108, 0.99475, 0.9952999999682108, 0.9961500000317891, 0.9954833333333334, 0.9953166666666666, 0.99705, 0.9968333333333333, 0.99695, 0.9965666666666667, 0.9974166666666666]                 |      0.9828      |\n",
            "|   6    | 3_hidden_layer MLP+reLu+Adam+BN+Drop-out |         [0.12229999999205271, 0.14285, 0.19473333333333334, 0.25381666665077207, 0.33199999998410545, 0.40535, 0.46834999996821086, 0.52605, 0.5432333333651225, 0.5668833333015442, 0.5938333333333333, 0.6160333333015442, 0.6445500000317892, 0.6683166666984558, 0.6901000000317892, 0.7144500000317892, 0.7344999999682108, 0.7520166666984558, 0.7678166666666667, 0.7802666666666667]         |      0.9836      |\n",
            "|   7    |       5_hidden_layer MLP+ReLu+Adam       |      [0.9173499999682109, 0.9688333333651225, 0.9786333333651225, 0.9835999999682109, 0.9866499999682109, 0.9882833333651225, 0.9896166666984558, 0.99145, 0.9930666666666667, 0.9921500000317891, 0.9932833333651224, 0.99365, 0.9954499999682108, 0.9950333333333333, 0.9954333333333333, 0.9948666666666667, 0.9957833333333334, 0.9960166666348775, 0.9959333333333333, 0.9953999999682108]      |      0.9795      |\n",
            "|   8    |     5_hidden_layer MLP+Relu+adam+BN      |      [0.9143666666666667, 0.9685333333651225, 0.9776833333333333, 0.9834999999682108, 0.9866166666666667, 0.9879166666348775, 0.9898333333333333, 0.9902, 0.99055, 0.9924999999682108, 0.9931833333333333, 0.9930333333333333, 0.9929666666984558, 0.9940833333333333, 0.9949333333015442, 0.9939166666666667, 0.9959999999682109, 0.9956333333333334, 0.9949666666666667, 0.9960333333333333]       |      0.9823      |\n",
            "|   9    | 5_hidden_layer MLP+reLu+Adam+BN+Drop-out |                  [0.8504, 0.8541166666666666, 0.8530333333015442, 0.8521333333015442, 0.8537666666984558, 0.8515333333651225, 0.8535166666984558, 0.8536166666348776, 0.8543666666348775, 0.8540666666666666, 0.8542833333015442, 0.8554499999682108, 0.8546333333333334, 0.8571000000317891, 0.8523333333015441, 0.85255, 0.85325, 0.8536833333651225, 0.8579, 0.8533500000317892]                  |      0.9142      |\n",
            "+--------+------------------------------------------+------------------------------------------------------------------------------------------------------------------------------------------------------------------------------------------------------------------------------------------------------------------------------------------------------------------------------------------------------------------------------------------------------+------------------+\n"
          ],
          "name": "stdout"
        }
      ]
    },
    {
      "cell_type": "code",
      "metadata": {
        "id": "ZAZM2KaIzh5k",
        "colab_type": "code",
        "colab": {}
      },
      "source": [
        ""
      ],
      "execution_count": 0,
      "outputs": []
    },
    {
      "cell_type": "code",
      "metadata": {
        "id": "6zgiBj80zvn0",
        "colab_type": "code",
        "colab": {}
      },
      "source": [
        ""
      ],
      "execution_count": 0,
      "outputs": []
    },
    {
      "cell_type": "code",
      "metadata": {
        "id": "dhLusfZi2Ekx",
        "colab_type": "code",
        "colab": {}
      },
      "source": [
        ""
      ],
      "execution_count": 0,
      "outputs": []
    }
  ]
}