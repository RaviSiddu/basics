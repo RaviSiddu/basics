{
  "nbformat": 4,
  "nbformat_minor": 0,
  "metadata": {
    "colab": {
      "name": "TensorFlow and Keras Build various MLP architectures for MNIST dataset.ipynb",
      "provenance": [],
      "collapsed_sections": [],
      "toc_visible": true,
      "include_colab_link": true
    },
    "kernelspec": {
      "name": "python3",
      "display_name": "Python 3"
    },
    "accelerator": "GPU"
  },
  "cells": [
    {
      "cell_type": "markdown",
      "metadata": {
        "id": "view-in-github",
        "colab_type": "text"
      },
      "source": [
        "<a href=\"https://colab.research.google.com/github/RaviSiddu/basics/blob/master/TensorFlow_and_Keras_Build_various_MLP_architectures_for_MNIST_dataset.ipynb\" target=\"_parent\"><img src=\"https://colab.research.google.com/assets/colab-badge.svg\" alt=\"Open In Colab\"/></a>"
      ]
    },
    {
      "cell_type": "code",
      "metadata": {
        "id": "K9ew53ut-rUU",
        "colab_type": "code",
        "colab": {}
      },
      "source": [
        ""
      ],
      "execution_count": 0,
      "outputs": []
    },
    {
      "cell_type": "markdown",
      "metadata": {
        "id": "5S_Zk-22_S1r",
        "colab_type": "text"
      },
      "source": [
        "# TensorFlow and Keras: Build various MLP architectures for MNIST dataset [M]\n",
        "\n",
        "\n",
        "### Objective:\n",
        "#### Model with three dirrent architecture\n",
        "####  1) 2-Hidden layer architecture (784-472-168-10 architecture)\n",
        "\n",
        "#### 2) 3-Hidden layer architecture (784-352-164-124-10 architecture)\n",
        "\n",
        "#### 3) 5-Hidden layer architecture (784-216-170-136-80-38-10 architecture)\n",
        "\n",
        "#### Train-Test error plot\n",
        "\n",
        "#### Activation='relu'+ Adam Optimizer+Batch_Normalization +Drop_out"
      ]
    },
    {
      "cell_type": "code",
      "metadata": {
        "id": "fzKbNYdCLnkM",
        "colab_type": "code",
        "outputId": "14f8397e-475a-4b19-cce0-af7384cbda2d",
        "colab": {
          "base_uri": "https://localhost:8080/",
          "height": 77
        }
      },
      "source": [
        "from keras.utils import np_utils\n",
        "from keras.datasets import mnist\n",
        "import seaborn as sns\n",
        "from keras.initializers import RandomNormal"
      ],
      "execution_count": 1,
      "outputs": [
        {
          "output_type": "stream",
          "text": [
            "Using TensorFlow backend.\n"
          ],
          "name": "stderr"
        },
        {
          "output_type": "display_data",
          "data": {
            "text/html": [
              "<p style=\"color: red;\">\n",
              "The default version of TensorFlow in Colab will soon switch to TensorFlow 2.x.<br>\n",
              "We recommend you <a href=\"https://www.tensorflow.org/guide/migrate\" target=\"_blank\">upgrade</a> now \n",
              "or ensure your notebook will continue to use TensorFlow 1.x via the <code>%tensorflow_version 1.x</code> magic:\n",
              "<a href=\"https://colab.research.google.com/notebooks/tensorflow_version.ipynb\" target=\"_blank\">more info</a>.</p>\n"
            ],
            "text/plain": [
              "<IPython.core.display.HTML object>"
            ]
          },
          "metadata": {
            "tags": []
          }
        }
      ]
    },
    {
      "cell_type": "code",
      "metadata": {
        "id": "f78lnvU8Mak7",
        "colab_type": "code",
        "outputId": "d65b23ca-8daf-4071-8eeb-46a190265860",
        "colab": {
          "base_uri": "https://localhost:8080/",
          "height": 33
        }
      },
      "source": [
        "%matplotlib\n",
        "import matplotlib.pyplot as plt\n",
        "import numpy as np\n",
        "import time\n",
        "\n",
        "def plt_dynamic(x,vy,ty,ax,colors=['b']):\n",
        "  ax.plot(x,vy,'b',label='Validation Loss')\n",
        "  ax.plot(x,ty,'r',label='Train Loss')\n",
        "  plt.legend()\n",
        "  plt.grid()\n",
        "  fig.canvas.draw()\n",
        "  "
      ],
      "execution_count": 2,
      "outputs": [
        {
          "output_type": "stream",
          "text": [
            "Using matplotlib backend: agg\n"
          ],
          "name": "stdout"
        }
      ]
    },
    {
      "cell_type": "code",
      "metadata": {
        "id": "p51d-RledK_V",
        "colab_type": "code",
        "outputId": "f75aef28-db83-4d3e-dbce-76ee27afe389",
        "colab": {
          "base_uri": "https://localhost:8080/",
          "height": 50
        }
      },
      "source": [
        "#the data\n",
        "(x_train,y_train),(x_test,y_test)=mnist.load_data()"
      ],
      "execution_count": 3,
      "outputs": [
        {
          "output_type": "stream",
          "text": [
            "Downloading data from https://s3.amazonaws.com/img-datasets/mnist.npz\n",
            "11493376/11490434 [==============================] - 2s 0us/step\n"
          ],
          "name": "stdout"
        }
      ]
    },
    {
      "cell_type": "code",
      "metadata": {
        "id": "z-0w6v5HdyHm",
        "colab_type": "code",
        "outputId": "94563df6-c525-4fd5-b478-b0c69e01d621",
        "colab": {
          "base_uri": "https://localhost:8080/",
          "height": 50
        }
      },
      "source": [
        "print(\"Number of training examples:\",x_train.shape[0],\"and each image is of shape(%d,%d)\"%(x_train.shape[1],x_train.shape[2]))\n",
        "print(\"Number of training examples :\", x_test.shape[0], \"and each image is of shape (%d, %d)\"%(x_test.shape[1], x_test.shape[2]))"
      ],
      "execution_count": 4,
      "outputs": [
        {
          "output_type": "stream",
          "text": [
            "Number of training examples: 60000 and each image is of shape(28,28)\n",
            "Number of training examples : 10000 and each image is of shape (28, 28)\n"
          ],
          "name": "stdout"
        }
      ]
    },
    {
      "cell_type": "code",
      "metadata": {
        "id": "PIIitQMLep3E",
        "colab_type": "code",
        "colab": {}
      },
      "source": [
        "# if you observe the input shape its 3 dimensional vector\n",
        "# for each image we have a (28*28) vector\n",
        "# we will convert the (28*28) vector into single dimensional vector of 1 * 784 \n",
        "\n",
        "x_train = x_train.reshape(x_train.shape[0], x_train.shape[1]*x_train.shape[2]) \n",
        "x_test = x_test.reshape(x_test.shape[0], x_test.shape[1]*x_test.shape[2])"
      ],
      "execution_count": 0,
      "outputs": []
    },
    {
      "cell_type": "code",
      "metadata": {
        "id": "tPepE9KHe4jl",
        "colab_type": "code",
        "outputId": "7510fc0d-2eee-4494-c06f-03a4b01f72dc",
        "colab": {
          "base_uri": "https://localhost:8080/",
          "height": 50
        }
      },
      "source": [
        "# after converting the input images from 3d to 2d vectors\n",
        "\n",
        "print(\"Number of training examples :\", x_train.shape[0], \"and each image is of shape (%d)\"%(x_train.shape[1]))\n",
        "print(\"Number of training examples :\", x_test.shape[0], \"and each image is of shape (%d)\"%(x_test.shape[1]))"
      ],
      "execution_count": 6,
      "outputs": [
        {
          "output_type": "stream",
          "text": [
            "Number of training examples : 60000 and each image is of shape (784)\n",
            "Number of training examples : 10000 and each image is of shape (784)\n"
          ],
          "name": "stdout"
        }
      ]
    },
    {
      "cell_type": "code",
      "metadata": {
        "id": "Ac8QTiOTe70x",
        "colab_type": "code",
        "outputId": "3abc66af-84f5-427b-9520-3fa883ba2275",
        "colab": {
          "base_uri": "https://localhost:8080/",
          "height": 732
        }
      },
      "source": [
        "#Example data point\n",
        "print(x_train[0])"
      ],
      "execution_count": 7,
      "outputs": [
        {
          "output_type": "stream",
          "text": [
            "[  0   0   0   0   0   0   0   0   0   0   0   0   0   0   0   0   0   0\n",
            "   0   0   0   0   0   0   0   0   0   0   0   0   0   0   0   0   0   0\n",
            "   0   0   0   0   0   0   0   0   0   0   0   0   0   0   0   0   0   0\n",
            "   0   0   0   0   0   0   0   0   0   0   0   0   0   0   0   0   0   0\n",
            "   0   0   0   0   0   0   0   0   0   0   0   0   0   0   0   0   0   0\n",
            "   0   0   0   0   0   0   0   0   0   0   0   0   0   0   0   0   0   0\n",
            "   0   0   0   0   0   0   0   0   0   0   0   0   0   0   0   0   0   0\n",
            "   0   0   0   0   0   0   0   0   0   0   0   0   0   0   0   0   0   0\n",
            "   0   0   0   0   0   0   0   0   3  18  18  18 126 136 175  26 166 255\n",
            " 247 127   0   0   0   0   0   0   0   0   0   0   0   0  30  36  94 154\n",
            " 170 253 253 253 253 253 225 172 253 242 195  64   0   0   0   0   0   0\n",
            "   0   0   0   0   0  49 238 253 253 253 253 253 253 253 253 251  93  82\n",
            "  82  56  39   0   0   0   0   0   0   0   0   0   0   0   0  18 219 253\n",
            " 253 253 253 253 198 182 247 241   0   0   0   0   0   0   0   0   0   0\n",
            "   0   0   0   0   0   0   0   0  80 156 107 253 253 205  11   0  43 154\n",
            "   0   0   0   0   0   0   0   0   0   0   0   0   0   0   0   0   0   0\n",
            "   0  14   1 154 253  90   0   0   0   0   0   0   0   0   0   0   0   0\n",
            "   0   0   0   0   0   0   0   0   0   0   0   0   0 139 253 190   2   0\n",
            "   0   0   0   0   0   0   0   0   0   0   0   0   0   0   0   0   0   0\n",
            "   0   0   0   0   0  11 190 253  70   0   0   0   0   0   0   0   0   0\n",
            "   0   0   0   0   0   0   0   0   0   0   0   0   0   0   0   0  35 241\n",
            " 225 160 108   1   0   0   0   0   0   0   0   0   0   0   0   0   0   0\n",
            "   0   0   0   0   0   0   0   0   0  81 240 253 253 119  25   0   0   0\n",
            "   0   0   0   0   0   0   0   0   0   0   0   0   0   0   0   0   0   0\n",
            "   0   0  45 186 253 253 150  27   0   0   0   0   0   0   0   0   0   0\n",
            "   0   0   0   0   0   0   0   0   0   0   0   0   0  16  93 252 253 187\n",
            "   0   0   0   0   0   0   0   0   0   0   0   0   0   0   0   0   0   0\n",
            "   0   0   0   0   0   0   0 249 253 249  64   0   0   0   0   0   0   0\n",
            "   0   0   0   0   0   0   0   0   0   0   0   0   0   0  46 130 183 253\n",
            " 253 207   2   0   0   0   0   0   0   0   0   0   0   0   0   0   0   0\n",
            "   0   0   0   0  39 148 229 253 253 253 250 182   0   0   0   0   0   0\n",
            "   0   0   0   0   0   0   0   0   0   0   0   0  24 114 221 253 253 253\n",
            " 253 201  78   0   0   0   0   0   0   0   0   0   0   0   0   0   0   0\n",
            "   0   0  23  66 213 253 253 253 253 198  81   2   0   0   0   0   0   0\n",
            "   0   0   0   0   0   0   0   0   0   0  18 171 219 253 253 253 253 195\n",
            "  80   9   0   0   0   0   0   0   0   0   0   0   0   0   0   0   0   0\n",
            "  55 172 226 253 253 253 253 244 133  11   0   0   0   0   0   0   0   0\n",
            "   0   0   0   0   0   0   0   0   0   0 136 253 253 253 212 135 132  16\n",
            "   0   0   0   0   0   0   0   0   0   0   0   0   0   0   0   0   0   0\n",
            "   0   0   0   0   0   0   0   0   0   0   0   0   0   0   0   0   0   0\n",
            "   0   0   0   0   0   0   0   0   0   0   0   0   0   0   0   0   0   0\n",
            "   0   0   0   0   0   0   0   0   0   0   0   0   0   0   0   0   0   0\n",
            "   0   0   0   0   0   0   0   0   0   0   0   0   0   0   0   0   0   0\n",
            "   0   0   0   0   0   0   0   0   0   0]\n"
          ],
          "name": "stdout"
        }
      ]
    },
    {
      "cell_type": "code",
      "metadata": {
        "id": "_7vLHyRyfC1F",
        "colab_type": "code",
        "colab": {}
      },
      "source": [
        "# if we observe the above matrix each cell is having a value between 0-255\n",
        "# before we move to apply machine learning algorithms lets try to normalize the data\n",
        "# X => (X - Xmin)/(Xmax-Xmin) = X/255\n",
        "\n",
        "x_train = x_train/255\n",
        "x_test = x_test/255"
      ],
      "execution_count": 0,
      "outputs": []
    },
    {
      "cell_type": "code",
      "metadata": {
        "id": "wCxYeRiwfMUO",
        "colab_type": "code",
        "outputId": "d192c22c-345b-4b67-c20c-c4f4774cca5e",
        "colab": {
          "base_uri": "https://localhost:8080/",
          "height": 2146
        }
      },
      "source": [
        "# example data point after normlizing\n",
        "print(x_train[0])"
      ],
      "execution_count": 9,
      "outputs": [
        {
          "output_type": "stream",
          "text": [
            "[0.         0.         0.         0.         0.         0.\n",
            " 0.         0.         0.         0.         0.         0.\n",
            " 0.         0.         0.         0.         0.         0.\n",
            " 0.         0.         0.         0.         0.         0.\n",
            " 0.         0.         0.         0.         0.         0.\n",
            " 0.         0.         0.         0.         0.         0.\n",
            " 0.         0.         0.         0.         0.         0.\n",
            " 0.         0.         0.         0.         0.         0.\n",
            " 0.         0.         0.         0.         0.         0.\n",
            " 0.         0.         0.         0.         0.         0.\n",
            " 0.         0.         0.         0.         0.         0.\n",
            " 0.         0.         0.         0.         0.         0.\n",
            " 0.         0.         0.         0.         0.         0.\n",
            " 0.         0.         0.         0.         0.         0.\n",
            " 0.         0.         0.         0.         0.         0.\n",
            " 0.         0.         0.         0.         0.         0.\n",
            " 0.         0.         0.         0.         0.         0.\n",
            " 0.         0.         0.         0.         0.         0.\n",
            " 0.         0.         0.         0.         0.         0.\n",
            " 0.         0.         0.         0.         0.         0.\n",
            " 0.         0.         0.         0.         0.         0.\n",
            " 0.         0.         0.         0.         0.         0.\n",
            " 0.         0.         0.         0.         0.         0.\n",
            " 0.         0.         0.         0.         0.         0.\n",
            " 0.         0.         0.         0.         0.         0.\n",
            " 0.         0.         0.01176471 0.07058824 0.07058824 0.07058824\n",
            " 0.49411765 0.53333333 0.68627451 0.10196078 0.65098039 1.\n",
            " 0.96862745 0.49803922 0.         0.         0.         0.\n",
            " 0.         0.         0.         0.         0.         0.\n",
            " 0.         0.         0.11764706 0.14117647 0.36862745 0.60392157\n",
            " 0.66666667 0.99215686 0.99215686 0.99215686 0.99215686 0.99215686\n",
            " 0.88235294 0.6745098  0.99215686 0.94901961 0.76470588 0.25098039\n",
            " 0.         0.         0.         0.         0.         0.\n",
            " 0.         0.         0.         0.         0.         0.19215686\n",
            " 0.93333333 0.99215686 0.99215686 0.99215686 0.99215686 0.99215686\n",
            " 0.99215686 0.99215686 0.99215686 0.98431373 0.36470588 0.32156863\n",
            " 0.32156863 0.21960784 0.15294118 0.         0.         0.\n",
            " 0.         0.         0.         0.         0.         0.\n",
            " 0.         0.         0.         0.07058824 0.85882353 0.99215686\n",
            " 0.99215686 0.99215686 0.99215686 0.99215686 0.77647059 0.71372549\n",
            " 0.96862745 0.94509804 0.         0.         0.         0.\n",
            " 0.         0.         0.         0.         0.         0.\n",
            " 0.         0.         0.         0.         0.         0.\n",
            " 0.         0.         0.31372549 0.61176471 0.41960784 0.99215686\n",
            " 0.99215686 0.80392157 0.04313725 0.         0.16862745 0.60392157\n",
            " 0.         0.         0.         0.         0.         0.\n",
            " 0.         0.         0.         0.         0.         0.\n",
            " 0.         0.         0.         0.         0.         0.\n",
            " 0.         0.05490196 0.00392157 0.60392157 0.99215686 0.35294118\n",
            " 0.         0.         0.         0.         0.         0.\n",
            " 0.         0.         0.         0.         0.         0.\n",
            " 0.         0.         0.         0.         0.         0.\n",
            " 0.         0.         0.         0.         0.         0.\n",
            " 0.         0.54509804 0.99215686 0.74509804 0.00784314 0.\n",
            " 0.         0.         0.         0.         0.         0.\n",
            " 0.         0.         0.         0.         0.         0.\n",
            " 0.         0.         0.         0.         0.         0.\n",
            " 0.         0.         0.         0.         0.         0.04313725\n",
            " 0.74509804 0.99215686 0.2745098  0.         0.         0.\n",
            " 0.         0.         0.         0.         0.         0.\n",
            " 0.         0.         0.         0.         0.         0.\n",
            " 0.         0.         0.         0.         0.         0.\n",
            " 0.         0.         0.         0.         0.1372549  0.94509804\n",
            " 0.88235294 0.62745098 0.42352941 0.00392157 0.         0.\n",
            " 0.         0.         0.         0.         0.         0.\n",
            " 0.         0.         0.         0.         0.         0.\n",
            " 0.         0.         0.         0.         0.         0.\n",
            " 0.         0.         0.         0.31764706 0.94117647 0.99215686\n",
            " 0.99215686 0.46666667 0.09803922 0.         0.         0.\n",
            " 0.         0.         0.         0.         0.         0.\n",
            " 0.         0.         0.         0.         0.         0.\n",
            " 0.         0.         0.         0.         0.         0.\n",
            " 0.         0.         0.17647059 0.72941176 0.99215686 0.99215686\n",
            " 0.58823529 0.10588235 0.         0.         0.         0.\n",
            " 0.         0.         0.         0.         0.         0.\n",
            " 0.         0.         0.         0.         0.         0.\n",
            " 0.         0.         0.         0.         0.         0.\n",
            " 0.         0.0627451  0.36470588 0.98823529 0.99215686 0.73333333\n",
            " 0.         0.         0.         0.         0.         0.\n",
            " 0.         0.         0.         0.         0.         0.\n",
            " 0.         0.         0.         0.         0.         0.\n",
            " 0.         0.         0.         0.         0.         0.\n",
            " 0.         0.97647059 0.99215686 0.97647059 0.25098039 0.\n",
            " 0.         0.         0.         0.         0.         0.\n",
            " 0.         0.         0.         0.         0.         0.\n",
            " 0.         0.         0.         0.         0.         0.\n",
            " 0.         0.         0.18039216 0.50980392 0.71764706 0.99215686\n",
            " 0.99215686 0.81176471 0.00784314 0.         0.         0.\n",
            " 0.         0.         0.         0.         0.         0.\n",
            " 0.         0.         0.         0.         0.         0.\n",
            " 0.         0.         0.         0.         0.15294118 0.58039216\n",
            " 0.89803922 0.99215686 0.99215686 0.99215686 0.98039216 0.71372549\n",
            " 0.         0.         0.         0.         0.         0.\n",
            " 0.         0.         0.         0.         0.         0.\n",
            " 0.         0.         0.         0.         0.         0.\n",
            " 0.09411765 0.44705882 0.86666667 0.99215686 0.99215686 0.99215686\n",
            " 0.99215686 0.78823529 0.30588235 0.         0.         0.\n",
            " 0.         0.         0.         0.         0.         0.\n",
            " 0.         0.         0.         0.         0.         0.\n",
            " 0.         0.         0.09019608 0.25882353 0.83529412 0.99215686\n",
            " 0.99215686 0.99215686 0.99215686 0.77647059 0.31764706 0.00784314\n",
            " 0.         0.         0.         0.         0.         0.\n",
            " 0.         0.         0.         0.         0.         0.\n",
            " 0.         0.         0.         0.         0.07058824 0.67058824\n",
            " 0.85882353 0.99215686 0.99215686 0.99215686 0.99215686 0.76470588\n",
            " 0.31372549 0.03529412 0.         0.         0.         0.\n",
            " 0.         0.         0.         0.         0.         0.\n",
            " 0.         0.         0.         0.         0.         0.\n",
            " 0.21568627 0.6745098  0.88627451 0.99215686 0.99215686 0.99215686\n",
            " 0.99215686 0.95686275 0.52156863 0.04313725 0.         0.\n",
            " 0.         0.         0.         0.         0.         0.\n",
            " 0.         0.         0.         0.         0.         0.\n",
            " 0.         0.         0.         0.         0.53333333 0.99215686\n",
            " 0.99215686 0.99215686 0.83137255 0.52941176 0.51764706 0.0627451\n",
            " 0.         0.         0.         0.         0.         0.\n",
            " 0.         0.         0.         0.         0.         0.\n",
            " 0.         0.         0.         0.         0.         0.\n",
            " 0.         0.         0.         0.         0.         0.\n",
            " 0.         0.         0.         0.         0.         0.\n",
            " 0.         0.         0.         0.         0.         0.\n",
            " 0.         0.         0.         0.         0.         0.\n",
            " 0.         0.         0.         0.         0.         0.\n",
            " 0.         0.         0.         0.         0.         0.\n",
            " 0.         0.         0.         0.         0.         0.\n",
            " 0.         0.         0.         0.         0.         0.\n",
            " 0.         0.         0.         0.         0.         0.\n",
            " 0.         0.         0.         0.         0.         0.\n",
            " 0.         0.         0.         0.         0.         0.\n",
            " 0.         0.         0.         0.         0.         0.\n",
            " 0.         0.         0.         0.         0.         0.\n",
            " 0.         0.         0.         0.        ]\n"
          ],
          "name": "stdout"
        }
      ]
    },
    {
      "cell_type": "code",
      "metadata": {
        "id": "rmDIydISfU-A",
        "colab_type": "code",
        "outputId": "38d20a28-1459-4e06-e7c5-169a96d1710d",
        "colab": {
          "base_uri": "https://localhost:8080/",
          "height": 50
        }
      },
      "source": [
        "# here we are having a class number for each image\n",
        "print(\"Class label of first image :\", y_train[0])\n",
        "\n",
        "# lets convert this into a 10 dimensional vector\n",
        "# ex: consider an image is 5 convert it into 5 => [0, 0, 0, 0, 0, 1, 0, 0, 0, 0]\n",
        "# this conversion needed for MLPs \n",
        "\n",
        "y_train=np_utils.to_categorical(y_train,10)\n",
        "y_test=np_utils.to_categorical(y_test,10)\n",
        "\n",
        "print(\"After converting the output into a vector : \",y_train[0])\n",
        "\n"
      ],
      "execution_count": 10,
      "outputs": [
        {
          "output_type": "stream",
          "text": [
            "Class label of first image : 5\n",
            "After converting the output into a vector :  [0. 0. 0. 0. 0. 1. 0. 0. 0. 0.]\n"
          ],
          "name": "stdout"
        }
      ]
    },
    {
      "cell_type": "markdown",
      "metadata": {
        "id": "GZoMFmGAfz5k",
        "colab_type": "text"
      },
      "source": [
        "## Softax Classifier\n"
      ]
    },
    {
      "cell_type": "code",
      "metadata": {
        "id": "0x5Ca7evgEXt",
        "colab_type": "code",
        "colab": {}
      },
      "source": [
        "# https://keras.io/getting-started/sequential-model-guide/\n",
        "\n",
        "# The Sequential model is a linear stack of layers.\n",
        "# you can create a Sequential model by passing a list of layer instances to the constructor:\n",
        "\n",
        "# model = Sequential([\n",
        "#     Dense(32, input_shape=(784,)),\n",
        "#     Activation('relu'),\n",
        "#     Dense(10),\n",
        "#     Activation('softmax'),\n",
        "# ])\n",
        "\n",
        "# You can also simply add layers via the .add() method:\n",
        "\n",
        "# model = Sequential()\n",
        "# model.add(Dense(32, input_dim=784))\n",
        "# model.add(Activation('relu'))\n",
        "\n",
        "###\n",
        "\n",
        "# https://keras.io/layers/core/\n",
        "\n",
        "# keras.layers.Dense(units, activation=None, use_bias=True, kernel_initializer='glorot_uniform', \n",
        "# bias_initializer='zeros', kernel_regularizer=None, bias_regularizer=None, activity_regularizer=None, \n",
        "# kernel_constraint=None, bias_constraint=None)\n",
        "\n",
        "# Dense implements the operation: output = activation(dot(input, kernel) + bias) where\n",
        "# activation is the element-wise activation function passed as the activation argument, \n",
        "# kernel is a weights matrix created by the layer, and \n",
        "# bias is a bias vector created by the layer (only applicable if use_bias is True).\n",
        "\n",
        "# output = activation(dot(input, kernel) + bias)  => y = activation(WT. X + b)\n",
        "\n",
        "####\n",
        "\n",
        "# https://keras.io/activations/\n",
        "\n",
        "# Activations can either be used through an Activation layer, or through the activation argument supported by all forward layers:\n",
        "\n",
        "# from keras.layers import Activation, Dense\n",
        "\n",
        "# model.add(Dense(64))\n",
        "# model.add(Activation('tanh'))\n",
        "\n",
        "# This is equivalent to:\n",
        "# model.add(Dense(64, activation='tanh'))\n",
        "\n",
        "# there are many activation functions ar available ex: tanh, relu, softmax\n",
        "\n",
        "from keras.models import Sequential\n",
        "from keras.layers import Dense, Activation\n",
        "from keras.initializers import he_normal\n"
      ],
      "execution_count": 0,
      "outputs": []
    },
    {
      "cell_type": "code",
      "metadata": {
        "id": "tuUezLYzgh5U",
        "colab_type": "code",
        "colab": {}
      },
      "source": [
        "# some model parameters\n",
        "\n",
        "output_dim=10\n",
        "input_dim=x_train.shape[1]\n",
        "\n",
        "batch_size=128\n",
        "nb_epoch=20"
      ],
      "execution_count": 0,
      "outputs": []
    },
    {
      "cell_type": "markdown",
      "metadata": {
        "id": "g2D-34xwguxG",
        "colab_type": "text"
      },
      "source": [
        "# 1) 2-Hidden layer architecture (784-472-168-10 architecture)\n",
        "\n",
        "\n",
        "\n",
        "\n",
        "## 1.1 MLP + ReLU + ADAM"
      ]
    },
    {
      "cell_type": "code",
      "metadata": {
        "id": "ILF3fPl8hKGa",
        "colab_type": "code",
        "outputId": "fbc75488-0322-41f6-fa56-1d0dd4787057",
        "colab": {
          "base_uri": "https://localhost:8080/",
          "height": 1451
        }
      },
      "source": [
        "import warnings\n",
        "warnings.filterwarnings(\"ignore\")\n",
        "\n",
        "model_relu=Sequential()\n",
        "model_relu.add(Dense(472,activation='relu',input_shape=(input_dim,),kernel_initializer=he_normal(seed=None)))\n",
        "model_relu.add(Dense(168,activation='relu',kernel_initializer=he_normal(seed=None)))\n",
        "model_relu.add(Dense(output_dim,activation='softmax'))\n",
        "\n",
        "print(model_relu.summary())\n",
        "\n",
        "model_relu.compile(optimizer='adam',loss='categorical_crossentropy',metrics=['accuracy'])\n",
        "\n",
        "history1=model_relu.fit(x_train,y_train,batch_size=batch_size,epochs=20,verbose=1,validation_data=(x_test,y_test))\n"
      ],
      "execution_count": 13,
      "outputs": [
        {
          "output_type": "stream",
          "text": [
            "WARNING:tensorflow:From /usr/local/lib/python3.6/dist-packages/keras/backend/tensorflow_backend.py:66: The name tf.get_default_graph is deprecated. Please use tf.compat.v1.get_default_graph instead.\n",
            "\n",
            "WARNING:tensorflow:From /usr/local/lib/python3.6/dist-packages/keras/backend/tensorflow_backend.py:541: The name tf.placeholder is deprecated. Please use tf.compat.v1.placeholder instead.\n",
            "\n",
            "WARNING:tensorflow:From /usr/local/lib/python3.6/dist-packages/keras/backend/tensorflow_backend.py:4479: The name tf.truncated_normal is deprecated. Please use tf.random.truncated_normal instead.\n",
            "\n",
            "WARNING:tensorflow:From /usr/local/lib/python3.6/dist-packages/keras/backend/tensorflow_backend.py:4432: The name tf.random_uniform is deprecated. Please use tf.random.uniform instead.\n",
            "\n",
            "Model: \"sequential_1\"\n",
            "_________________________________________________________________\n",
            "Layer (type)                 Output Shape              Param #   \n",
            "=================================================================\n",
            "dense_1 (Dense)              (None, 472)               370520    \n",
            "_________________________________________________________________\n",
            "dense_2 (Dense)              (None, 168)               79464     \n",
            "_________________________________________________________________\n",
            "dense_3 (Dense)              (None, 10)                1690      \n",
            "=================================================================\n",
            "Total params: 451,674\n",
            "Trainable params: 451,674\n",
            "Non-trainable params: 0\n",
            "_________________________________________________________________\n",
            "None\n",
            "WARNING:tensorflow:From /usr/local/lib/python3.6/dist-packages/keras/optimizers.py:793: The name tf.train.Optimizer is deprecated. Please use tf.compat.v1.train.Optimizer instead.\n",
            "\n",
            "WARNING:tensorflow:From /usr/local/lib/python3.6/dist-packages/keras/backend/tensorflow_backend.py:3576: The name tf.log is deprecated. Please use tf.math.log instead.\n",
            "\n",
            "WARNING:tensorflow:From /usr/local/lib/python3.6/dist-packages/tensorflow_core/python/ops/math_grad.py:1424: where (from tensorflow.python.ops.array_ops) is deprecated and will be removed in a future version.\n",
            "Instructions for updating:\n",
            "Use tf.where in 2.0, which has the same broadcast rule as np.where\n",
            "WARNING:tensorflow:From /usr/local/lib/python3.6/dist-packages/keras/backend/tensorflow_backend.py:1033: The name tf.assign_add is deprecated. Please use tf.compat.v1.assign_add instead.\n",
            "\n",
            "WARNING:tensorflow:From /usr/local/lib/python3.6/dist-packages/keras/backend/tensorflow_backend.py:1020: The name tf.assign is deprecated. Please use tf.compat.v1.assign instead.\n",
            "\n",
            "WARNING:tensorflow:From /usr/local/lib/python3.6/dist-packages/keras/backend/tensorflow_backend.py:3005: The name tf.Session is deprecated. Please use tf.compat.v1.Session instead.\n",
            "\n",
            "Train on 60000 samples, validate on 10000 samples\n",
            "Epoch 1/20\n",
            "WARNING:tensorflow:From /usr/local/lib/python3.6/dist-packages/keras/backend/tensorflow_backend.py:190: The name tf.get_default_session is deprecated. Please use tf.compat.v1.get_default_session instead.\n",
            "\n",
            "WARNING:tensorflow:From /usr/local/lib/python3.6/dist-packages/keras/backend/tensorflow_backend.py:197: The name tf.ConfigProto is deprecated. Please use tf.compat.v1.ConfigProto instead.\n",
            "\n",
            "WARNING:tensorflow:From /usr/local/lib/python3.6/dist-packages/keras/backend/tensorflow_backend.py:207: The name tf.global_variables is deprecated. Please use tf.compat.v1.global_variables instead.\n",
            "\n",
            "WARNING:tensorflow:From /usr/local/lib/python3.6/dist-packages/keras/backend/tensorflow_backend.py:216: The name tf.is_variable_initialized is deprecated. Please use tf.compat.v1.is_variable_initialized instead.\n",
            "\n",
            "WARNING:tensorflow:From /usr/local/lib/python3.6/dist-packages/keras/backend/tensorflow_backend.py:223: The name tf.variables_initializer is deprecated. Please use tf.compat.v1.variables_initializer instead.\n",
            "\n",
            "60000/60000 [==============================] - 8s 128us/step - loss: 0.2363 - acc: 0.9302 - val_loss: 0.1038 - val_acc: 0.9682\n",
            "Epoch 2/20\n",
            "60000/60000 [==============================] - 3s 51us/step - loss: 0.0872 - acc: 0.9733 - val_loss: 0.0777 - val_acc: 0.9766\n",
            "Epoch 3/20\n",
            "60000/60000 [==============================] - 3s 51us/step - loss: 0.0558 - acc: 0.9825 - val_loss: 0.0773 - val_acc: 0.9772\n",
            "Epoch 4/20\n",
            "60000/60000 [==============================] - 3s 51us/step - loss: 0.0380 - acc: 0.9880 - val_loss: 0.0690 - val_acc: 0.9790\n",
            "Epoch 5/20\n",
            "60000/60000 [==============================] - 3s 50us/step - loss: 0.0298 - acc: 0.9901 - val_loss: 0.0780 - val_acc: 0.9781\n",
            "Epoch 6/20\n",
            "60000/60000 [==============================] - 3s 52us/step - loss: 0.0216 - acc: 0.9932 - val_loss: 0.0805 - val_acc: 0.9767\n",
            "Epoch 7/20\n",
            "60000/60000 [==============================] - 3s 52us/step - loss: 0.0159 - acc: 0.9952 - val_loss: 0.0804 - val_acc: 0.9801\n",
            "Epoch 8/20\n",
            "60000/60000 [==============================] - 3s 52us/step - loss: 0.0130 - acc: 0.9956 - val_loss: 0.0967 - val_acc: 0.9754\n",
            "Epoch 9/20\n",
            "60000/60000 [==============================] - 3s 50us/step - loss: 0.0172 - acc: 0.9941 - val_loss: 0.0826 - val_acc: 0.9758\n",
            "Epoch 10/20\n",
            "60000/60000 [==============================] - 3s 54us/step - loss: 0.0127 - acc: 0.9959 - val_loss: 0.0723 - val_acc: 0.9822\n",
            "Epoch 11/20\n",
            "60000/60000 [==============================] - 3s 51us/step - loss: 0.0099 - acc: 0.9968 - val_loss: 0.0682 - val_acc: 0.9823\n",
            "Epoch 12/20\n",
            "60000/60000 [==============================] - 3s 51us/step - loss: 0.0111 - acc: 0.9963 - val_loss: 0.0726 - val_acc: 0.9833\n",
            "Epoch 13/20\n",
            "60000/60000 [==============================] - 3s 52us/step - loss: 0.0069 - acc: 0.9977 - val_loss: 0.0995 - val_acc: 0.9753\n",
            "Epoch 14/20\n",
            "60000/60000 [==============================] - 3s 50us/step - loss: 0.0098 - acc: 0.9965 - val_loss: 0.0969 - val_acc: 0.9798\n",
            "Epoch 15/20\n",
            "60000/60000 [==============================] - 3s 51us/step - loss: 0.0074 - acc: 0.9974 - val_loss: 0.0951 - val_acc: 0.9795\n",
            "Epoch 16/20\n",
            "60000/60000 [==============================] - 3s 51us/step - loss: 0.0079 - acc: 0.9973 - val_loss: 0.0949 - val_acc: 0.9797\n",
            "Epoch 17/20\n",
            "60000/60000 [==============================] - 3s 51us/step - loss: 0.0068 - acc: 0.9975 - val_loss: 0.0796 - val_acc: 0.9833\n",
            "Epoch 18/20\n",
            "60000/60000 [==============================] - 3s 52us/step - loss: 0.0071 - acc: 0.9978 - val_loss: 0.0859 - val_acc: 0.9817\n",
            "Epoch 19/20\n",
            "60000/60000 [==============================] - 3s 51us/step - loss: 0.0088 - acc: 0.9972 - val_loss: 0.1028 - val_acc: 0.9790\n",
            "Epoch 20/20\n",
            "60000/60000 [==============================] - 3s 50us/step - loss: 0.0056 - acc: 0.9982 - val_loss: 0.0939 - val_acc: 0.9806\n"
          ],
          "name": "stdout"
        }
      ]
    },
    {
      "cell_type": "code",
      "metadata": {
        "id": "bfcsbPacpQ6A",
        "colab_type": "code",
        "colab": {}
      },
      "source": [
        "%matplotlib inline"
      ],
      "execution_count": 0,
      "outputs": []
    },
    {
      "cell_type": "code",
      "metadata": {
        "id": "emPImsiSK5Ir",
        "colab_type": "code",
        "outputId": "56158371-b4fe-4f91-fce8-4725c08668cb",
        "colab": {
          "base_uri": "https://localhost:8080/",
          "height": 311
        }
      },
      "source": [
        "score=model_relu.evaluate(x_test,y_test,verbose=0)\n",
        "score1=score[0]\n",
        "score2=score[1]\n",
        "train_acc1=history1.history['acc']\n",
        "print(\"Test score:\",score[0])\n",
        "print(\"Test accuracy\",score[1])\n",
        "\n",
        "fig,ax=plt.subplots(1,1)\n",
        "ax.set_xlabel('epoch');ax.set_ylabel('Categorical Crossentropy Loss')\n",
        "\n",
        "x=list(range(1,nb_epoch+1))\n",
        "\n",
        "vy1=history1.history['val_loss']\n",
        "ty1=history1.history['loss']\n",
        "\n",
        "plt_dynamic(x,vy1,ty1,ax)"
      ],
      "execution_count": 15,
      "outputs": [
        {
          "output_type": "stream",
          "text": [
            "Test score: 0.09392753407564018\n",
            "Test accuracy 0.9806\n"
          ],
          "name": "stdout"
        },
        {
          "output_type": "display_data",
          "data": {
            "image/png": "[encoded data removed]",
            "text/plain": [
              "<Figure size 432x288 with 1 Axes>"
            ]
          },
          "metadata": {
            "tags": []
          }
        }
      ]
    },
    {
      "cell_type": "markdown",
      "metadata": {
        "id": "zsd7vblYpoZ-",
        "colab_type": "text"
      },
      "source": [
        "## 1.2 MLP + Batch-Norm on hidden Layers + AdamOptimizer"
      ]
    },
    {
      "cell_type": "code",
      "metadata": {
        "id": "cfCumASOpsTr",
        "colab_type": "code",
        "colab": {
          "base_uri": "https://localhost:8080/",
          "height": 362
        },
        "outputId": "36b6e3de-43c7-40f5-9d0a-18a3b6ef9de7"
      },
      "source": [
        "from keras.layers.normalization import BatchNormalization\n",
        "\n",
        "model_batch = Sequential()\n",
        "\n",
        "model_batch.add(Dense(472, activation='relu', \n",
        "                      input_shape=(input_dim,),\n",
        "                      kernel_initializer=he_normal(seed=None)))\n",
        "model_batch.add(BatchNormalization())\n",
        "\n",
        "model_batch.add(Dense(168, activation='relu', \n",
        "                      kernel_initializer=he_normal(seed=None)) )\n",
        "model_batch.add(BatchNormalization())\n",
        "\n",
        "model_batch.add(Dense(output_dim, activation='softmax'))\n",
        "\n",
        "\n",
        "model_batch.summary()"
      ],
      "execution_count": 16,
      "outputs": [
        {
          "output_type": "stream",
          "text": [
            "WARNING:tensorflow:From /usr/local/lib/python3.6/dist-packages/keras/backend/tensorflow_backend.py:148: The name tf.placeholder_with_default is deprecated. Please use tf.compat.v1.placeholder_with_default instead.\n",
            "\n",
            "Model: \"sequential_2\"\n",
            "_________________________________________________________________\n",
            "Layer (type)                 Output Shape              Param #   \n",
            "=================================================================\n",
            "dense_4 (Dense)              (None, 472)               370520    \n",
            "_________________________________________________________________\n",
            "batch_normalization_1 (Batch (None, 472)               1888      \n",
            "_________________________________________________________________\n",
            "dense_5 (Dense)              (None, 168)               79464     \n",
            "_________________________________________________________________\n",
            "batch_normalization_2 (Batch (None, 168)               672       \n",
            "_________________________________________________________________\n",
            "dense_6 (Dense)              (None, 10)                1690      \n",
            "=================================================================\n",
            "Total params: 454,234\n",
            "Trainable params: 452,954\n",
            "Non-trainable params: 1,280\n",
            "_________________________________________________________________\n"
          ],
          "name": "stdout"
        }
      ]
    },
    {
      "cell_type": "code",
      "metadata": {
        "id": "jTDjjyB3p0CP",
        "colab_type": "code",
        "colab": {
          "base_uri": "https://localhost:8080/",
          "height": 683
        },
        "outputId": "c5e077ae-841a-4187-860c-c70682b68899"
      },
      "source": [
        "model_batch.compile(optimizer='adam', loss='categorical_crossentropy', \n",
        "                    metrics=['accuracy'])\n",
        "\n",
        "history12 = model_batch.fit(x_train, y_train, \n",
        "                           batch_size=batch_size,\n",
        "                           epochs=nb_epoch, verbose=1, \n",
        "                           validation_data=(x_test, y_test))"
      ],
      "execution_count": 17,
      "outputs": [
        {
          "output_type": "stream",
          "text": [
            "Train on 60000 samples, validate on 10000 samples\n",
            "Epoch 1/20\n",
            "60000/60000 [==============================] - 6s 95us/step - loss: 0.1824 - acc: 0.9439 - val_loss: 0.1061 - val_acc: 0.9672\n",
            "Epoch 2/20\n",
            "60000/60000 [==============================] - 5s 86us/step - loss: 0.0700 - acc: 0.9789 - val_loss: 0.0838 - val_acc: 0.9743\n",
            "Epoch 3/20\n",
            "60000/60000 [==============================] - 5s 86us/step - loss: 0.0455 - acc: 0.9859 - val_loss: 0.0877 - val_acc: 0.9735\n",
            "Epoch 4/20\n",
            "60000/60000 [==============================] - 5s 85us/step - loss: 0.0336 - acc: 0.9897 - val_loss: 0.0783 - val_acc: 0.9776\n",
            "Epoch 5/20\n",
            "60000/60000 [==============================] - 5s 84us/step - loss: 0.0253 - acc: 0.9920 - val_loss: 0.0721 - val_acc: 0.9795\n",
            "Epoch 6/20\n",
            "60000/60000 [==============================] - 5s 85us/step - loss: 0.0215 - acc: 0.9928 - val_loss: 0.0783 - val_acc: 0.9789\n",
            "Epoch 7/20\n",
            "60000/60000 [==============================] - 5s 86us/step - loss: 0.0198 - acc: 0.9937 - val_loss: 0.0721 - val_acc: 0.9803\n",
            "Epoch 8/20\n",
            "60000/60000 [==============================] - 5s 86us/step - loss: 0.0179 - acc: 0.9940 - val_loss: 0.0777 - val_acc: 0.9780\n",
            "Epoch 9/20\n",
            "60000/60000 [==============================] - 5s 86us/step - loss: 0.0177 - acc: 0.9939 - val_loss: 0.0788 - val_acc: 0.9782\n",
            "Epoch 10/20\n",
            "60000/60000 [==============================] - 5s 84us/step - loss: 0.0121 - acc: 0.9958 - val_loss: 0.0789 - val_acc: 0.9799\n",
            "Epoch 11/20\n",
            "60000/60000 [==============================] - 5s 87us/step - loss: 0.0117 - acc: 0.9962 - val_loss: 0.0847 - val_acc: 0.9801\n",
            "Epoch 12/20\n",
            "60000/60000 [==============================] - 5s 84us/step - loss: 0.0090 - acc: 0.9971 - val_loss: 0.0743 - val_acc: 0.9818\n",
            "Epoch 13/20\n",
            "60000/60000 [==============================] - 5s 89us/step - loss: 0.0093 - acc: 0.9970 - val_loss: 0.0856 - val_acc: 0.9803\n",
            "Epoch 14/20\n",
            "60000/60000 [==============================] - 5s 84us/step - loss: 0.0124 - acc: 0.9959 - val_loss: 0.0864 - val_acc: 0.9783\n",
            "Epoch 15/20\n",
            "60000/60000 [==============================] - 5s 86us/step - loss: 0.0119 - acc: 0.9958 - val_loss: 0.0892 - val_acc: 0.9791\n",
            "Epoch 16/20\n",
            "60000/60000 [==============================] - 5s 82us/step - loss: 0.0089 - acc: 0.9969 - val_loss: 0.0812 - val_acc: 0.9797\n",
            "Epoch 17/20\n",
            "60000/60000 [==============================] - 5s 85us/step - loss: 0.0066 - acc: 0.9978 - val_loss: 0.0873 - val_acc: 0.9793\n",
            "Epoch 18/20\n",
            "60000/60000 [==============================] - 5s 87us/step - loss: 0.0083 - acc: 0.9974 - val_loss: 0.0851 - val_acc: 0.9791\n",
            "Epoch 19/20\n",
            "60000/60000 [==============================] - 5s 85us/step - loss: 0.0080 - acc: 0.9975 - val_loss: 0.0769 - val_acc: 0.9820\n",
            "Epoch 20/20\n",
            "60000/60000 [==============================] - 5s 86us/step - loss: 0.0070 - acc: 0.9980 - val_loss: 0.0764 - val_acc: 0.9821\n"
          ],
          "name": "stdout"
        }
      ]
    },
    {
      "cell_type": "code",
      "metadata": {
        "id": "LJlO0SKkqOWE",
        "colab_type": "code",
        "colab": {
          "base_uri": "https://localhost:8080/",
          "height": 311
        },
        "outputId": "281e6b50-c350-4417-953b-06ae5f9142ef"
      },
      "source": [
        "\n",
        "score = model_batch.evaluate(x_test, y_test, verbose=0) \n",
        "print('Test score:', score[0]) \n",
        "print('Test accuracy:', score[1])\n",
        "score3=score[0]\n",
        "score4=score[1]\n",
        "train_acc2=history12.history['acc']\n",
        "\n",
        "fig,ax12 = plt.subplots(1,1)\n",
        "ax12.set_xlabel('epoch') ; ax12.set_ylabel('Categorical Crossentropy Loss')\n",
        "\n",
        "# list of epoch numbers\n",
        "x = list(range(1,nb_epoch+1))\n",
        "\n",
        "\n",
        "vy12 = history12.history['val_loss']\n",
        "ty12 = history12.history['loss']\n",
        "plt_dynamic(x, vy12, ty12, ax12)"
      ],
      "execution_count": 19,
      "outputs": [
        {
          "output_type": "stream",
          "text": [
            "Test score: 0.0763547311660568\n",
            "Test accuracy: 0.9821\n"
          ],
          "name": "stdout"
        },
        {
          "output_type": "display_data",
          "data": {
            "image/png": "[encoded data removed]",
            "text/plain": [
              "<Figure size 432x288 with 1 Axes>"
            ]
          },
          "metadata": {
            "tags": []
          }
        }
      ]
    },
    {
      "cell_type": "markdown",
      "metadata": {
        "id": "ESDmsIALqgxy",
        "colab_type": "text"
      },
      "source": [
        "## 1.3 MLP + Dropout + AdamOptimizer"
      ]
    },
    {
      "cell_type": "code",
      "metadata": {
        "id": "eje4KSi-qp4q",
        "colab_type": "code",
        "colab": {
          "base_uri": "https://localhost:8080/",
          "height": 443
        },
        "outputId": "6497c9f0-64fc-4727-894b-7f53aeb882ee"
      },
      "source": [
        "\n",
        "# https://stackoverflow.com/questions/34716454/where-do-i-call-the-batchnormalization-function-in-keras\n",
        "\n",
        "from keras.layers import Dropout\n",
        "\n",
        "model_drop = Sequential()\n",
        "\n",
        "model_drop.add(Dense(472, activation='relu',\n",
        "                     input_shape=(input_dim,),\n",
        "                     kernel_initializer=he_normal(seed=None)))\n",
        "model_drop.add(BatchNormalization())\n",
        "model_drop.add(Dropout(0.5))\n",
        "\n",
        "model_drop.add(Dense(168, activation='relu',\n",
        "                     kernel_initializer=he_normal(seed=None)) )\n",
        "model_drop.add(BatchNormalization())\n",
        "model_drop.add(Dropout(0.5))\n",
        "\n",
        "model_drop.add(Dense(output_dim, activation='softmax'))\n",
        "\n",
        "\n",
        "model_drop.summary()"
      ],
      "execution_count": 20,
      "outputs": [
        {
          "output_type": "stream",
          "text": [
            "WARNING:tensorflow:From /usr/local/lib/python3.6/dist-packages/keras/backend/tensorflow_backend.py:3733: calling dropout (from tensorflow.python.ops.nn_ops) with keep_prob is deprecated and will be removed in a future version.\n",
            "Instructions for updating:\n",
            "Please use `rate` instead of `keep_prob`. Rate should be set to `rate = 1 - keep_prob`.\n",
            "Model: \"sequential_3\"\n",
            "_________________________________________________________________\n",
            "Layer (type)                 Output Shape              Param #   \n",
            "=================================================================\n",
            "dense_7 (Dense)              (None, 472)               370520    \n",
            "_________________________________________________________________\n",
            "batch_normalization_3 (Batch (None, 472)               1888      \n",
            "_________________________________________________________________\n",
            "dropout_1 (Dropout)          (None, 472)               0         \n",
            "_________________________________________________________________\n",
            "dense_8 (Dense)              (None, 168)               79464     \n",
            "_________________________________________________________________\n",
            "batch_normalization_4 (Batch (None, 168)               672       \n",
            "_________________________________________________________________\n",
            "dropout_2 (Dropout)          (None, 168)               0         \n",
            "_________________________________________________________________\n",
            "dense_9 (Dense)              (None, 10)                1690      \n",
            "=================================================================\n",
            "Total params: 454,234\n",
            "Trainable params: 452,954\n",
            "Non-trainable params: 1,280\n",
            "_________________________________________________________________\n"
          ],
          "name": "stdout"
        }
      ]
    },
    {
      "cell_type": "code",
      "metadata": {
        "id": "CZ46t-zcquaG",
        "colab_type": "code",
        "colab": {
          "base_uri": "https://localhost:8080/",
          "height": 683
        },
        "outputId": "be6b33de-50cd-4815-ddec-100978a0300d"
      },
      "source": [
        "\n",
        "model_drop.compile(optimizer='adam',\n",
        "                   loss='categorical_crossentropy',\n",
        "                   metrics=['accuracy'])\n",
        "\n",
        "history13 = model_drop.fit(x_train, y_train,\n",
        "                         batch_size=batch_size,\n",
        "                         \n",
        "                         epochs=nb_epoch, verbose=1,\n",
        "                         validation_data=(x_test, y_test))"
      ],
      "execution_count": 21,
      "outputs": [
        {
          "output_type": "stream",
          "text": [
            "Train on 60000 samples, validate on 10000 samples\n",
            "Epoch 1/20\n",
            "60000/60000 [==============================] - 7s 108us/step - loss: 0.4285 - acc: 0.8700 - val_loss: 0.1463 - val_acc: 0.9544\n",
            "Epoch 2/20\n",
            "60000/60000 [==============================] - 5s 90us/step - loss: 0.2060 - acc: 0.9376 - val_loss: 0.1089 - val_acc: 0.9659\n",
            "Epoch 3/20\n",
            "60000/60000 [==============================] - 5s 91us/step - loss: 0.1596 - acc: 0.9513 - val_loss: 0.0942 - val_acc: 0.9688\n",
            "Epoch 4/20\n",
            "60000/60000 [==============================] - 5s 92us/step - loss: 0.1345 - acc: 0.9595 - val_loss: 0.0779 - val_acc: 0.9748\n",
            "Epoch 5/20\n",
            "60000/60000 [==============================] - 6s 93us/step - loss: 0.1211 - acc: 0.9625 - val_loss: 0.0796 - val_acc: 0.9755\n",
            "Epoch 6/20\n",
            "60000/60000 [==============================] - 5s 91us/step - loss: 0.1101 - acc: 0.9660 - val_loss: 0.0739 - val_acc: 0.9774\n",
            "Epoch 7/20\n",
            "60000/60000 [==============================] - 6s 94us/step - loss: 0.1002 - acc: 0.9688 - val_loss: 0.0717 - val_acc: 0.9773\n",
            "Epoch 8/20\n",
            "60000/60000 [==============================] - 6s 92us/step - loss: 0.0933 - acc: 0.9710 - val_loss: 0.0690 - val_acc: 0.9792\n",
            "Epoch 9/20\n",
            "60000/60000 [==============================] - 6s 92us/step - loss: 0.0887 - acc: 0.9718 - val_loss: 0.0665 - val_acc: 0.9793\n",
            "Epoch 10/20\n",
            "60000/60000 [==============================] - 6s 95us/step - loss: 0.0826 - acc: 0.9743 - val_loss: 0.0584 - val_acc: 0.9814\n",
            "Epoch 11/20\n",
            "60000/60000 [==============================] - 6s 95us/step - loss: 0.0764 - acc: 0.9756 - val_loss: 0.0603 - val_acc: 0.9812\n",
            "Epoch 12/20\n",
            "60000/60000 [==============================] - 5s 90us/step - loss: 0.0748 - acc: 0.9763 - val_loss: 0.0610 - val_acc: 0.9797\n",
            "Epoch 13/20\n",
            "60000/60000 [==============================] - 6s 92us/step - loss: 0.0718 - acc: 0.9773 - val_loss: 0.0640 - val_acc: 0.9798\n",
            "Epoch 14/20\n",
            "60000/60000 [==============================] - 6s 92us/step - loss: 0.0674 - acc: 0.9786 - val_loss: 0.0577 - val_acc: 0.9822\n",
            "Epoch 15/20\n",
            "60000/60000 [==============================] - 5s 89us/step - loss: 0.0618 - acc: 0.9798 - val_loss: 0.0583 - val_acc: 0.9813\n",
            "Epoch 16/20\n",
            "60000/60000 [==============================] - 5s 88us/step - loss: 0.0630 - acc: 0.9802 - val_loss: 0.0589 - val_acc: 0.9802\n",
            "Epoch 17/20\n",
            "60000/60000 [==============================] - 6s 93us/step - loss: 0.0584 - acc: 0.9815 - val_loss: 0.0625 - val_acc: 0.9802\n",
            "Epoch 18/20\n",
            "60000/60000 [==============================] - 5s 91us/step - loss: 0.0594 - acc: 0.9810 - val_loss: 0.0582 - val_acc: 0.9821\n",
            "Epoch 19/20\n",
            "60000/60000 [==============================] - 5s 88us/step - loss: 0.0568 - acc: 0.9818 - val_loss: 0.0574 - val_acc: 0.9827\n",
            "Epoch 20/20\n",
            "60000/60000 [==============================] - 5s 90us/step - loss: 0.0530 - acc: 0.9831 - val_loss: 0.0556 - val_acc: 0.9832\n"
          ],
          "name": "stdout"
        }
      ]
    },
    {
      "cell_type": "code",
      "metadata": {
        "id": "F_QgnalWq1kc",
        "colab_type": "code",
        "colab": {
          "base_uri": "https://localhost:8080/",
          "height": 311
        },
        "outputId": "13d98d0c-a7ff-4797-9703-1ec645bb0bd7"
      },
      "source": [
        "\n",
        "score = model_drop.evaluate(x_test, y_test, verbose=0) \n",
        "score5=score[0]\n",
        "score6=score[1]\n",
        "train_acc3=history13.history['acc']\n",
        "print('Test score:', score[0]) \n",
        "print('Test accuracy:', score[1])\n",
        "\n",
        "fig,ax13 = plt.subplots(1,1)\n",
        "ax13.set_xlabel('epoch') ; ax13.set_ylabel('Categorical Crossentropy Loss')\n",
        "\n",
        "vy13 = history13.history['val_loss']\n",
        "ty13 = history13.history['loss']\n",
        "plt_dynamic(x, vy13, ty13, ax13)"
      ],
      "execution_count": 23,
      "outputs": [
        {
          "output_type": "stream",
          "text": [
            "Test score: 0.055553550353553145\n",
            "Test accuracy: 0.9832\n"
          ],
          "name": "stdout"
        },
        {
          "output_type": "display_data",
          "data": {
            "image/png": "[encoded data removed]",
            "text/plain": [
              "<Figure size 432x288 with 1 Axes>"
            ]
          },
          "metadata": {
            "tags": []
          }
        }
      ]
    },
    {
      "cell_type": "markdown",
      "metadata": {
        "id": "rGlbpqknrXBf",
        "colab_type": "text"
      },
      "source": [
        "# 2) 3-Hidden layer architecture (784-352-164-124 architecture)\n",
        "\n",
        "\n",
        "## 2.1 MLP + ReLU + ADAM"
      ]
    },
    {
      "cell_type": "code",
      "metadata": {
        "id": "q7iuBasGrhuO",
        "colab_type": "code",
        "colab": {
          "base_uri": "https://localhost:8080/",
          "height": 960
        },
        "outputId": "a978b9a3-3eaa-4dc3-b458-cf9c21d4182d"
      },
      "source": [
        "model_relu = Sequential()\n",
        "model_relu.add(Dense(352, activation='relu', input_shape=(input_dim,),\n",
        "                     kernel_initializer=he_normal(seed=None)))\n",
        "model_relu.add(Dense(164, activation='relu', \n",
        "                     kernel_initializer=he_normal(seed=None)) )\n",
        "                                                    \n",
        "model_relu.add(Dense(124, activation='relu', \n",
        "                     kernel_initializer=he_normal(seed=None)) )\n",
        "model_relu.add(Dense(output_dim, activation='softmax'))\n",
        "\n",
        "print(model_relu.summary())\n",
        "\n",
        "model_relu.compile(optimizer='adam',\n",
        "                   loss='categorical_crossentropy',\n",
        "                   metrics=['accuracy'])\n",
        "\n",
        "history21 = model_relu.fit(x_train, y_train, \n",
        "                         batch_size=batch_size, \n",
        "                         epochs=nb_epoch, verbose=1, \n",
        "                         validation_data=(x_test, y_test))"
      ],
      "execution_count": 24,
      "outputs": [
        {
          "output_type": "stream",
          "text": [
            "Model: \"sequential_4\"\n",
            "_________________________________________________________________\n",
            "Layer (type)                 Output Shape              Param #   \n",
            "=================================================================\n",
            "dense_10 (Dense)             (None, 352)               276320    \n",
            "_________________________________________________________________\n",
            "dense_11 (Dense)             (None, 164)               57892     \n",
            "_________________________________________________________________\n",
            "dense_12 (Dense)             (None, 124)               20460     \n",
            "_________________________________________________________________\n",
            "dense_13 (Dense)             (None, 10)                1250      \n",
            "=================================================================\n",
            "Total params: 355,922\n",
            "Trainable params: 355,922\n",
            "Non-trainable params: 0\n",
            "_________________________________________________________________\n",
            "None\n",
            "Train on 60000 samples, validate on 10000 samples\n",
            "Epoch 1/20\n",
            "60000/60000 [==============================] - 4s 64us/step - loss: 0.2381 - acc: 0.9299 - val_loss: 0.1218 - val_acc: 0.9620\n",
            "Epoch 2/20\n",
            "60000/60000 [==============================] - 3s 54us/step - loss: 0.0883 - acc: 0.9730 - val_loss: 0.0840 - val_acc: 0.9746\n",
            "Epoch 3/20\n",
            "60000/60000 [==============================] - 3s 56us/step - loss: 0.0595 - acc: 0.9811 - val_loss: 0.0745 - val_acc: 0.9772\n",
            "Epoch 4/20\n",
            "60000/60000 [==============================] - 3s 57us/step - loss: 0.0409 - acc: 0.9870 - val_loss: 0.0915 - val_acc: 0.9740\n",
            "Epoch 5/20\n",
            "60000/60000 [==============================] - 3s 57us/step - loss: 0.0327 - acc: 0.9892 - val_loss: 0.0897 - val_acc: 0.9752\n",
            "Epoch 6/20\n",
            "60000/60000 [==============================] - 3s 53us/step - loss: 0.0263 - acc: 0.9909 - val_loss: 0.0805 - val_acc: 0.9764\n",
            "Epoch 7/20\n",
            "60000/60000 [==============================] - 3s 56us/step - loss: 0.0221 - acc: 0.9925 - val_loss: 0.0868 - val_acc: 0.9750\n",
            "Epoch 8/20\n",
            "60000/60000 [==============================] - 3s 56us/step - loss: 0.0197 - acc: 0.9938 - val_loss: 0.0851 - val_acc: 0.9760\n",
            "Epoch 9/20\n",
            "60000/60000 [==============================] - 3s 52us/step - loss: 0.0155 - acc: 0.9950 - val_loss: 0.0862 - val_acc: 0.9783\n",
            "Epoch 10/20\n",
            "60000/60000 [==============================] - 3s 55us/step - loss: 0.0173 - acc: 0.9942 - val_loss: 0.0833 - val_acc: 0.9804\n",
            "Epoch 11/20\n",
            "60000/60000 [==============================] - 3s 56us/step - loss: 0.0170 - acc: 0.9945 - val_loss: 0.0737 - val_acc: 0.9824\n",
            "Epoch 12/20\n",
            "60000/60000 [==============================] - 3s 55us/step - loss: 0.0125 - acc: 0.9957 - val_loss: 0.0780 - val_acc: 0.9817\n",
            "Epoch 13/20\n",
            "60000/60000 [==============================] - 3s 57us/step - loss: 0.0131 - acc: 0.9959 - val_loss: 0.0833 - val_acc: 0.9808\n",
            "Epoch 14/20\n",
            "60000/60000 [==============================] - 4s 59us/step - loss: 0.0112 - acc: 0.9963 - val_loss: 0.0881 - val_acc: 0.9796\n",
            "Epoch 15/20\n",
            "60000/60000 [==============================] - 3s 56us/step - loss: 0.0105 - acc: 0.9967 - val_loss: 0.0894 - val_acc: 0.9807\n",
            "Epoch 16/20\n",
            "60000/60000 [==============================] - 3s 57us/step - loss: 0.0132 - acc: 0.9955 - val_loss: 0.0943 - val_acc: 0.9791\n",
            "Epoch 17/20\n",
            "60000/60000 [==============================] - 3s 55us/step - loss: 0.0100 - acc: 0.9968 - val_loss: 0.0873 - val_acc: 0.9815\n",
            "Epoch 18/20\n",
            "60000/60000 [==============================] - 3s 55us/step - loss: 0.0064 - acc: 0.9981 - val_loss: 0.1060 - val_acc: 0.9803\n",
            "Epoch 19/20\n",
            "60000/60000 [==============================] - 3s 55us/step - loss: 0.0072 - acc: 0.9980 - val_loss: 0.1071 - val_acc: 0.9823\n",
            "Epoch 20/20\n",
            "60000/60000 [==============================] - 3s 54us/step - loss: 0.0108 - acc: 0.9969 - val_loss: 0.1101 - val_acc: 0.9782\n"
          ],
          "name": "stdout"
        }
      ]
    },
    {
      "cell_type": "code",
      "metadata": {
        "id": "r1xR963Qr6j8",
        "colab_type": "code",
        "colab": {
          "base_uri": "https://localhost:8080/",
          "height": 311
        },
        "outputId": "cb33f730-1b4d-4097-c430-a65bc65eacb1"
      },
      "source": [
        "\n",
        "score = model_relu.evaluate(x_test, y_test, verbose=0) \n",
        "score7=score[0]\n",
        "score8=score[1]\n",
        "train_acc4=history21.history['acc']\n",
        "print('Test score:', score[0]) \n",
        "print('Test accuracy:', score[1])\n",
        "\n",
        "fig,ax21 = plt.subplots(1,1)\n",
        "ax21.set_xlabel('epoch') ; ax21.set_ylabel('Categorical Crossentropy Loss')\n",
        "\n",
        "# list of epoch numbers\n",
        "x = list(range(1,nb_epoch+1))\n",
        "\n",
        "\n",
        "vy21 = history21.history['val_loss']\n",
        "ty21 = history21.history['loss']\n",
        "plt_dynamic(x, vy21, ty21, ax21)"
      ],
      "execution_count": 25,
      "outputs": [
        {
          "output_type": "stream",
          "text": [
            "Test score: 0.11005314016519442\n",
            "Test accuracy: 0.9782\n"
          ],
          "name": "stdout"
        },
        {
          "output_type": "display_data",
          "data": {
            "image/png": "[encoded data removed]",
            "text/plain": [
              "<Figure size 432x288 with 1 Axes>"
            ]
          },
          "metadata": {
            "tags": []
          }
        }
      ]
    },
    {
      "cell_type": "markdown",
      "metadata": {
        "id": "WlHwhRzFsBoE",
        "colab_type": "text"
      },
      "source": [
        "## 2.2 MLP + Batch-Norm on hidden Layers + AdamOptimizer"
      ]
    },
    {
      "cell_type": "code",
      "metadata": {
        "id": "3AEx3UOrsG9E",
        "colab_type": "code",
        "colab": {}
      },
      "source": [
        "\n",
        "from keras.layers.normalization import BatchNormalization\n",
        "\n",
        "model_batch = Sequential()\n",
        "\n",
        "model_batch.add(Dense(352, activation='relu', input_shape=(input_dim,),\n",
        "                     kernel_initializer=he_normal(seed=None)))\n",
        "model_batch.add(BatchNormalization())\n",
        "model_batch.add(Dense(164, activation='relu', \n",
        "                     kernel_initializer=he_normal(seed=None)) )\n",
        "model_batch.add(BatchNormalization())\n",
        "                                                    \n",
        "model_batch.add(Dense(124, activation='relu', \n",
        "                     kernel_initializer=he_normal(seed=None)) )\n",
        "model_batch.add(BatchNormalization())\n",
        "\n",
        "model_batch.add(Dense(output_dim, activation='softmax'))"
      ],
      "execution_count": 0,
      "outputs": []
    },
    {
      "cell_type": "code",
      "metadata": {
        "id": "aIY6NVqIs0Ws",
        "colab_type": "code",
        "colab": {
          "base_uri": "https://localhost:8080/",
          "height": 683
        },
        "outputId": "7f11d595-3629-443c-b0e1-7f76d803c19d"
      },
      "source": [
        "model_batch.compile(optimizer='adam', loss='categorical_crossentropy', \n",
        "                    metrics=['accuracy'])\n",
        "\n",
        "history22 = model_batch.fit(x_train, y_train, \n",
        "                           batch_size=batch_size,\n",
        "                           epochs=nb_epoch, verbose=1, \n",
        "                           validation_data=(x_test, y_test))"
      ],
      "execution_count": 28,
      "outputs": [
        {
          "output_type": "stream",
          "text": [
            "Train on 60000 samples, validate on 10000 samples\n",
            "Epoch 1/20\n",
            "60000/60000 [==============================] - 7s 119us/step - loss: 0.2123 - acc: 0.9349 - val_loss: 0.1099 - val_acc: 0.9626\n",
            "Epoch 2/20\n",
            "60000/60000 [==============================] - 6s 102us/step - loss: 0.0804 - acc: 0.9752 - val_loss: 0.0862 - val_acc: 0.9721\n",
            "Epoch 3/20\n",
            "60000/60000 [==============================] - 6s 99us/step - loss: 0.0512 - acc: 0.9837 - val_loss: 0.0766 - val_acc: 0.9760\n",
            "Epoch 4/20\n",
            "60000/60000 [==============================] - 6s 104us/step - loss: 0.0387 - acc: 0.9872 - val_loss: 0.0815 - val_acc: 0.9759\n",
            "Epoch 5/20\n",
            "60000/60000 [==============================] - 6s 100us/step - loss: 0.0307 - acc: 0.9904 - val_loss: 0.0907 - val_acc: 0.9741\n",
            "Epoch 6/20\n",
            "60000/60000 [==============================] - 6s 106us/step - loss: 0.0256 - acc: 0.9918 - val_loss: 0.0835 - val_acc: 0.9742\n",
            "Epoch 7/20\n",
            "60000/60000 [==============================] - 7s 109us/step - loss: 0.0217 - acc: 0.9929 - val_loss: 0.0783 - val_acc: 0.9785\n",
            "Epoch 8/20\n",
            "60000/60000 [==============================] - 6s 100us/step - loss: 0.0213 - acc: 0.9929 - val_loss: 0.1105 - val_acc: 0.9707\n",
            "Epoch 9/20\n",
            "60000/60000 [==============================] - 7s 109us/step - loss: 0.0206 - acc: 0.9928 - val_loss: 0.0783 - val_acc: 0.9783\n",
            "Epoch 10/20\n",
            "60000/60000 [==============================] - 6s 106us/step - loss: 0.0172 - acc: 0.9941 - val_loss: 0.0836 - val_acc: 0.9790\n",
            "Epoch 11/20\n",
            "60000/60000 [==============================] - 6s 96us/step - loss: 0.0159 - acc: 0.9948 - val_loss: 0.0854 - val_acc: 0.9779\n",
            "Epoch 12/20\n",
            "60000/60000 [==============================] - 6s 100us/step - loss: 0.0147 - acc: 0.9950 - val_loss: 0.0747 - val_acc: 0.9808\n",
            "Epoch 13/20\n",
            "60000/60000 [==============================] - 6s 105us/step - loss: 0.0114 - acc: 0.9961 - val_loss: 0.0765 - val_acc: 0.9795\n",
            "Epoch 14/20\n",
            "60000/60000 [==============================] - 6s 99us/step - loss: 0.0117 - acc: 0.9959 - val_loss: 0.0938 - val_acc: 0.9776\n",
            "Epoch 15/20\n",
            "60000/60000 [==============================] - 6s 103us/step - loss: 0.0138 - acc: 0.9951 - val_loss: 0.0846 - val_acc: 0.9809\n",
            "Epoch 16/20\n",
            "60000/60000 [==============================] - 6s 104us/step - loss: 0.0091 - acc: 0.9969 - val_loss: 0.0830 - val_acc: 0.9802\n",
            "Epoch 17/20\n",
            "60000/60000 [==============================] - 6s 99us/step - loss: 0.0094 - acc: 0.9968 - val_loss: 0.0869 - val_acc: 0.9807\n",
            "Epoch 18/20\n",
            "60000/60000 [==============================] - 6s 105us/step - loss: 0.0096 - acc: 0.9968 - val_loss: 0.0882 - val_acc: 0.9807\n",
            "Epoch 19/20\n",
            "60000/60000 [==============================] - 6s 105us/step - loss: 0.0107 - acc: 0.9963 - val_loss: 0.0818 - val_acc: 0.9813\n",
            "Epoch 20/20\n",
            "60000/60000 [==============================] - 6s 99us/step - loss: 0.0088 - acc: 0.9970 - val_loss: 0.0846 - val_acc: 0.9808\n"
          ],
          "name": "stdout"
        }
      ]
    },
    {
      "cell_type": "code",
      "metadata": {
        "id": "x6F3bcqgs-ob",
        "colab_type": "code",
        "colab": {
          "base_uri": "https://localhost:8080/",
          "height": 311
        },
        "outputId": "e95e295a-5d74-4746-9077-8b0a5a8f0c4d"
      },
      "source": [
        "score = model_batch.evaluate(x_test, y_test, verbose=0) \n",
        "score9=score[0]\n",
        "score10=score[1]\n",
        "train_acc5=history22.history['acc']\n",
        "print('Test score:', score[0]) \n",
        "print('Test accuracy:', score[1])\n",
        "\n",
        "fig,ax22 = plt.subplots(1,1)\n",
        "ax22.set_xlabel('epoch') ; ax22.set_ylabel('Categorical Crossentropy Loss')\n",
        "\n",
        "# list of epoch numbers\n",
        "x = list(range(1,nb_epoch+1))\n",
        "\n",
        "vy22 = history22.history['val_loss']\n",
        "ty22 = history22.history['loss']\n",
        "plt_dynamic(x, vy22, ty22, ax22)"
      ],
      "execution_count": 30,
      "outputs": [
        {
          "output_type": "stream",
          "text": [
            "Test score: 0.0846230962077434\n",
            "Test accuracy: 0.9808\n"
          ],
          "name": "stdout"
        },
        {
          "output_type": "display_data",
          "data": {
            "image/png": "[encoded data removed]",
            "text/plain": [
              "<Figure size 432x288 with 1 Axes>"
            ]
          },
          "metadata": {
            "tags": []
          }
        }
      ]
    },
    {
      "cell_type": "markdown",
      "metadata": {
        "id": "YymYGkDZtQ4Y",
        "colab_type": "text"
      },
      "source": [
        "## 2.3 MLP + Dropout + AdamOptimizer"
      ]
    },
    {
      "cell_type": "code",
      "metadata": {
        "id": "Y3gYFarTtdHM",
        "colab_type": "code",
        "colab": {}
      },
      "source": [
        "from keras.layers import Dropout\n",
        "\n",
        "model_drop = Sequential()\n",
        "model_drop.add(Dense(352, activation='relu', input_shape=(input_dim,),\n",
        "                     kernel_initializer=he_normal(seed=None)))\n",
        "\n",
        "model_drop.add(BatchNormalization())\n",
        "model_drop.add(Dropout(0.5))\n",
        "model_drop.add(Dense(164, activation='relu', \n",
        "                     kernel_initializer=he_normal(seed=None)) )\n",
        "model_drop.add(BatchNormalization())\n",
        "model_drop.add(Dropout(0.5))\n",
        "\n",
        "                                                    \n",
        "model_drop.add(Dense(124, activation='relu', \n",
        "                     kernel_initializer=he_normal(seed=None)) )\n",
        "model_drop.add(BatchNormalization())\n",
        "model_drop.add(Dropout(0.5))\n",
        "\n",
        "model_drop.add(Dense(output_dim, activation='softmax'))"
      ],
      "execution_count": 0,
      "outputs": []
    },
    {
      "cell_type": "code",
      "metadata": {
        "id": "_jXmpPg7uAL6",
        "colab_type": "code",
        "colab": {
          "base_uri": "https://localhost:8080/",
          "height": 683
        },
        "outputId": "745da8ee-0c3e-41f4-d534-49b79f29ec2a"
      },
      "source": [
        "model_drop.compile(optimizer='adam',\n",
        "                   loss='categorical_crossentropy',\n",
        "                   metrics=['accuracy'])\n",
        "\n",
        "history23 = model_drop.fit(x_train, y_train,\n",
        "                         batch_size=batch_size,\n",
        "                         \n",
        "                         epochs=nb_epoch, verbose=1,\n",
        "                         validation_data=(x_test, y_test))"
      ],
      "execution_count": 32,
      "outputs": [
        {
          "output_type": "stream",
          "text": [
            "Train on 60000 samples, validate on 10000 samples\n",
            "Epoch 1/20\n",
            "60000/60000 [==============================] - 8s 135us/step - loss: 0.6861 - acc: 0.7893 - val_loss: 0.1890 - val_acc: 0.9407\n",
            "Epoch 2/20\n",
            "60000/60000 [==============================] - 7s 110us/step - loss: 0.2929 - acc: 0.9157 - val_loss: 0.1363 - val_acc: 0.9576\n",
            "Epoch 3/20\n",
            "60000/60000 [==============================] - 6s 105us/step - loss: 0.2247 - acc: 0.9351 - val_loss: 0.1124 - val_acc: 0.9660\n",
            "Epoch 4/20\n",
            "60000/60000 [==============================] - 7s 114us/step - loss: 0.1875 - acc: 0.9455 - val_loss: 0.0964 - val_acc: 0.9705\n",
            "Epoch 5/20\n",
            "60000/60000 [==============================] - 7s 108us/step - loss: 0.1688 - acc: 0.9511 - val_loss: 0.0932 - val_acc: 0.9734\n",
            "Epoch 6/20\n",
            "60000/60000 [==============================] - 6s 108us/step - loss: 0.1531 - acc: 0.9556 - val_loss: 0.0867 - val_acc: 0.9751\n",
            "Epoch 7/20\n",
            "60000/60000 [==============================] - 7s 113us/step - loss: 0.1391 - acc: 0.9593 - val_loss: 0.0793 - val_acc: 0.9757\n",
            "Epoch 8/20\n",
            "60000/60000 [==============================] - 7s 110us/step - loss: 0.1290 - acc: 0.9625 - val_loss: 0.0798 - val_acc: 0.9767\n",
            "Epoch 9/20\n",
            "60000/60000 [==============================] - 7s 108us/step - loss: 0.1220 - acc: 0.9642 - val_loss: 0.0751 - val_acc: 0.9785\n",
            "Epoch 10/20\n",
            "60000/60000 [==============================] - 7s 114us/step - loss: 0.1153 - acc: 0.9652 - val_loss: 0.0755 - val_acc: 0.9784\n",
            "Epoch 11/20\n",
            "60000/60000 [==============================] - 7s 115us/step - loss: 0.1086 - acc: 0.9684 - val_loss: 0.0719 - val_acc: 0.9797\n",
            "Epoch 12/20\n",
            "60000/60000 [==============================] - 7s 111us/step - loss: 0.1009 - acc: 0.9704 - val_loss: 0.0677 - val_acc: 0.9804\n",
            "Epoch 13/20\n",
            "60000/60000 [==============================] - 7s 113us/step - loss: 0.0973 - acc: 0.9711 - val_loss: 0.0693 - val_acc: 0.9802\n",
            "Epoch 14/20\n",
            "60000/60000 [==============================] - 6s 108us/step - loss: 0.0951 - acc: 0.9712 - val_loss: 0.0631 - val_acc: 0.9815\n",
            "Epoch 15/20\n",
            "60000/60000 [==============================] - 7s 110us/step - loss: 0.0875 - acc: 0.9738 - val_loss: 0.0700 - val_acc: 0.9801\n",
            "Epoch 16/20\n",
            "60000/60000 [==============================] - 6s 107us/step - loss: 0.0882 - acc: 0.9738 - val_loss: 0.0687 - val_acc: 0.9812\n",
            "Epoch 17/20\n",
            "60000/60000 [==============================] - 6s 108us/step - loss: 0.0842 - acc: 0.9742 - val_loss: 0.0626 - val_acc: 0.9832\n",
            "Epoch 18/20\n",
            "60000/60000 [==============================] - 6s 108us/step - loss: 0.0798 - acc: 0.9763 - val_loss: 0.0659 - val_acc: 0.9809\n",
            "Epoch 19/20\n",
            "60000/60000 [==============================] - 6s 105us/step - loss: 0.0791 - acc: 0.9767 - val_loss: 0.0643 - val_acc: 0.9828\n",
            "Epoch 20/20\n",
            "60000/60000 [==============================] - 6s 100us/step - loss: 0.0757 - acc: 0.9771 - val_loss: 0.0621 - val_acc: 0.9824\n"
          ],
          "name": "stdout"
        }
      ]
    },
    {
      "cell_type": "code",
      "metadata": {
        "id": "rhqZvAzguba2",
        "colab_type": "code",
        "colab": {
          "base_uri": "https://localhost:8080/",
          "height": 311
        },
        "outputId": "d2aaefb7-e393-4a50-8ba2-23ff7f8b5a1f"
      },
      "source": [
        "score = model_drop.evaluate(x_test, y_test, verbose=0)\n",
        "score11=score[0]\n",
        "score12=score[1]\n",
        "train_acc6=history23.history['acc']\n",
        "print('Test score:', score[0]) \n",
        "print('Test accuracy:', score[1])\n",
        "\n",
        "fig,ax23 = plt.subplots(1,1)\n",
        "ax23.set_xlabel('epoch') ; ax23.set_ylabel('Categorical Crossentropy Loss')\n",
        "\n",
        "# list of epoch numbers\n",
        "x = list(range(1,nb_epoch+1))\n",
        "\n",
        "\n",
        "vy23 = history23.history['val_loss']\n",
        "ty23 = history23.history['loss']\n",
        "plt_dynamic(x, vy23, ty23, ax23)"
      ],
      "execution_count": 33,
      "outputs": [
        {
          "output_type": "stream",
          "text": [
            "Test score: 0.062063718887534924\n",
            "Test accuracy: 0.9824\n"
          ],
          "name": "stdout"
        },
        {
          "output_type": "display_data",
          "data": {
            "image/png": "[encoded data removed]",
            "text/plain": [
              "<Figure size 432x288 with 1 Axes>"
            ]
          },
          "metadata": {
            "tags": []
          }
        }
      ]
    },
    {
      "cell_type": "markdown",
      "metadata": {
        "id": "Ut1q1IkEulOK",
        "colab_type": "text"
      },
      "source": [
        "# 3) 5-Hidden layer architecture (784-216-170-136-80-38-10 architecture)\n",
        "\n",
        "\n",
        "## 3.1 MLP + ReLU + ADAM"
      ]
    },
    {
      "cell_type": "code",
      "metadata": {
        "id": "ZqV052KouwAB",
        "colab_type": "code",
        "colab": {
          "base_uri": "https://localhost:8080/",
          "height": 1025
        },
        "outputId": "fd824df1-5993-4450-bb1b-171ce6ff5ad8"
      },
      "source": [
        "\n",
        "model_relu = Sequential()\n",
        "model_relu.add(Dense(216, activation='relu', input_shape=(input_dim,),\n",
        "                     kernel_initializer=he_normal(seed=None)))\n",
        "model_relu.add(Dense(170, activation='relu', \n",
        "                     kernel_initializer=he_normal(seed=None)) )\n",
        "                                                    \n",
        "model_relu.add(Dense(136, activation='relu', \n",
        "                     kernel_initializer=he_normal(seed=None)) )\n",
        "model_relu.add(Dense(80, activation='relu', \n",
        "                     kernel_initializer=he_normal(seed=None)) )\n",
        "                                                    \n",
        "model_relu.add(Dense(38, activation='relu', \n",
        "                     kernel_initializer=he_normal(seed=None)) )\n",
        "model_relu.add(Dense(output_dim, activation='softmax'))\n",
        "\n",
        "print(model_relu.summary())\n",
        "\n",
        "model_relu.compile(optimizer='adam',\n",
        "                   loss='categorical_crossentropy',\n",
        "                   metrics=['accuracy'])\n",
        "\n",
        "history31 = model_relu.fit(x_train, y_train, \n",
        "                         batch_size=batch_size, \n",
        "                         epochs=nb_epoch, verbose=1, \n",
        "                         validation_data=(x_test, y_test))"
      ],
      "execution_count": 34,
      "outputs": [
        {
          "output_type": "stream",
          "text": [
            "Model: \"sequential_8\"\n",
            "_________________________________________________________________\n",
            "Layer (type)                 Output Shape              Param #   \n",
            "=================================================================\n",
            "dense_26 (Dense)             (None, 216)               169560    \n",
            "_________________________________________________________________\n",
            "dense_27 (Dense)             (None, 170)               36890     \n",
            "_________________________________________________________________\n",
            "dense_28 (Dense)             (None, 136)               23256     \n",
            "_________________________________________________________________\n",
            "dense_29 (Dense)             (None, 80)                10960     \n",
            "_________________________________________________________________\n",
            "dense_30 (Dense)             (None, 38)                3078      \n",
            "_________________________________________________________________\n",
            "dense_31 (Dense)             (None, 10)                390       \n",
            "=================================================================\n",
            "Total params: 244,134\n",
            "Trainable params: 244,134\n",
            "Non-trainable params: 0\n",
            "_________________________________________________________________\n",
            "None\n",
            "Train on 60000 samples, validate on 10000 samples\n",
            "Epoch 1/20\n",
            "60000/60000 [==============================] - 5s 82us/step - loss: 0.2774 - acc: 0.9167 - val_loss: 0.1293 - val_acc: 0.9613\n",
            "Epoch 2/20\n",
            "60000/60000 [==============================] - 4s 63us/step - loss: 0.1060 - acc: 0.9675 - val_loss: 0.1078 - val_acc: 0.9658\n",
            "Epoch 3/20\n",
            "60000/60000 [==============================] - 4s 61us/step - loss: 0.0752 - acc: 0.9770 - val_loss: 0.0858 - val_acc: 0.9742\n",
            "Epoch 4/20\n",
            "60000/60000 [==============================] - 4s 61us/step - loss: 0.0560 - acc: 0.9826 - val_loss: 0.0819 - val_acc: 0.9749\n",
            "Epoch 5/20\n",
            "60000/60000 [==============================] - 4s 61us/step - loss: 0.0453 - acc: 0.9854 - val_loss: 0.0787 - val_acc: 0.9768\n",
            "Epoch 6/20\n",
            "60000/60000 [==============================] - 4s 64us/step - loss: 0.0355 - acc: 0.9888 - val_loss: 0.0749 - val_acc: 0.9788\n",
            "Epoch 7/20\n",
            "60000/60000 [==============================] - 4s 60us/step - loss: 0.0312 - acc: 0.9902 - val_loss: 0.0776 - val_acc: 0.9793\n",
            "Epoch 8/20\n",
            "60000/60000 [==============================] - 4s 59us/step - loss: 0.0274 - acc: 0.9910 - val_loss: 0.0901 - val_acc: 0.9761\n",
            "Epoch 9/20\n",
            "60000/60000 [==============================] - 4s 61us/step - loss: 0.0250 - acc: 0.9921 - val_loss: 0.0955 - val_acc: 0.9752\n",
            "Epoch 10/20\n",
            "60000/60000 [==============================] - 4s 60us/step - loss: 0.0220 - acc: 0.9927 - val_loss: 0.0883 - val_acc: 0.9783\n",
            "Epoch 11/20\n",
            "60000/60000 [==============================] - 4s 61us/step - loss: 0.0213 - acc: 0.9930 - val_loss: 0.0958 - val_acc: 0.9768\n",
            "Epoch 12/20\n",
            "60000/60000 [==============================] - 4s 63us/step - loss: 0.0193 - acc: 0.9939 - val_loss: 0.0895 - val_acc: 0.9790\n",
            "Epoch 13/20\n",
            "60000/60000 [==============================] - 4s 61us/step - loss: 0.0174 - acc: 0.9946 - val_loss: 0.0863 - val_acc: 0.9800\n",
            "Epoch 14/20\n",
            "60000/60000 [==============================] - 4s 61us/step - loss: 0.0149 - acc: 0.9952 - val_loss: 0.0947 - val_acc: 0.9790\n",
            "Epoch 15/20\n",
            "60000/60000 [==============================] - 4s 60us/step - loss: 0.0153 - acc: 0.9948 - val_loss: 0.0829 - val_acc: 0.9804\n",
            "Epoch 16/20\n",
            "60000/60000 [==============================] - 4s 64us/step - loss: 0.0106 - acc: 0.9965 - val_loss: 0.0895 - val_acc: 0.9813\n",
            "Epoch 17/20\n",
            "60000/60000 [==============================] - 4s 64us/step - loss: 0.0180 - acc: 0.9942 - val_loss: 0.0908 - val_acc: 0.9784\n",
            "Epoch 18/20\n",
            "60000/60000 [==============================] - 4s 63us/step - loss: 0.0156 - acc: 0.9949 - val_loss: 0.0871 - val_acc: 0.9783\n",
            "Epoch 19/20\n",
            "60000/60000 [==============================] - 4s 62us/step - loss: 0.0118 - acc: 0.9963 - val_loss: 0.0862 - val_acc: 0.9789\n",
            "Epoch 20/20\n",
            "60000/60000 [==============================] - 4s 63us/step - loss: 0.0123 - acc: 0.9964 - val_loss: 0.0862 - val_acc: 0.9802\n"
          ],
          "name": "stdout"
        }
      ]
    },
    {
      "cell_type": "code",
      "metadata": {
        "id": "qhR72ZUuu2SG",
        "colab_type": "code",
        "colab": {
          "base_uri": "https://localhost:8080/",
          "height": 311
        },
        "outputId": "1070a62f-65b6-4dae-e62e-90af12cd59e4"
      },
      "source": [
        "score = model_relu.evaluate(x_test, y_test, verbose=0) \n",
        "score13=score[0]\n",
        "score14=score[1]\n",
        "train_acc7=history31.history['acc']\n",
        "print('Test score:', score[0]) \n",
        "print('Test accuracy:', score[1])\n",
        "\n",
        "fig,ax31 = plt.subplots(1,1)\n",
        "ax31.set_xlabel('epoch') ; ax31.set_ylabel('Categorical Crossentropy Loss')\n",
        "\n",
        "# list of epoch numbers\n",
        "x = list(range(1,nb_epoch+1))\n",
        "\n",
        "\n",
        "vy31 = history31.history['val_loss']\n",
        "ty31 = history31.history['loss']\n",
        "plt_dynamic(x, vy31, ty31, ax31)"
      ],
      "execution_count": 35,
      "outputs": [
        {
          "output_type": "stream",
          "text": [
            "Test score: 0.08620830001483464\n",
            "Test accuracy: 0.9802\n"
          ],
          "name": "stdout"
        },
        {
          "output_type": "display_data",
          "data": {
            "image/png": "[encoded data removed]",
            "text/plain": [
              "<Figure size 432x288 with 1 Axes>"
            ]
          },
          "metadata": {
            "tags": []
          }
        }
      ]
    },
    {
      "cell_type": "markdown",
      "metadata": {
        "id": "JeDm-dE_vRYs",
        "colab_type": "text"
      },
      "source": [
        "\n",
        "## 3.2 MLP + Batch-Norm on hidden Layers + AdamOptimizer"
      ]
    },
    {
      "cell_type": "code",
      "metadata": {
        "id": "RC0eBcUkvURc",
        "colab_type": "code",
        "colab": {}
      },
      "source": [
        "from keras.layers.normalization import BatchNormalization\n",
        "\n",
        "model_batch = Sequential()\n",
        "\n",
        "model_batch.add(Dense(216, activation='relu', input_shape=(input_dim,),\n",
        "                     kernel_initializer=he_normal(seed=None)))\n",
        "model_batch.add(BatchNormalization())\n",
        "model_batch.add(Dense(170, activation='relu', \n",
        "                     kernel_initializer=he_normal(seed=None)) )\n",
        "model_batch.add(BatchNormalization())\n",
        "                                                    \n",
        "model_batch.add(Dense(136, activation='relu', \n",
        "                     kernel_initializer=he_normal(seed=None)) )\n",
        "model_batch.add(BatchNormalization())\n",
        "model_batch.add(Dense(80, activation='relu', \n",
        "                     kernel_initializer=he_normal(seed=None)) )\n",
        "model_batch.add(BatchNormalization())\n",
        "                                                    \n",
        "model_batch.add(Dense(38, activation='relu', \n",
        "                     kernel_initializer=he_normal(seed=None)) )\n",
        "model_batch.add(BatchNormalization())\n",
        "\n",
        "model_batch.add(Dense(output_dim, activation='softmax'))"
      ],
      "execution_count": 0,
      "outputs": []
    },
    {
      "cell_type": "code",
      "metadata": {
        "id": "xG8ntreKvoQP",
        "colab_type": "code",
        "colab": {
          "base_uri": "https://localhost:8080/",
          "height": 683
        },
        "outputId": "38e5c886-37d9-4135-f099-2b0cc0e69136"
      },
      "source": [
        "\n",
        "model_batch.compile(optimizer='adam', loss='categorical_crossentropy', \n",
        "                    metrics=['accuracy'])\n",
        "\n",
        "history32 = model_batch.fit(x_train, y_train, \n",
        "                           batch_size=batch_size,\n",
        "                           epochs=nb_epoch, verbose=1, \n",
        "                           validation_data=(x_test, y_test))"
      ],
      "execution_count": 37,
      "outputs": [
        {
          "output_type": "stream",
          "text": [
            "Train on 60000 samples, validate on 10000 samples\n",
            "Epoch 1/20\n",
            "60000/60000 [==============================] - 11s 177us/step - loss: 0.2858 - acc: 0.9173 - val_loss: 0.1387 - val_acc: 0.9587\n",
            "Epoch 2/20\n",
            "60000/60000 [==============================] - 9s 152us/step - loss: 0.1038 - acc: 0.9687 - val_loss: 0.1270 - val_acc: 0.9616\n",
            "Epoch 3/20\n",
            "60000/60000 [==============================] - 8s 140us/step - loss: 0.0726 - acc: 0.9777 - val_loss: 0.0891 - val_acc: 0.9745\n",
            "Epoch 4/20\n",
            "60000/60000 [==============================] - 9s 147us/step - loss: 0.0546 - acc: 0.9832 - val_loss: 0.0853 - val_acc: 0.9750\n",
            "Epoch 5/20\n",
            "60000/60000 [==============================] - 9s 146us/step - loss: 0.0444 - acc: 0.9859 - val_loss: 0.1102 - val_acc: 0.9684\n",
            "Epoch 6/20\n",
            "60000/60000 [==============================] - 9s 146us/step - loss: 0.0389 - acc: 0.9874 - val_loss: 0.0972 - val_acc: 0.9719\n",
            "Epoch 7/20\n",
            "60000/60000 [==============================] - 9s 142us/step - loss: 0.0342 - acc: 0.9891 - val_loss: 0.0883 - val_acc: 0.9759\n",
            "Epoch 8/20\n",
            "60000/60000 [==============================] - 9s 146us/step - loss: 0.0311 - acc: 0.9898 - val_loss: 0.0846 - val_acc: 0.9769\n",
            "Epoch 9/20\n",
            "60000/60000 [==============================] - 9s 143us/step - loss: 0.0250 - acc: 0.9916 - val_loss: 0.0904 - val_acc: 0.9744\n",
            "Epoch 10/20\n",
            "60000/60000 [==============================] - 9s 145us/step - loss: 0.0226 - acc: 0.9921 - val_loss: 0.0853 - val_acc: 0.9776\n",
            "Epoch 11/20\n",
            "60000/60000 [==============================] - 9s 142us/step - loss: 0.0228 - acc: 0.9927 - val_loss: 0.0757 - val_acc: 0.9786\n",
            "Epoch 12/20\n",
            "60000/60000 [==============================] - 8s 139us/step - loss: 0.0234 - acc: 0.9925 - val_loss: 0.0837 - val_acc: 0.9789\n",
            "Epoch 13/20\n",
            "60000/60000 [==============================] - 9s 142us/step - loss: 0.0202 - acc: 0.9934 - val_loss: 0.0825 - val_acc: 0.9774\n",
            "Epoch 14/20\n",
            "60000/60000 [==============================] - 9s 148us/step - loss: 0.0169 - acc: 0.9945 - val_loss: 0.0775 - val_acc: 0.9791\n",
            "Epoch 15/20\n",
            "60000/60000 [==============================] - 9s 146us/step - loss: 0.0151 - acc: 0.9950 - val_loss: 0.0776 - val_acc: 0.9790\n",
            "Epoch 16/20\n",
            "60000/60000 [==============================] - 8s 141us/step - loss: 0.0158 - acc: 0.9948 - val_loss: 0.0951 - val_acc: 0.9757\n",
            "Epoch 17/20\n",
            "60000/60000 [==============================] - 9s 144us/step - loss: 0.0148 - acc: 0.9951 - val_loss: 0.0812 - val_acc: 0.9801\n",
            "Epoch 18/20\n",
            "60000/60000 [==============================] - 8s 140us/step - loss: 0.0151 - acc: 0.9950 - val_loss: 0.0796 - val_acc: 0.9782\n",
            "Epoch 19/20\n",
            "60000/60000 [==============================] - 8s 142us/step - loss: 0.0130 - acc: 0.9955 - val_loss: 0.0803 - val_acc: 0.9795\n",
            "Epoch 20/20\n",
            "60000/60000 [==============================] - 8s 137us/step - loss: 0.0125 - acc: 0.9954 - val_loss: 0.1013 - val_acc: 0.9763\n"
          ],
          "name": "stdout"
        }
      ]
    },
    {
      "cell_type": "code",
      "metadata": {
        "id": "yOFVQzTzvtY-",
        "colab_type": "code",
        "colab": {
          "base_uri": "https://localhost:8080/",
          "height": 311
        },
        "outputId": "0202e938-3873-4cbc-82d9-90a1052cbbe0"
      },
      "source": [
        "score = model_batch.evaluate(x_test, y_test, verbose=0) \n",
        "score15=score[0]\n",
        "score16=score[1]\n",
        "train_acc8=history32.history['acc']\n",
        "print('Test score:', score[0]) \n",
        "print('Test accuracy:', score[1])\n",
        "\n",
        "fig,ax32 = plt.subplots(1,1)\n",
        "ax32.set_xlabel('epoch') ; ax32.set_ylabel('Categorical Crossentropy Loss')\n",
        "\n",
        "# list of epoch numbers\n",
        "x = list(range(1,nb_epoch+1))\n",
        "\n",
        "vy32 = history32.history['val_loss']\n",
        "ty32 = history32.history['loss']\n",
        "plt_dynamic(x, vy32, ty32, ax32)"
      ],
      "execution_count": 38,
      "outputs": [
        {
          "output_type": "stream",
          "text": [
            "Test score: 0.10129379731067165\n",
            "Test accuracy: 0.9763\n"
          ],
          "name": "stdout"
        },
        {
          "output_type": "display_data",
          "data": {
            "image/png": "[encoded data removed]",
            "text/plain": [
              "<Figure size 432x288 with 1 Axes>"
            ]
          },
          "metadata": {
            "tags": []
          }
        }
      ]
    },
    {
      "cell_type": "markdown",
      "metadata": {
        "id": "2DhgF6NmwkeC",
        "colab_type": "text"
      },
      "source": [
        "## 3.3 MLP + Dropout + AdamOptimizer"
      ]
    },
    {
      "cell_type": "code",
      "metadata": {
        "id": "11Lfz6zWwooz",
        "colab_type": "code",
        "colab": {}
      },
      "source": [
        "\n",
        "# https://stackoverflow.com/questions/34716454/where-do-i-call-the-batchnormalization-function-in-keras\n",
        "\n",
        "from keras.layers import Dropout\n",
        "\n",
        "model_drop = Sequential()\n",
        "model_relu.add(Dense(216, activation='relu', input_shape=(input_dim,),\n",
        "                     kernel_initializer=he_normal(seed=None)))\n",
        "model_drop.add(BatchNormalization())\n",
        "model_drop.add(Dropout(0.5))\n",
        "model_relu.add(Dense(170, activation='relu', \n",
        "                     kernel_initializer=he_normal(seed=None)) )\n",
        "model_drop.add(BatchNormalization())\n",
        "model_drop.add(Dropout(0.5))\n",
        "                                                    \n",
        "model_relu.add(Dense(136, activation='relu', \n",
        "                     kernel_initializer=he_normal(seed=None)) )\n",
        "model_drop.add(BatchNormalization())\n",
        "model_drop.add(Dropout(0.5))\n",
        "model_relu.add(Dense(80, activation='relu', \n",
        "                     kernel_initializer=he_normal(seed=None)) )\n",
        "model_drop.add(BatchNormalization())\n",
        "model_drop.add(Dropout(0.5))\n",
        "                                                    \n",
        "model_relu.add(Dense(38, activation='relu', \n",
        "                     kernel_initializer=he_normal(seed=None)) )\n",
        "model_drop.add(BatchNormalization())\n",
        "model_drop.add(Dropout(0.5))\n",
        "\n",
        "model_drop.add(Dense(output_dim, activation='softmax'))"
      ],
      "execution_count": 0,
      "outputs": []
    },
    {
      "cell_type": "code",
      "metadata": {
        "id": "aWu9RcRKw_xQ",
        "colab_type": "code",
        "colab": {
          "base_uri": "https://localhost:8080/",
          "height": 683
        },
        "outputId": "ab2f021f-f247-4257-ca3a-8fe146709176"
      },
      "source": [
        "model_drop.compile(optimizer='adam',\n",
        "                   loss='categorical_crossentropy',\n",
        "                   metrics=['accuracy'])\n",
        "\n",
        "history33 = model_drop.fit(x_train, y_train,\n",
        "                         batch_size=batch_size,\n",
        "                         \n",
        "                         epochs=nb_epoch, verbose=1,\n",
        "                         validation_data=(x_test, y_test))"
      ],
      "execution_count": 40,
      "outputs": [
        {
          "output_type": "stream",
          "text": [
            "Train on 60000 samples, validate on 10000 samples\n",
            "Epoch 1/20\n",
            "60000/60000 [==============================] - 10s 159us/step - loss: 2.1425 - acc: 0.3134 - val_loss: 1.0614 - val_acc: 0.8291\n",
            "Epoch 2/20\n",
            "60000/60000 [==============================] - 7s 123us/step - loss: 1.6121 - acc: 0.4428 - val_loss: 0.9726 - val_acc: 0.8454\n",
            "Epoch 3/20\n",
            "60000/60000 [==============================] - 7s 124us/step - loss: 1.5926 - acc: 0.4454 - val_loss: 0.9493 - val_acc: 0.8461\n",
            "Epoch 4/20\n",
            "60000/60000 [==============================] - 7s 119us/step - loss: 1.5967 - acc: 0.4477 - val_loss: 0.9519 - val_acc: 0.8491\n",
            "Epoch 5/20\n",
            "60000/60000 [==============================] - 7s 124us/step - loss: 1.5898 - acc: 0.4500 - val_loss: 0.9546 - val_acc: 0.8508\n",
            "Epoch 6/20\n",
            "60000/60000 [==============================] - 7s 122us/step - loss: 1.5842 - acc: 0.4518 - val_loss: 0.9440 - val_acc: 0.8517\n",
            "Epoch 7/20\n",
            "60000/60000 [==============================] - 7s 119us/step - loss: 1.5921 - acc: 0.4481 - val_loss: 0.9443 - val_acc: 0.8472\n",
            "Epoch 8/20\n",
            "60000/60000 [==============================] - 8s 126us/step - loss: 1.5814 - acc: 0.4523 - val_loss: 0.9398 - val_acc: 0.8508\n",
            "Epoch 9/20\n",
            "60000/60000 [==============================] - 7s 122us/step - loss: 1.5763 - acc: 0.4540 - val_loss: 0.9408 - val_acc: 0.8507\n",
            "Epoch 10/20\n",
            "60000/60000 [==============================] - 7s 124us/step - loss: 1.5733 - acc: 0.4547 - val_loss: 0.9365 - val_acc: 0.8480\n",
            "Epoch 11/20\n",
            "60000/60000 [==============================] - 7s 122us/step - loss: 1.5717 - acc: 0.4571 - val_loss: 0.9347 - val_acc: 0.8498\n",
            "Epoch 12/20\n",
            "60000/60000 [==============================] - 7s 115us/step - loss: 1.5730 - acc: 0.4579 - val_loss: 0.9434 - val_acc: 0.8527\n",
            "Epoch 13/20\n",
            "60000/60000 [==============================] - 8s 125us/step - loss: 1.5653 - acc: 0.4561 - val_loss: 0.9355 - val_acc: 0.8506\n",
            "Epoch 14/20\n",
            "60000/60000 [==============================] - 8s 125us/step - loss: 1.5702 - acc: 0.4562 - val_loss: 0.9378 - val_acc: 0.8421\n",
            "Epoch 15/20\n",
            "60000/60000 [==============================] - 7s 122us/step - loss: 1.5662 - acc: 0.4600 - val_loss: 0.9372 - val_acc: 0.8495\n",
            "Epoch 16/20\n",
            "60000/60000 [==============================] - 8s 126us/step - loss: 1.5578 - acc: 0.4607 - val_loss: 0.9307 - val_acc: 0.8477\n",
            "Epoch 17/20\n",
            "60000/60000 [==============================] - 7s 124us/step - loss: 1.5557 - acc: 0.4614 - val_loss: 0.9326 - val_acc: 0.8485\n",
            "Epoch 18/20\n",
            "60000/60000 [==============================] - 7s 122us/step - loss: 1.5668 - acc: 0.4577 - val_loss: 0.9349 - val_acc: 0.8527\n",
            "Epoch 19/20\n",
            "60000/60000 [==============================] - 7s 122us/step - loss: 1.5643 - acc: 0.4562 - val_loss: 0.9344 - val_acc: 0.8490\n",
            "Epoch 20/20\n",
            "60000/60000 [==============================] - 7s 117us/step - loss: 1.5594 - acc: 0.4606 - val_loss: 0.9304 - val_acc: 0.8520\n"
          ],
          "name": "stdout"
        }
      ]
    },
    {
      "cell_type": "code",
      "metadata": {
        "id": "IdV3ygWyxPN_",
        "colab_type": "code",
        "colab": {
          "base_uri": "https://localhost:8080/",
          "height": 315
        },
        "outputId": "4766b326-fdff-44fe-eb87-3337efb4f5d6"
      },
      "source": [
        "score = model_drop.evaluate(x_test, y_test, verbose=0) \n",
        "score17=score[0]\n",
        "score18=score[1]\n",
        "train_acc9=history33.history['acc']\n",
        "print('Test score:', score[0]) \n",
        "print('Test accuracy:', score[1])\n",
        "\n",
        "fig,ax33 = plt.subplots(1,1)\n",
        "ax33.set_xlabel('epoch') ; ax33.set_ylabel('Categorical Crossentropy Loss')\n",
        "\n",
        "# list of epoch numbers\n",
        "x = list(range(1,nb_epoch+1))\n",
        "\n",
        "\n",
        "vy33 = history33.history['val_loss']\n",
        "ty33 = history33.history['loss']\n",
        "plt_dynamic(x, vy33, ty33, ax33)"
      ],
      "execution_count": 41,
      "outputs": [
        {
          "output_type": "stream",
          "text": [
            "Test score: 0.9304374290466308\n",
            "Test accuracy: 0.852\n"
          ],
          "name": "stdout"
        },
        {
          "output_type": "display_data",
          "data": {
            "image/png": "[encoded data removed]",
            "text/plain": [
              "<Figure size 432x288 with 1 Axes>"
            ]
          },
          "metadata": {
            "tags": []
          }
        }
      ]
    },
    {
      "cell_type": "markdown",
      "metadata": {
        "id": "txfJ3guexmeP",
        "colab_type": "text"
      },
      "source": [
        "# Final observation:"
      ]
    },
    {
      "cell_type": "code",
      "metadata": {
        "id": "1UaT7m5dxqO8",
        "colab_type": "code",
        "colab": {}
      },
      "source": [
        "from prettytable import PrettyTable"
      ],
      "execution_count": 0,
      "outputs": []
    },
    {
      "cell_type": "code",
      "metadata": {
        "id": "JCVJEffTybSQ",
        "colab_type": "code",
        "colab": {}
      },
      "source": [
        "\n",
        "models=['2_hidden_layer MLP+ReLu+Adam',\n",
        "        '2_hidden_layer MLP+Relu+adam+BN',\n",
        "        '2_hidden_layer MLP+reLu+Adam+BN+Drop-out',\n",
        "       '3_hidden_layer MLP+ReLu+Adam',\n",
        "        '3_hidden_layer MLP+Relu+adam+BN',\n",
        "        '3_hidden_layer MLP+reLu+Adam+BN+Drop-out',\n",
        "       '5_hidden_layer MLP+ReLu+Adam',\n",
        "        '5_hidden_layer MLP+Relu+adam+BN',\n",
        "        '5_hidden_layer MLP+reLu+Adam+BN+Drop-out']"
      ],
      "execution_count": 0,
      "outputs": []
    },
    {
      "cell_type": "code",
      "metadata": {
        "id": "nzsymUtcyfAe",
        "colab_type": "code",
        "colab": {}
      },
      "source": [
        "training_accuracy=[train_acc1,train_acc2,train_acc3,train_acc4,\n",
        "                   train_acc5,train_acc6,train_acc7,train_acc8,\n",
        "                   train_acc9\n",
        "                   \n",
        "                  ]"
      ],
      "execution_count": 0,
      "outputs": []
    },
    {
      "cell_type": "code",
      "metadata": {
        "id": "WnpQdvQPyjti",
        "colab_type": "code",
        "colab": {}
      },
      "source": [
        "test_accuracy=[score2,score4,score6,score8,score10,score12,score14,\n",
        "              score16,\n",
        "              score18]\n",
        "INDEX = [1,2,3,4,5,6,7,8,9]"
      ],
      "execution_count": 0,
      "outputs": []
    },
    {
      "cell_type": "code",
      "metadata": {
        "id": "Mu6uxHM0ysMO",
        "colab_type": "code",
        "colab": {
          "base_uri": "https://localhost:8080/",
          "height": 248
        },
        "outputId": "a3747fec-2324-4b74-d996-f996ae6181d7"
      },
      "source": [
        "# Initializing prettytable\n",
        "Model_Performance = PrettyTable()\n",
        "# Adding columns\n",
        "Model_Performance.add_column(\"INDEX.\",INDEX)\n",
        "Model_Performance.add_column(\"MODEL_NAME\",models)\n",
        "Model_Performance.add_column(\"TRAINING ACCURACY\",training_accuracy)\n",
        "Model_Performance.add_column(\"TESTING ACCURACY\",test_accuracy)\n",
        "\n",
        "print(Model_Performance)"
      ],
      "execution_count": 47,
      "outputs": [
        {
          "output_type": "stream",
          "text": [
            "+--------+------------------------------------------+-------------------------------------------------------------------------------------------------------------------------------------------------------------------------------------------------------------------------------------------------------------------------------------------------------------------------------------------------------------------------------------------------------------------------------+------------------+\n",
            "| INDEX. |                MODEL_NAME                |                                                                                                                                                                                                       TRAINING ACCURACY                                                                                                                                                                                                       | TESTING ACCURACY |\n",
            "+--------+------------------------------------------+-------------------------------------------------------------------------------------------------------------------------------------------------------------------------------------------------------------------------------------------------------------------------------------------------------------------------------------------------------------------------------------------------------------------------------+------------------+\n",
            "|   1    |       2_hidden_layer MLP+ReLu+Adam       |                          [0.9302, 0.9732666666348775, 0.9824833333015441, 0.9880166666666667, 0.9900999999682109, 0.9931833333333333, 0.9951666666348775, 0.9956166666666667, 0.9940666666348775, 0.9959166666666667, 0.9967666666666667, 0.9963333333333333, 0.9976666666666667, 0.9965166666984558, 0.9973833333333333, 0.9973, 0.9975, 0.9978333333333333, 0.9971999999682108, 0.9981833333333333]                         |      0.9806      |\n",
            "|   2    |     2_hidden_layer MLP+Relu+adam+BN      |                          [0.9439333333015442, 0.9789166666666667, 0.9859166666666667, 0.9897333333333334, 0.9919666666348775, 0.9928166666348776, 0.9937333333015442, 0.9940333333015442, 0.99395, 0.9958499999682109, 0.9961666666666666, 0.9971166666666667, 0.997, 0.9958999999682109, 0.9957666666984558, 0.9968999999682109, 0.9978, 0.9974333333333333, 0.9974666666666666, 0.9979833333333333]                         |      0.9821      |\n",
            "|   3    | 2_hidden_layer MLP+reLu+Adam+BN+Drop-out |                               [0.8699833333015442, 0.9376499999682109, 0.95125, 0.9595499999682109, 0.96245, 0.9660499999682108, 0.9688499999682109, 0.9710333333015442, 0.9717666666666667, 0.9742666666348775, 0.9756166666348776, 0.9763333333015441, 0.9773166666984558, 0.9785833333651225, 0.9798, 0.9802, 0.9814666666666667, 0.9809666666348775, 0.9817999999682109, 0.9830833333015442]                              |      0.9832      |\n",
            "|   4    |       3_hidden_layer MLP+ReLu+Adam       |                         [0.9299166666666666, 0.9729500000317891, 0.9811333333015442, 0.9869833333015442, 0.9892166666666666, 0.9908500000317891, 0.9925333333015441, 0.9938166666666667, 0.9950166666348775, 0.9941666666666666, 0.9944666666348775, 0.9957166666348776, 0.9958666666666667, 0.9963, 0.9967, 0.9955166666348775, 0.9967999999682109, 0.9980666666666667, 0.99795, 0.9969166666348775]                         |      0.9782      |\n",
            "|   5    |     3_hidden_layer MLP+Relu+adam+BN      |                              [0.9349333333333333, 0.9752166666984559, 0.9836500000317892, 0.9871666666666666, 0.9904333333015441, 0.9917999999682109, 0.9929333333015442, 0.9929166666348775, 0.9928499999682109, 0.9941, 0.99485, 0.99495, 0.9960666666666667, 0.9959333333015442, 0.9950999999682109, 0.9969333333333333, 0.9968166666666667, 0.99675, 0.9963166666666666, 0.9969833333333333]                              |      0.9808      |\n",
            "|   6    | 3_hidden_layer MLP+reLu+Adam+BN+Drop-out |                   [0.7893333333015442, 0.9157166666666666, 0.9351, 0.9454666666348776, 0.9510666666666666, 0.9555833333651225, 0.9592666666348775, 0.9624999999682109, 0.9642166666984558, 0.96525, 0.9684333333015442, 0.9703666666984558, 0.9710833333651224, 0.9711833333333333, 0.9738000000317891, 0.9738000000317891, 0.9742333333333333, 0.9763166666666667, 0.9767000000317891, 0.9771166666984558]                   |      0.9824      |\n",
            "|   7    |       5_hidden_layer MLP+ReLu+Adam       |                         [0.9167166666348775, 0.9675166666666667, 0.9770499999682108, 0.9826333333015442, 0.98545, 0.9888499999682109, 0.9902333333015442, 0.9910000000317891, 0.9921499999682108, 0.9927333333333334, 0.9930333333333333, 0.9939333333015442, 0.9946333333333334, 0.9952166666666666, 0.99485, 0.9964833333651225, 0.9942333333333333, 0.9948666666348776, 0.9963, 0.9963833333015442]                        |      0.9802      |\n",
            "|   8    |     5_hidden_layer MLP+Relu+adam+BN      |                                [0.9172833333651225, 0.9686833333651225, 0.9776999999682109, 0.9831833333651224, 0.9858833333333333, 0.9874333333651225, 0.9891166666984558, 0.9898333333015442, 0.9916166666666667, 0.9920666666666667, 0.9927, 0.9924666666984558, 0.9933833333015442, 0.9945166666666667, 0.99505, 0.9948333333333333, 0.9951499999682109, 0.995, 0.9955333333015441, 0.9954]                               |      0.9763      |\n",
            "|   9    | 5_hidden_layer MLP+reLu+Adam+BN+Drop-out | [0.31344999998410544, 0.4427833333651225, 0.44543333333333335, 0.4476833333651225, 0.45000000003178914, 0.45175000001589455, 0.44813333336512245, 0.45233333331743875, 0.45398333333333335, 0.4547166666825612, 0.45711666668256123, 0.45791666668256126, 0.45609999998410544, 0.45623333331743876, 0.4600166666348775, 0.46071666666666666, 0.4614166666984558, 0.45773333331743876, 0.4561833333492279, 0.4605833333174388] |      0.852       |\n",
            "+--------+------------------------------------------+-------------------------------------------------------------------------------------------------------------------------------------------------------------------------------------------------------------------------------------------------------------------------------------------------------------------------------------------------------------------------------------------------------------------------------+------------------+\n"
          ],
          "name": "stdout"
        }
      ]
    },
    {
      "cell_type": "code",
      "metadata": {
        "id": "ZAZM2KaIzh5k",
        "colab_type": "code",
        "colab": {}
      },
      "source": [
        ""
      ],
      "execution_count": 0,
      "outputs": []
    },
    {
      "cell_type": "code",
      "metadata": {
        "id": "6zgiBj80zvn0",
        "colab_type": "code",
        "colab": {}
      },
      "source": [
        ""
      ],
      "execution_count": 0,
      "outputs": []
    },
    {
      "cell_type": "code",
      "metadata": {
        "id": "dhLusfZi2Ekx",
        "colab_type": "code",
        "colab": {}
      },
      "source": [
        ""
      ],
      "execution_count": 0,
      "outputs": []
    }
  ]
}